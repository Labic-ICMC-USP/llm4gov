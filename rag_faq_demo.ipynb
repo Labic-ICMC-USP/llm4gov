{
 "cells": [
  {
   "cell_type": "code",
   "execution_count": null,
   "metadata": {
    "colab": {
     "base_uri": "https://localhost:8080/"
    },
    "collapsed": true,
    "id": "0ImQjCp2o7LV",
    "outputId": "a747dd50-e5fc-4d14-eadc-f66018f4ddad"
   },
   "outputs": [
    {
     "name": "stdout",
     "output_type": "stream",
     "text": [
      "Cloning into 'llm4gov'...\n",
      "remote: Enumerating objects: 117, done.\u001b[K\n",
      "remote: Counting objects: 100% (117/117), done.\u001b[K\n",
      "remote: Compressing objects: 100% (103/103), done.\u001b[K\n",
      "remote: Total 117 (delta 17), reused 69 (delta 2), pack-reused 0 (from 0)\u001b[K\n",
      "Receiving objects: 100% (117/117), 24.65 KiB | 1.45 MiB/s, done.\n",
      "Resolving deltas: 100% (17/17), done.\n",
      "remote: Enumerating objects: 1, done.\u001b[K\n",
      "remote: Counting objects: 100% (1/1), done.\u001b[K\n",
      "remote: Total 1 (delta 0), reused 0 (delta 0), pack-reused 0 (from 0)\u001b[K\n",
      "Receiving objects: 100% (1/1), 50 bytes | 50.00 KiB/s, done.\n",
      "/content/llm4gov\n",
      "remote: Enumerating objects: 153, done.\u001b[K\n",
      "remote: Counting objects: 100% (153/153), done.\u001b[K\n",
      "remote: Compressing objects: 100% (83/83), done.\u001b[K\n",
      "remote: Total 153 (delta 62), reused 152 (delta 62), pack-reused 0 (from 0)\u001b[K\n",
      "Receiving objects: 100% (153/153), 13.28 MiB | 17.33 MiB/s, done.\n",
      "Resolving deltas: 100% (62/62), done.\n",
      "Updating files: 100% (155/155), done.\n",
      "/content/llm4gov/rag_faq\n",
      "config.yaml    load_pdf.ipynb  rag_faq\t\t run_index.py\n",
      "data\t       projects        rag_faq.egg-info  setup.cfg\n",
      "faq_gen.ipynb  prompts\t       Readme.md\t setup.py\n"
     ]
    }
   ],
   "source": [
    "# Clone rag_faq folder from llm4gov repo\n",
    "!rm -rf llm4gov\n",
    "!git clone --filter=blob:none --sparse https://github.com/Labic-ICMC-USP/llm4gov.git\n",
    "%cd llm4gov\n",
    "!git sparse-checkout set rag_faq\n",
    "%cd rag_faq\n",
    "!ls"
   ]
  },
  {
   "cell_type": "code",
   "execution_count": null,
   "metadata": {
    "colab": {
     "base_uri": "https://localhost:8080/"
    },
    "collapsed": true,
    "id": "ZXqkFR1wqAb7",
    "outputId": "cfac0a84-4093-41b0-f9a7-74aa400f8c44"
   },
   "outputs": [
    {
     "name": "stdout",
     "output_type": "stream",
     "text": [
      "Obtaining file:///content/llm4gov/rag_faq\n",
      "  Preparing metadata (setup.py) ... \u001b[?25l\u001b[?25hdone\n",
      "Requirement already satisfied: langchain in /usr/local/lib/python3.12/dist-packages (from rag-faq==0.1.0) (0.3.27)\n",
      "Collecting langchain_community (from rag-faq==0.1.0)\n",
      "  Downloading langchain_community-0.4-py3-none-any.whl.metadata (3.0 kB)\n",
      "Collecting langchain_openai (from rag-faq==0.1.0)\n",
      "  Downloading langchain_openai-1.0.1-py3-none-any.whl.metadata (1.8 kB)\n",
      "Requirement already satisfied: openai in /usr/local/lib/python3.12/dist-packages (from rag-faq==0.1.0) (1.109.1)\n",
      "Requirement already satisfied: sentence-transformers in /usr/local/lib/python3.12/dist-packages (from rag-faq==0.1.0) (5.1.1)\n",
      "Requirement already satisfied: pandas in /usr/local/lib/python3.12/dist-packages (from rag-faq==0.1.0) (2.2.2)\n",
      "Requirement already satisfied: numpy in /usr/local/lib/python3.12/dist-packages (from rag-faq==0.1.0) (2.0.2)\n",
      "Requirement already satisfied: scikit-learn in /usr/local/lib/python3.12/dist-packages (from rag-faq==0.1.0) (1.6.1)\n",
      "Requirement already satisfied: pyyaml in /usr/local/lib/python3.12/dist-packages (from rag-faq==0.1.0) (6.0.3)\n",
      "Requirement already satisfied: tqdm in /usr/local/lib/python3.12/dist-packages (from rag-faq==0.1.0) (4.67.1)\n",
      "Requirement already satisfied: langchain-core<1.0.0,>=0.3.72 in /usr/local/lib/python3.12/dist-packages (from langchain->rag-faq==0.1.0) (0.3.79)\n",
      "Requirement already satisfied: langchain-text-splitters<1.0.0,>=0.3.9 in /usr/local/lib/python3.12/dist-packages (from langchain->rag-faq==0.1.0) (0.3.11)\n",
      "Requirement already satisfied: langsmith>=0.1.17 in /usr/local/lib/python3.12/dist-packages (from langchain->rag-faq==0.1.0) (0.4.37)\n",
      "Requirement already satisfied: pydantic<3.0.0,>=2.7.4 in /usr/local/lib/python3.12/dist-packages (from langchain->rag-faq==0.1.0) (2.11.10)\n",
      "Requirement already satisfied: SQLAlchemy<3,>=1.4 in /usr/local/lib/python3.12/dist-packages (from langchain->rag-faq==0.1.0) (2.0.44)\n",
      "Requirement already satisfied: requests<3,>=2 in /usr/local/lib/python3.12/dist-packages (from langchain->rag-faq==0.1.0) (2.32.4)\n",
      "INFO: pip is looking at multiple versions of langchain-community to determine which version is compatible with other requirements. This could take a while.\n",
      "Collecting langchain_community (from rag-faq==0.1.0)\n",
      "  Downloading langchain_community-0.3.31-py3-none-any.whl.metadata (3.0 kB)\n",
      "Collecting requests<3,>=2 (from langchain->rag-faq==0.1.0)\n",
      "  Downloading requests-2.32.5-py3-none-any.whl.metadata (4.9 kB)\n",
      "Requirement already satisfied: aiohttp<4.0.0,>=3.8.3 in /usr/local/lib/python3.12/dist-packages (from langchain_community->rag-faq==0.1.0) (3.13.0)\n",
      "Requirement already satisfied: tenacity!=8.4.0,<10.0.0,>=8.1.0 in /usr/local/lib/python3.12/dist-packages (from langchain_community->rag-faq==0.1.0) (8.5.0)\n",
      "Collecting dataclasses-json<0.7.0,>=0.6.7 (from langchain_community->rag-faq==0.1.0)\n",
      "  Downloading dataclasses_json-0.6.7-py3-none-any.whl.metadata (25 kB)\n",
      "Requirement already satisfied: pydantic-settings<3.0.0,>=2.10.1 in /usr/local/lib/python3.12/dist-packages (from langchain_community->rag-faq==0.1.0) (2.11.0)\n",
      "Requirement already satisfied: httpx-sse<1.0.0,>=0.4.0 in /usr/local/lib/python3.12/dist-packages (from langchain_community->rag-faq==0.1.0) (0.4.3)\n",
      "INFO: pip is looking at multiple versions of langchain-openai to determine which version is compatible with other requirements. This could take a while.\n",
      "Collecting langchain_openai (from rag-faq==0.1.0)\n",
      "  Downloading langchain_openai-1.0.0-py3-none-any.whl.metadata (1.8 kB)\n",
      "  Downloading langchain_openai-0.3.35-py3-none-any.whl.metadata (2.4 kB)\n",
      "Requirement already satisfied: tiktoken<1.0.0,>=0.7.0 in /usr/local/lib/python3.12/dist-packages (from langchain_openai->rag-faq==0.1.0) (0.12.0)\n",
      "Requirement already satisfied: anyio<5,>=3.5.0 in /usr/local/lib/python3.12/dist-packages (from openai->rag-faq==0.1.0) (4.11.0)\n",
      "Requirement already satisfied: distro<2,>=1.7.0 in /usr/local/lib/python3.12/dist-packages (from openai->rag-faq==0.1.0) (1.9.0)\n",
      "Requirement already satisfied: httpx<1,>=0.23.0 in /usr/local/lib/python3.12/dist-packages (from openai->rag-faq==0.1.0) (0.28.1)\n",
      "Requirement already satisfied: jiter<1,>=0.4.0 in /usr/local/lib/python3.12/dist-packages (from openai->rag-faq==0.1.0) (0.11.0)\n",
      "Requirement already satisfied: sniffio in /usr/local/lib/python3.12/dist-packages (from openai->rag-faq==0.1.0) (1.3.1)\n",
      "Requirement already satisfied: typing-extensions<5,>=4.11 in /usr/local/lib/python3.12/dist-packages (from openai->rag-faq==0.1.0) (4.15.0)\n",
      "Requirement already satisfied: python-dateutil>=2.8.2 in /usr/local/lib/python3.12/dist-packages (from pandas->rag-faq==0.1.0) (2.9.0.post0)\n",
      "Requirement already satisfied: pytz>=2020.1 in /usr/local/lib/python3.12/dist-packages (from pandas->rag-faq==0.1.0) (2025.2)\n",
      "Requirement already satisfied: tzdata>=2022.7 in /usr/local/lib/python3.12/dist-packages (from pandas->rag-faq==0.1.0) (2025.2)\n",
      "Requirement already satisfied: scipy>=1.6.0 in /usr/local/lib/python3.12/dist-packages (from scikit-learn->rag-faq==0.1.0) (1.16.2)\n",
      "Requirement already satisfied: joblib>=1.2.0 in /usr/local/lib/python3.12/dist-packages (from scikit-learn->rag-faq==0.1.0) (1.5.2)\n",
      "Requirement already satisfied: threadpoolctl>=3.1.0 in /usr/local/lib/python3.12/dist-packages (from scikit-learn->rag-faq==0.1.0) (3.6.0)\n",
      "Requirement already satisfied: transformers<5.0.0,>=4.41.0 in /usr/local/lib/python3.12/dist-packages (from sentence-transformers->rag-faq==0.1.0) (4.57.1)\n",
      "Requirement already satisfied: torch>=1.11.0 in /usr/local/lib/python3.12/dist-packages (from sentence-transformers->rag-faq==0.1.0) (2.8.0+cu126)\n",
      "Requirement already satisfied: huggingface-hub>=0.20.0 in /usr/local/lib/python3.12/dist-packages (from sentence-transformers->rag-faq==0.1.0) (0.35.3)\n",
      "Requirement already satisfied: Pillow in /usr/local/lib/python3.12/dist-packages (from sentence-transformers->rag-faq==0.1.0) (11.3.0)\n",
      "Requirement already satisfied: aiohappyeyeballs>=2.5.0 in /usr/local/lib/python3.12/dist-packages (from aiohttp<4.0.0,>=3.8.3->langchain_community->rag-faq==0.1.0) (2.6.1)\n",
      "Requirement already satisfied: aiosignal>=1.4.0 in /usr/local/lib/python3.12/dist-packages (from aiohttp<4.0.0,>=3.8.3->langchain_community->rag-faq==0.1.0) (1.4.0)\n",
      "Requirement already satisfied: attrs>=17.3.0 in /usr/local/lib/python3.12/dist-packages (from aiohttp<4.0.0,>=3.8.3->langchain_community->rag-faq==0.1.0) (25.4.0)\n",
      "Requirement already satisfied: frozenlist>=1.1.1 in /usr/local/lib/python3.12/dist-packages (from aiohttp<4.0.0,>=3.8.3->langchain_community->rag-faq==0.1.0) (1.8.0)\n",
      "Requirement already satisfied: multidict<7.0,>=4.5 in /usr/local/lib/python3.12/dist-packages (from aiohttp<4.0.0,>=3.8.3->langchain_community->rag-faq==0.1.0) (6.7.0)\n",
      "Requirement already satisfied: propcache>=0.2.0 in /usr/local/lib/python3.12/dist-packages (from aiohttp<4.0.0,>=3.8.3->langchain_community->rag-faq==0.1.0) (0.4.1)\n",
      "Requirement already satisfied: yarl<2.0,>=1.17.0 in /usr/local/lib/python3.12/dist-packages (from aiohttp<4.0.0,>=3.8.3->langchain_community->rag-faq==0.1.0) (1.22.0)\n",
      "Requirement already satisfied: idna>=2.8 in /usr/local/lib/python3.12/dist-packages (from anyio<5,>=3.5.0->openai->rag-faq==0.1.0) (3.11)\n",
      "Collecting marshmallow<4.0.0,>=3.18.0 (from dataclasses-json<0.7.0,>=0.6.7->langchain_community->rag-faq==0.1.0)\n",
      "  Downloading marshmallow-3.26.1-py3-none-any.whl.metadata (7.3 kB)\n",
      "Collecting typing-inspect<1,>=0.4.0 (from dataclasses-json<0.7.0,>=0.6.7->langchain_community->rag-faq==0.1.0)\n",
      "  Downloading typing_inspect-0.9.0-py3-none-any.whl.metadata (1.5 kB)\n",
      "Requirement already satisfied: certifi in /usr/local/lib/python3.12/dist-packages (from httpx<1,>=0.23.0->openai->rag-faq==0.1.0) (2025.10.5)\n",
      "Requirement already satisfied: httpcore==1.* in /usr/local/lib/python3.12/dist-packages (from httpx<1,>=0.23.0->openai->rag-faq==0.1.0) (1.0.9)\n",
      "Requirement already satisfied: h11>=0.16 in /usr/local/lib/python3.12/dist-packages (from httpcore==1.*->httpx<1,>=0.23.0->openai->rag-faq==0.1.0) (0.16.0)\n",
      "Requirement already satisfied: filelock in /usr/local/lib/python3.12/dist-packages (from huggingface-hub>=0.20.0->sentence-transformers->rag-faq==0.1.0) (3.20.0)\n",
      "Requirement already satisfied: fsspec>=2023.5.0 in /usr/local/lib/python3.12/dist-packages (from huggingface-hub>=0.20.0->sentence-transformers->rag-faq==0.1.0) (2025.3.0)\n",
      "Requirement already satisfied: packaging>=20.9 in /usr/local/lib/python3.12/dist-packages (from huggingface-hub>=0.20.0->sentence-transformers->rag-faq==0.1.0) (25.0)\n",
      "Requirement already satisfied: hf-xet<2.0.0,>=1.1.3 in /usr/local/lib/python3.12/dist-packages (from huggingface-hub>=0.20.0->sentence-transformers->rag-faq==0.1.0) (1.1.10)\n",
      "Requirement already satisfied: jsonpatch<2.0.0,>=1.33.0 in /usr/local/lib/python3.12/dist-packages (from langchain-core<1.0.0,>=0.3.72->langchain->rag-faq==0.1.0) (1.33)\n",
      "Requirement already satisfied: orjson>=3.9.14 in /usr/local/lib/python3.12/dist-packages (from langsmith>=0.1.17->langchain->rag-faq==0.1.0) (3.11.3)\n",
      "Requirement already satisfied: requests-toolbelt>=1.0.0 in /usr/local/lib/python3.12/dist-packages (from langsmith>=0.1.17->langchain->rag-faq==0.1.0) (1.0.0)\n",
      "Requirement already satisfied: zstandard>=0.23.0 in /usr/local/lib/python3.12/dist-packages (from langsmith>=0.1.17->langchain->rag-faq==0.1.0) (0.25.0)\n",
      "Requirement already satisfied: annotated-types>=0.6.0 in /usr/local/lib/python3.12/dist-packages (from pydantic<3.0.0,>=2.7.4->langchain->rag-faq==0.1.0) (0.7.0)\n",
      "Requirement already satisfied: pydantic-core==2.33.2 in /usr/local/lib/python3.12/dist-packages (from pydantic<3.0.0,>=2.7.4->langchain->rag-faq==0.1.0) (2.33.2)\n",
      "Requirement already satisfied: typing-inspection>=0.4.0 in /usr/local/lib/python3.12/dist-packages (from pydantic<3.0.0,>=2.7.4->langchain->rag-faq==0.1.0) (0.4.2)\n",
      "Requirement already satisfied: python-dotenv>=0.21.0 in /usr/local/lib/python3.12/dist-packages (from pydantic-settings<3.0.0,>=2.10.1->langchain_community->rag-faq==0.1.0) (1.1.1)\n",
      "Requirement already satisfied: six>=1.5 in /usr/local/lib/python3.12/dist-packages (from python-dateutil>=2.8.2->pandas->rag-faq==0.1.0) (1.17.0)\n",
      "Requirement already satisfied: charset_normalizer<4,>=2 in /usr/local/lib/python3.12/dist-packages (from requests<3,>=2->langchain->rag-faq==0.1.0) (3.4.4)\n",
      "Requirement already satisfied: urllib3<3,>=1.21.1 in /usr/local/lib/python3.12/dist-packages (from requests<3,>=2->langchain->rag-faq==0.1.0) (2.5.0)\n",
      "Requirement already satisfied: greenlet>=1 in /usr/local/lib/python3.12/dist-packages (from SQLAlchemy<3,>=1.4->langchain->rag-faq==0.1.0) (3.2.4)\n",
      "Requirement already satisfied: regex>=2022.1.18 in /usr/local/lib/python3.12/dist-packages (from tiktoken<1.0.0,>=0.7.0->langchain_openai->rag-faq==0.1.0) (2024.11.6)\n",
      "Requirement already satisfied: setuptools in /usr/local/lib/python3.12/dist-packages (from torch>=1.11.0->sentence-transformers->rag-faq==0.1.0) (75.2.0)\n",
      "Requirement already satisfied: sympy>=1.13.3 in /usr/local/lib/python3.12/dist-packages (from torch>=1.11.0->sentence-transformers->rag-faq==0.1.0) (1.13.3)\n",
      "Requirement already satisfied: networkx in /usr/local/lib/python3.12/dist-packages (from torch>=1.11.0->sentence-transformers->rag-faq==0.1.0) (3.5)\n",
      "Requirement already satisfied: jinja2 in /usr/local/lib/python3.12/dist-packages (from torch>=1.11.0->sentence-transformers->rag-faq==0.1.0) (3.1.6)\n",
      "Requirement already satisfied: nvidia-cuda-nvrtc-cu12==12.6.77 in /usr/local/lib/python3.12/dist-packages (from torch>=1.11.0->sentence-transformers->rag-faq==0.1.0) (12.6.77)\n",
      "Requirement already satisfied: nvidia-cuda-runtime-cu12==12.6.77 in /usr/local/lib/python3.12/dist-packages (from torch>=1.11.0->sentence-transformers->rag-faq==0.1.0) (12.6.77)\n",
      "Requirement already satisfied: nvidia-cuda-cupti-cu12==12.6.80 in /usr/local/lib/python3.12/dist-packages (from torch>=1.11.0->sentence-transformers->rag-faq==0.1.0) (12.6.80)\n",
      "Requirement already satisfied: nvidia-cudnn-cu12==9.10.2.21 in /usr/local/lib/python3.12/dist-packages (from torch>=1.11.0->sentence-transformers->rag-faq==0.1.0) (9.10.2.21)\n",
      "Requirement already satisfied: nvidia-cublas-cu12==12.6.4.1 in /usr/local/lib/python3.12/dist-packages (from torch>=1.11.0->sentence-transformers->rag-faq==0.1.0) (12.6.4.1)\n",
      "Requirement already satisfied: nvidia-cufft-cu12==11.3.0.4 in /usr/local/lib/python3.12/dist-packages (from torch>=1.11.0->sentence-transformers->rag-faq==0.1.0) (11.3.0.4)\n",
      "Requirement already satisfied: nvidia-curand-cu12==10.3.7.77 in /usr/local/lib/python3.12/dist-packages (from torch>=1.11.0->sentence-transformers->rag-faq==0.1.0) (10.3.7.77)\n",
      "Requirement already satisfied: nvidia-cusolver-cu12==11.7.1.2 in /usr/local/lib/python3.12/dist-packages (from torch>=1.11.0->sentence-transformers->rag-faq==0.1.0) (11.7.1.2)\n",
      "Requirement already satisfied: nvidia-cusparse-cu12==12.5.4.2 in /usr/local/lib/python3.12/dist-packages (from torch>=1.11.0->sentence-transformers->rag-faq==0.1.0) (12.5.4.2)\n",
      "Requirement already satisfied: nvidia-cusparselt-cu12==0.7.1 in /usr/local/lib/python3.12/dist-packages (from torch>=1.11.0->sentence-transformers->rag-faq==0.1.0) (0.7.1)\n",
      "Requirement already satisfied: nvidia-nccl-cu12==2.27.3 in /usr/local/lib/python3.12/dist-packages (from torch>=1.11.0->sentence-transformers->rag-faq==0.1.0) (2.27.3)\n",
      "Requirement already satisfied: nvidia-nvtx-cu12==12.6.77 in /usr/local/lib/python3.12/dist-packages (from torch>=1.11.0->sentence-transformers->rag-faq==0.1.0) (12.6.77)\n",
      "Requirement already satisfied: nvidia-nvjitlink-cu12==12.6.85 in /usr/local/lib/python3.12/dist-packages (from torch>=1.11.0->sentence-transformers->rag-faq==0.1.0) (12.6.85)\n",
      "Requirement already satisfied: nvidia-cufile-cu12==1.11.1.6 in /usr/local/lib/python3.12/dist-packages (from torch>=1.11.0->sentence-transformers->rag-faq==0.1.0) (1.11.1.6)\n",
      "Requirement already satisfied: triton==3.4.0 in /usr/local/lib/python3.12/dist-packages (from torch>=1.11.0->sentence-transformers->rag-faq==0.1.0) (3.4.0)\n",
      "Requirement already satisfied: tokenizers<=0.23.0,>=0.22.0 in /usr/local/lib/python3.12/dist-packages (from transformers<5.0.0,>=4.41.0->sentence-transformers->rag-faq==0.1.0) (0.22.1)\n",
      "Requirement already satisfied: safetensors>=0.4.3 in /usr/local/lib/python3.12/dist-packages (from transformers<5.0.0,>=4.41.0->sentence-transformers->rag-faq==0.1.0) (0.6.2)\n",
      "Requirement already satisfied: jsonpointer>=1.9 in /usr/local/lib/python3.12/dist-packages (from jsonpatch<2.0.0,>=1.33.0->langchain-core<1.0.0,>=0.3.72->langchain->rag-faq==0.1.0) (3.0.0)\n",
      "Requirement already satisfied: mpmath<1.4,>=1.1.0 in /usr/local/lib/python3.12/dist-packages (from sympy>=1.13.3->torch>=1.11.0->sentence-transformers->rag-faq==0.1.0) (1.3.0)\n",
      "Collecting mypy-extensions>=0.3.0 (from typing-inspect<1,>=0.4.0->dataclasses-json<0.7.0,>=0.6.7->langchain_community->rag-faq==0.1.0)\n",
      "  Downloading mypy_extensions-1.1.0-py3-none-any.whl.metadata (1.1 kB)\n",
      "Requirement already satisfied: MarkupSafe>=2.0 in /usr/local/lib/python3.12/dist-packages (from jinja2->torch>=1.11.0->sentence-transformers->rag-faq==0.1.0) (3.0.3)\n",
      "Downloading langchain_community-0.3.31-py3-none-any.whl (2.5 MB)\n",
      "\u001b[2K   \u001b[90m━━━━━━━━━━━━━━━━━━━━━━━━━━━━━━━━━━━━━━━━\u001b[0m \u001b[32m2.5/2.5 MB\u001b[0m \u001b[31m31.5 MB/s\u001b[0m eta \u001b[36m0:00:00\u001b[0m\n",
      "\u001b[?25hDownloading langchain_openai-0.3.35-py3-none-any.whl (75 kB)\n",
      "\u001b[2K   \u001b[90m━━━━━━━━━━━━━━━━━━━━━━━━━━━━━━━━━━━━━━━━\u001b[0m \u001b[32m76.0/76.0 kB\u001b[0m \u001b[31m5.9 MB/s\u001b[0m eta \u001b[36m0:00:00\u001b[0m\n",
      "\u001b[?25hDownloading dataclasses_json-0.6.7-py3-none-any.whl (28 kB)\n",
      "Downloading requests-2.32.5-py3-none-any.whl (64 kB)\n",
      "\u001b[2K   \u001b[90m━━━━━━━━━━━━━━━━━━━━━━━━━━━━━━━━━━━━━━━━\u001b[0m \u001b[32m64.7/64.7 kB\u001b[0m \u001b[31m5.1 MB/s\u001b[0m eta \u001b[36m0:00:00\u001b[0m\n",
      "\u001b[?25hDownloading marshmallow-3.26.1-py3-none-any.whl (50 kB)\n",
      "\u001b[2K   \u001b[90m━━━━━━━━━━━━━━━━━━━━━━━━━━━━━━━━━━━━━━━━\u001b[0m \u001b[32m50.9/50.9 kB\u001b[0m \u001b[31m4.0 MB/s\u001b[0m eta \u001b[36m0:00:00\u001b[0m\n",
      "\u001b[?25hDownloading typing_inspect-0.9.0-py3-none-any.whl (8.8 kB)\n",
      "Downloading mypy_extensions-1.1.0-py3-none-any.whl (5.0 kB)\n",
      "Installing collected packages: requests, mypy-extensions, marshmallow, typing-inspect, dataclasses-json, langchain_openai, langchain_community, rag-faq\n",
      "  Attempting uninstall: requests\n",
      "    Found existing installation: requests 2.32.4\n",
      "    Uninstalling requests-2.32.4:\n",
      "      Successfully uninstalled requests-2.32.4\n",
      "  Running setup.py develop for rag-faq\n",
      "\u001b[31mERROR: pip's dependency resolver does not currently take into account all the packages that are installed. This behaviour is the source of the following dependency conflicts.\n",
      "google-colab 1.0.0 requires requests==2.32.4, but you have requests 2.32.5 which is incompatible.\u001b[0m\u001b[31m\n",
      "\u001b[0mSuccessfully installed dataclasses-json-0.6.7 langchain_community-0.3.31 langchain_openai-0.3.35 marshmallow-3.26.1 mypy-extensions-1.1.0 rag-faq-0.1.0 requests-2.32.5 typing-inspect-0.9.0\n"
     ]
    }
   ],
   "source": [
    "# Install requirements\n",
    "!pip install -e ."
   ]
  },
  {
   "cell_type": "markdown",
   "metadata": {
    "id": "7fvpiNTZ7iEi"
   },
   "source": [
    "## ⚙️ Configuração e carregamento de dados\n",
    "Define os parâmetros essenciais para gerar FAQs e embeddings.\n",
    "\n",
    "- **Configuração manual** (ajuste conforme necessário):\n",
    "  - **csv_path**: Pasta com os arquivos CSV dos PPCs.\n",
    "  - **course_name**: Nome do curso correspondente ao CSV.\n",
    "  - **project_name**: Pasta onde serão salvos FAQs e embeddings.\n",
    "  - **os.environ['OPENROUTER_API_KEY']**: Chave da API do OpenRouter."
   ]
  },
  {
   "cell_type": "code",
   "execution_count": null,
   "metadata": {
    "colab": {
     "base_uri": "https://localhost:8080/"
    },
    "id": "nucwIGmlqrnO",
    "outputId": "99a50f9c-badd-4196-f22b-95296183ea99"
   },
   "outputs": [
    {
     "name": "stdout",
     "output_type": "stream",
     "text": [
      "Project folder created at: projects/test_project/ppp_bcc\n"
     ]
    }
   ],
   "source": [
    "import os, tempfile, yaml\n",
    "import pandas as pd\n",
    "from pathlib import Path\n",
    "from rag_faq.config import load_config\n",
    "from rag_faq.embedder import embed_faqs\n",
    "from rag_faq.indexer import generate_faqs\n",
    "\n",
    "# =============== EDIT THIS MANUALLY =============== #\n",
    "csv_path = Path(\"data/ppp_bcc/ppp_bcc_chunks.csv\")\n",
    "\n",
    "course_name = \"Bacharelado em Ciência da Computação\"\n",
    "\n",
    "project_name = \"test_project\"\n",
    "\n",
    "os.environ['OPENROUTER_API_KEY'] = \"API_KEY\"\n",
    "# ================================================== #\n",
    "\n",
    "if not csv_path.exists():\n",
    "    raise FileNotFoundError(f\"CSV file not found: {csv_path}\")\n",
    "\n",
    "df = pd.read_csv(csv_path)\n",
    "texts = [str(row.to_dict()) for _, row in df.iterrows()]\n",
    "\n",
    "api_key = os.getenv(\"OPENROUTER_API_KEY\")\n",
    "if api_key is None:\n",
    "    raise ValueError(\"OpenRouter API key not found in environment variables.\")\n",
    "\n",
    "# Cria arquivo de config temporário\n",
    "config = load_config(\"config.yaml\")\n",
    "config[\"llm\"][\"faq_generator\"][\"api_key\"] = api_key\n",
    "config[\"llm\"][\"rag_answer\"][\"api_key\"] = api_key\n",
    "tmp_config = tempfile.NamedTemporaryFile(delete=False, suffix=\".yaml\")\n",
    "tmp_config_path = tmp_config.name\n",
    "tmp_config.close()\n",
    "with open(tmp_config_path, \"w\", encoding=\"utf-8\") as f:\n",
    "    yaml.safe_dump(config, f, allow_unicode=True)\n",
    "\n",
    "doc_stem = csv_path.parent.name\n",
    "project_dir = Path(config[\"paths\"][\"projects_dir\"]) / project_name / doc_stem\n",
    "project_dir.mkdir(parents=True, exist_ok=True)\n",
    "\n",
    "print(f\"Project folder created at: {project_dir}\")"
   ]
  },
  {
   "cell_type": "markdown",
   "metadata": {
    "id": "KVlNTU4m3dQM"
   },
   "source": [
    "## Geração de FAQs\n",
    "Gera perguntas e respostas a partir dos PPCs/CSVs, usando prompts definidos para compor a base de conhecimento do RAG.\n",
    "\n",
    "- **Saída**:\n",
    "  - `individual/faq.csv` — FAQ de uma única persona\n",
    "  - `unificado/faq_aluno.csv`, `unificado/faq_professor.csv`, `unificado/faq_pesquisador.csv` — FAQs por persona\n",
    "  - `unificado/faq.csv` — FAQ combinado de todas as personas\n"
   ]
  },
  {
   "cell_type": "markdown",
   "metadata": {
    "id": "HFZvnfiY9v-s"
   },
   "source": [
    "### 🎯 Geração de FAQs (Persona única)\n",
    "Gera FAQs para uma única persona (ex.: aluno).\n",
    "\n",
    "- **Objetivo**:\n",
    "  - Criar um conjunto de FAQs focado em um tipo específico de usuário\n",
    "  - Salvar no subdiretório `individual`\n",
    "\n",
    "- **Saída**: `individual/faq.csv` com perguntas e respostas voltadas à persona.\n"
   ]
  },
  {
   "cell_type": "code",
   "execution_count": null,
   "metadata": {
    "colab": {
     "base_uri": "https://localhost:8080/"
    },
    "id": "B33iPa_8sArU",
    "outputId": "b8ca678d-4e1d-464f-b2ca-93a3b73e8b84"
   },
   "outputs": [
    {
     "name": "stderr",
     "output_type": "stream",
     "text": [
      "Generating FAQs: 100%|██████████| 35/35 [07:23<00:00, 12.66s/it]"
     ]
    },
    {
     "name": "stdout",
     "output_type": "stream",
     "text": [
      "✅ FAQ saved to: projects/test_project/ppp_bcc/individual/faq.csv\n"
     ]
    },
    {
     "name": "stderr",
     "output_type": "stream",
     "text": [
      "\n"
     ]
    }
   ],
   "source": [
    "# Cria um diretório individual para FAQs de uma única persona\n",
    "individual_dir = project_dir / \"individual\"\n",
    "individual_dir.mkdir(parents=True, exist_ok=True)\n",
    "\n",
    "persona = \"aluno\"\n",
    "generate_faqs(config, individual_dir, texts, course_name, persona)"
   ]
  },
  {
   "cell_type": "code",
   "execution_count": null,
   "metadata": {
    "colab": {
     "base_uri": "https://localhost:8080/",
     "height": 293
    },
    "id": "gnMXulNH4OSp",
    "outputId": "253217f2-b890-48dd-b5ae-76c4eec62951"
   },
   "outputs": [
    {
     "data": {
      "application/vnd.google.colaboratory.intrinsic+json": {
       "summary": "{\n  \"name\": \"    print(f\\\"A: {example_row['answer']}\\\")\",\n  \"rows\": 5,\n  \"fields\": [\n    {\n      \"column\": \"source_text\",\n      \"properties\": {\n        \"dtype\": \"string\",\n        \"num_unique_values\": 5,\n        \"samples\": [\n          \"{'doc_name': 'ppp_bcc', 'chunk_id': 7, 'start_page': 7, 'end_page': 8, 'pages': '7,8', 'text': '7 \\u25cf Aulas expositivas convencionais; \\u25cf Aulas expositivas apoiadas por equipamentos audiovisuais que possibilitam a demonstra\\u00e7\\u00e3o dos conceitos; \\u25cf Aulas em laborat\\u00f3rio de software e hardware, onde s\\u00e3o desenvolvidas atividades pr\\u00e1ticas relacionadas aos conceitos adquiridos; \\u25cf Apresenta\\u00e7\\u00e3o de semin\\u00e1rios e elabora\\u00e7\\u00e3o de monografias, visando tanto uma participa\\u00e7\\u00e3o mais efetiva do aluno na sala de aula como a capacita\\u00e7\\u00e3o de sua express\\u00e3o oral e escrita. A utiliza\\u00e7\\u00e3o de m\\u00e9todos alternativos, tais como semin\\u00e1rios, trabalhos em grupo e aulas pr\\u00e1ticas, contribuem para que os alunos sejam participantes ativos do processo de ensino aprendizagem. Dessa forma, o aluno n\\u00e3o apenas receber\\u00e1 os conhecimentos t\\u00e9cnicos necess\\u00e1rios, mas tamb\\u00e9m ser\\u00e1 preparado para se tornar um profissional ativo, criativo e possuidor de um racioc\\u00ednio cr\\u00edtico. Apesar da utiliza\\u00e7\\u00e3o de diferentes m\\u00e9todos de ensino, apenas as disciplinas n\\u00e3o s\\u00e3o suficientes para promover toda a forma\\u00e7\\u00e3o necess\\u00e1ria. Diferentes tipos de atividades extracurriculares s\\u00e3o oferecidos aos alunos, tais como: \\u25cf Programas de Inicia\\u00e7\\u00e3o Cient\\u00edfica e Tecnol\\u00f3gica: os alunos do ICMC t\\u00eam a oportunidade de participar dos grupos de pesquisa e de trabalho, com a possibilidade de obten\\u00e7\\u00e3o de bolsas de inicia\\u00e7\\u00e3o cient\\u00edfica e tecnol\\u00f3gica oferecidas por ag\\u00eancias governamentais (PIBIC, FAPESP, etc.). Os alunos com bom desempenho acad\\u00eamico e com determinada renda familiar tamb\\u00e9m podem ser contemplados com as bolsas de perman\\u00eancia estudantil e com fins variados (como \\u201censino\\u201d e \\u201ccultura e extens\\u00e3o\\u201d), em conson\\u00e2ncia com a pol\\u00edtica de inclus\\u00e3o da USP. Existem tamb\\u00e9m nos departamentos de computa\\u00e7\\u00e3o Programas institucionais de Inicia\\u00e7\\u00e3o Cient\\u00edfica (PIC), por meio dos quais os alunos que n\\u00e3o obt\\u00eam bolsas podem realizar pesquisa com os orientadores dos departamentos. O desenvolvimento desses trabalhos contribui tanto para o aprimoramento dos conhecimentos do aluno quanto para a obten\\u00e7\\u00e3o de experi\\u00eancia no desenvolvimento de pesquisas e no relacionamento com pesquisadores e com outros alunos. \\u25cf Grupo PET: o curso de Bacharelado em Ci\\u00eancias de Computa\\u00e7\\u00e3o conta com um Grupo PET (Programa de Educa\\u00e7\\u00e3o Tutorial), cujas atividades iniciaram em setembro de 1995 e focam na integra\\u00e7\\u00e3o de ensino, pesquisa e extens\\u00e3o para a melhor forma\\u00e7\\u00e3o dos alunos. Os objetivos b\\u00e1sicos do Grupo PET s\\u00e3o a diversifica\\u00e7\\u00e3o da forma\\u00e7\\u00e3o dos alunos, o oferecimento de condi\\u00e7\\u00f5es especiais de desenvolvimento para os bolsistas, a promo\\u00e7\\u00e3o de atividades estendidas aos demais alunos de gradua\\u00e7\\u00e3o e a dissemina\\u00e7\\u00e3o dos conhecimentos dos alunos do grupo aos demais alunos do curso. Dessa forma, a exist\\u00eancia do grupo PET \\u00e9 relevante tanto para os bolsistas PET (diante da oportunidade de estarem mais bem preparados para a vida profissional) como para os demais alunos da gradua\\u00e7\\u00e3o, pois muitas das atividades organizadas pelo grupo s\\u00e3o abertas aos demais alunos e o desenvolvimento dos alunos do PET pode ser repassado aos demais por meio de semin\\u00e1rios, conversas informais, etc. \\u25cf Semana da Computa\\u00e7\\u00e3o: o grupo PET promove anualmente a Semana de Computa\\u00e7\\u00e3o. Essa semana conta com diversos eventos, incluindo palestras, minicursos e pain\\u00e9is. Esse evento atrai grande interesse e tem se destacado no campus, pois abre espa\\u00e7o para discuss\\u00f5es de assuntos que interessam a toda a comunidade e para a apresenta\\u00e7\\u00e3o de palestras e de trabalhos que vem sendo\\\\n\\\\n8 desenvolvidos, principalmente, nos Departamentos de Ci\\u00eancias de Computa\\u00e7\\u00e3o e de Sistemas de Computa\\u00e7\\u00e3o do ICMC. \\u25cf Empresa J\\u00fanior: a ICMC J\\u00fanior \\u00e9 uma empresa sem fins lucrativos, formada por alunos da gradua\\u00e7\\u00e3o, com o objetivo de complementar a forma\\u00e7\\u00e3o do aluno por meio do contato com o mercado de trabalho e com a administra\\u00e7\\u00e3o de uma empresa. A empresa J\\u00fanior \\u00e9 acompanhada por um docente do ICMC USP, mas gerenciada pelos alunos, sendo que eles se responsabilizam pela administra\\u00e7\\u00e3o e pelo desenvolvimento de projetos. \\u25cf Tutoriais para a gradua\\u00e7\\u00e3o: os Tutoriais da Computa\\u00e7\\u00e3o t\\u00eam como objetivo a apresenta\\u00e7\\u00e3o de semin\\u00e1rios e de discuss\\u00f5es que consideram t\\u00f3picos gerais e b\\u00e1sicos, acess\\u00edveis aos alunos de gradua\\u00e7\\u00e3o. Normalmente, os tutoriais acontecem quinzenalmente e contam com um p\\u00fablico significativo, constitu\\u00eddo de alunos de gradua\\u00e7\\u00e3o e de p\\u00f3s gradua\\u00e7\\u00e3o, tanto do ICMC como de outras unidades da USP e de outras institui\\u00e7\\u00f5es de S\\u00e3o Carlos. \\u25cf Participa\\u00e7\\u00e3o em Eventos Cient\\u00edficos: os Departamentos de Ci\\u00eancias de Computa\\u00e7\\u00e3o e de Sistemas de Computa\\u00e7\\u00e3o incentivam a participa\\u00e7\\u00e3o dos alunos do Bacharelado em Ci\\u00eancias de Computa\\u00e7\\u00e3o nos principais eventos cient\\u00edficos da \\u00e1rea de computa\\u00e7\\u00e3o. Por exemplo, regularmente, os alunos participam do SIICUSP (Simp\\u00f3sio Internacional de Inicia\\u00e7\\u00e3o Cient\\u00edfica da USP) e de eventos institucionais e aqueles relacionados \\u00e0s competi\\u00e7\\u00f5es de programa\\u00e7\\u00e3o, entre outros. \\u25cf Monitoria: as disciplinas do curso podem ser tamb\\u00e9m um contexto prof\\u00edcuo para que os alunos exercitem um refor\\u00e7o do conte\\u00fado e transmitam os conhecimentos j\\u00e1 adquiridos aos seus colegas. Assim, a atividade de monitoria engloba o acompanhamento de uma disciplina junto com o docente respons\\u00e1vel, auxiliando em aulas de exerc\\u00edcio, corre\\u00e7\\u00e3o de trabalhos e listas de exerc\\u00edcios, bem como oferecendo plant\\u00e3o para esclarecimento de d\\u00favidas. \\u25cf Competi\\u00e7\\u00f5es de programa\\u00e7\\u00e3o: por meio de treinamento em hor\\u00e1rio extracurricular e oferecimentos de disciplinas espec\\u00edficas para esta finalidade, os alunos t\\u00eam a possibilidade de engajamento nos torneios de programa\\u00e7\\u00e3o em n\\u00edvel nacional e internacional. Al\\u00e9m do est\\u00edmulo ao trabalho em grupo, o aluno tem a oportunidade de aprender e aprofundar os conhecimentos em paradigmas de programa\\u00e7\\u00e3o mais avan\\u00e7ados. \\u25cf Internacionaliza\\u00e7\\u00e3o: os alunos do ICMC t\\u00eam \\u00e0 disposi\\u00e7\\u00e3o uma comiss\\u00e3o que lhes auxilia cursar, em universidades estrangeiras conveniadas, disciplinas de gradua\\u00e7\\u00e3o que podem ser aproveitadas como equivalentes ou optativas em seus cursos. Essa \\u00e9 uma experi\\u00eancia enriquecedora tanto do ponto de vista acad\\u00eamico cient\\u00edfico quanto pessoal. Como se percebe, a metodologia de ensino do Bacharelado em Ci\\u00eancias de Computa\\u00e7\\u00e3o n\\u00e3o est\\u00e1 restrita \\u00e0s atividades desenvolvidas em sala de aula. O desenvolvimento das aptid\\u00f5es e, em particular, de cada habilidade definida na Se\\u00e7\\u00e3o 2, \\u00e9 atingido tanto por meio das disciplinas como das atividades complementares. A seguir, s\\u00e3o detalhadas quais disciplinas do curso de Bacharelado em Ci\\u00eancias de Computa\\u00e7\\u00e3o contribuem para a aquisi\\u00e7\\u00e3o de cada aptid\\u00e3o e habilidade especificada.', 'length': 6429, 'num_tokens': 965}\",\n          \"{'doc_name': 'ppp_bcc', 'chunk_id': 34, 'start_page': 34, 'end_page': 35, 'pages': '34,35', 'text': '34 Al\\u00e9m dos cr\\u00e9ditos em disciplinas obrigat\\u00f3rias e optativas, o aluno deve cumprir ao longo do curso: \\\\uf0b7 No m\\u00ednimo 90 horas, correspondente a 3 cr\\u00e9ditos trabalho, de Atividades Acad\\u00eamicas Complementares (AACs), que ser\\u00e3o relacionadas no Hist\\u00f3rico Escolar do aluno. \\\\uf0b7 Atividades de extens\\u00e3o, correspondentes a 466,5 horas: 10% (dez por cento) do total da carga hor\\u00e1ria curricular, em atendimento ao Plano Nacional de Educa\\u00e7\\u00e3o (PNE), regulamentado pela Resolu\\u00e7\\u00e3o CNE/CES n\\u00b0 7/2018. * Grade Refer\\u00eancia Curr\\u00edculo 2024 N\\u00famero de cr\\u00e9ditos exigidos para a conclus\\u00e3o do curso Disciplinas Obrigat\\u00f3rias: 211 (147 cr\\u00e9ditos aula + 64 cr\\u00e9ditos trabalho) Disciplinas Optativas: 30 cr\\u00e9ditos aula Total cr\\u00e9ditos: 241\\\\n\\\\n35 Tabela 1. Disciplinas com Atividades de Extens\\u00e3o C\\u00f3digo Tipo Disciplina Carga hor\\u00e1ria de Atividades de Extens\\u00e3o (horas) SCC0201 obrigat\\u00f3ria Introdu\\u00e7\\u00e3o \\u00e0 Ci\\u00eancia de Computa\\u00e7\\u00e3o II 5 SCC0205 obrigat\\u00f3ria Teoria da Computa\\u00e7\\u00e3o e Linguagens Formais 10 SCC0210 eletiva Laborat\\u00f3rio de Algoritmos Avan\\u00e7ados I 10 SCC0211 eletiva Laborat\\u00f3rio de Algoritmos Avan\\u00e7ados II 10 SCC0213 eletiva Metodologia de Pesquisa em Computa\\u00e7\\u00e3o 10 SCC0218 obrigat\\u00f3ria Algoritmos Avan\\u00e7ados e Aplica\\u00e7\\u00f5es 5 SCC0219 obrigat\\u00f3ria Introdu\\u00e7\\u00e3o ao Desenvolvimento Web 10 SCC0221 obrigat\\u00f3ria Introdu\\u00e7\\u00e3o \\u00e0 Ci\\u00eancia de Computa\\u00e7\\u00e3o I 10 SCC0230 obrigat\\u00f3ria Intelig\\u00eancia Artificial 10 SCC0244 eletiva Minera\\u00e7\\u00e3o a partir de Grandes Bases de Dados 5 SCC0245 eletiva Processamento Anal\\u00edtico de Dados 60 SCC0251 eletiva Processamento de Imagens 10 SCC0260 eletiva Intera\\u00e7\\u00e3o Humano Computador e Experi\\u00eancia do Usu\\u00e1rio 10 SCC0270 eletiva Redes Neurais e Aprendizado Profundo 10 SCC0275 eletiva Introdu\\u00e7\\u00e3o \\u00e0 Ci\\u00eancia de Dados 10 SCC0276 eletiva Aprendizado de M\\u00e1quina 10 SCC0280 eletiva Acessibilidade em Sistemas Computacionais 15 SCC0282 eletiva Recupera\\u00e7\\u00e3o da Informa\\u00e7\\u00e3o 10 SCC0284 eletiva Sistemas de Recomenda\\u00e7\\u00e3o 10 SCC0287 eletiva Minera\\u00e7\\u00e3o de Dados N\\u00e3o Estruturados 10 SCC0633 eletiva Processamento de Linguagem Natural 10 SCC0209 eletiva Empreendedores em Inform\\u00e1tica 10 SME0878 eletiva Minera\\u00e7\\u00e3o Estat\\u00edstica de Dados 60 SSC0180 obrigat\\u00f3ria Eletr\\u00f4nica para Computa\\u00e7\\u00e3o 10 SSC0740 eletiva Sistemas Embarcados 15 SSC0104 obrigat\\u00f3ria Evolu\\u00e7\\u00e3o Hist\\u00f3rica da Computa\\u00e7\\u00e3o e Aplica\\u00e7\\u00f5es 15 SSC0108 obrigat\\u00f3ria Pr\\u00e1tica em Sistemas Digitais 15 SSC0124 obrigat\\u00f3ria An\\u00e1lise e Projeto Orientados a Objetos 15 SSC0128 eletiva Ger\\u00eancia de Projetos 15 SSC0130 obrigat\\u00f3ria Engenharia de Software 15 SSC0140 obrigat\\u00f3ria Sistemas Operacionais I 30 SSC0142 obrigat\\u00f3ria Redes de Computadores 30 SSC0152 eletiva Administra\\u00e7\\u00e3o e Gerenciamento de Redes 30 SSC0158 eletiva Computa\\u00e7\\u00e3o em Nuvem e Arquitetura Orientadas a Servi\\u00e7os 30 SSC0712 eletiva Programa\\u00e7\\u00e3o de Rob\\u00f4s M\\u00f3veis 10 SSC0713 eletiva Sistemas Evolutivos e Aplicados \\u00e0 Rob\\u00f3tica 10 SSC0900 obrigat\\u00f3ria Engenharia de Seguran\\u00e7a 15 SSC0901 eletiva Laborat\\u00f3rio de Engenharia de Seguran\\u00e7a 15 SSC0902 obrigat\\u00f3ria Organiza\\u00e7\\u00e3o e Arquitetura de Computadores 15 SSC0952 eletiva Internet das Coisas 30 SSC0954 eletiva Infraestrutura para Computa\\u00e7\\u00e3o de Alto Desempenho e Sistemas Distribu\\u00eddos 15 SCC0295 eletiva Atividades Acad\\u00eamicas de Extens\\u00e3o I 75 SCC0296 eletiva Atividades Acad\\u00eamicas de Extens\\u00e3o II 75', 'length': 3181, 'num_tokens': 446}\",\n          \"{'doc_name': 'ppp_bcc', 'chunk_id': 14, 'start_page': 14, 'end_page': 15, 'pages': '14,15', 'text': '14 \\u25cf SCC0240 \\u2013 Bases de Dados Fornecer os conceitos, t\\u00e9cnicas e caracter\\u00edsticas b\\u00e1sicas dos sistemas de gerenciamento de Bases de Dados, tornando o aluno capaz de desenvolver sistemas de informa\\u00e7\\u00e3o centrados na busca de informa\\u00e7\\u00f5es armazenadas em bases de dados. \\u25cf SCC0241 \\u2013 Laborat\\u00f3rio de Bases de Dados Permitir ao aluno o desenvolvimento de aplica\\u00e7\\u00f5es pr\\u00e1ticas utilizando Sistemas Gerenciadores de Bases de Dados relacionais e ferramentas de apoio. e) Dominar e praticar os conceitos relacionados a Sistemas Operacionais. Esta habilidade ser\\u00e1 desenvolvida nas seguintes disciplinas: \\u25cf SSC0140 \\u2013 Sistemas Operacionais I Introduzir os conceitos e princ\\u00edpios b\\u00e1sicos dos sistemas operacionais de computadores digitais, assim como as diversas t\\u00e9cnica empregadas em seu desenvolvimento. \\u25cf SSC0141 \\u2013 Pr\\u00e1tica em Sistemas Operacionais Permitir ao aluno a pr\\u00e1tica com os conceitos e t\\u00e9cnicas relacionados ao desenvolvimento de sistemas operacionais. f) Desenvolver e aplicar as t\\u00e9cnicas e ferramentas para proposta e an\\u00e1lise de desempenho de Arquiteturas de Computadores. Esta habilidade ser\\u00e1 desenvolvida nas seguintes disciplinas: \\u25cf SSC0902 \\u2013 Organiza\\u00e7\\u00e3o e Arquitetura de Computadores Introduzir o estudante ao conhecimento da arquitetura b\\u00e1sica de computadores e linguagens de m\\u00e1quina. \\u25cf SSC0119 \\u2013 Pr\\u00e1tica em Organiza\\u00e7\\u00e3o de Computadores Fornecer ao aluno experi\\u00eancias pr\\u00e1ticas sobre m\\u00e1quinas de estados finitos e componentes b\\u00e1sicos de uma CPU. Projeto e implementa\\u00e7\\u00e3o de uma CPU usando tecnologia FPGA. \\u25cf SSC0902 \\u2013 Organiza\\u00e7\\u00e3o e Arquitetura de Computadores Analisar e comparar os diferentes tipos de arquitetura de computadores. Estudar as arquiteturas paralelas, as arquiteturas vetoriais e as arquiteturas n\\u00e3o convencionais. g) Desenvolver e aplicar os conceitos, m\\u00e9todos e t\\u00e9cnicas de Engenharia de Software. Esta habilidade ser\\u00e1 desenvolvida nas seguintes disciplinas: \\u25cf SSC0124 \\u2013 An\\u00e1lise e Projeto Orientados a Objetos Fornecer uma vis\\u00e3o geral dos m\\u00e9todos para an\\u00e1lise e projeto orientados a objetos, em particular o Processo Unificado (UML). Aplica\\u00e7\\u00e3o dos conceitos te\\u00f3ricos em etapas que envolvem o projeto \\u00e0 codifica\\u00e7\\u00e3o. \\u25cf SSC0130 \\u2013 Engenharia de Software Oferecer uma vis\\u00e3o geral do processo de desenvolvimento de Software e de gest\\u00e3o de projetos de software. Apresentar m\\u00e9todos de an\\u00e1lise de sistema de software. h) Entender os fundamentos organizacionais dos Sistemas de Informa\\u00e7\\u00e3o. Esta habilidade ser\\u00e1 desenvolvida na seguinte disciplina: \\u25cf SSC0120 \\u2013 Sistemas de Informa\\u00e7\\u00e3o\\\\n\\\\n15 Dar ao estudante a compreens\\u00e3o do relacionamento existente entre os componentes t\\u00e9cnicos de um Sistema de Informa\\u00e7\\u00e3o e a Tecnologia de Informa\\u00e7\\u00e3o com a estrutura, fun\\u00e7\\u00f5es e pol\\u00edticas da Organiza\\u00e7\\u00e3o. Este curso objetiva colocar os sistemas de informa\\u00e7\\u00e3o e a tecnologia de informa\\u00e7\\u00e3o no contexto das organiza\\u00e7\\u00f5es. i) Desenvolver e aplicar os protocolos de comunica\\u00e7\\u00e3o e de gerenciamento de Redes e dominar os conceitos de Sistemas Distribu\\u00eddos, assim como as quest\\u00f5es relacionadas de Seguran\\u00e7a. Esta habilidade ser\\u00e1 desenvolvida nas seguintes disciplinas: \\u25cf SSC0142 \\u2013 Redes de Computadores Apresentar os conceitos b\\u00e1sicos em redes de computadores. Exercitar o aluno em t\\u00e9cnicas de projeto, instala\\u00e7\\u00e3o e configura\\u00e7\\u00e3o de redes locais. \\u25cf SSC0157 \\u2013 T\\u00f3picos Avan\\u00e7ados em Comunica\\u00e7\\u00e3o Avan\\u00e7ar os conhecimentos sobre redes de computadores, adicionando conceitos e pr\\u00e1ticas sobre gerenciamento, seguran\\u00e7a e mobilidade. \\u25cf SSC0904 \\u2013 Sistemas Computacionais Distribu\\u00eddos Apresentar os conceitos b\\u00e1sicos de sistemas computacionais distribu\\u00eddos e as t\\u00e9cnicas de implementa\\u00e7\\u00e3o, assim como estudo de casos. \\u25cf SSC0900 \\u2013 Engenharia de Seguran\\u00e7a Apresentar os conceitos b\\u00e1sicos em seguran\\u00e7a computacional com \\u00eanfase nas tecnologias e em aspectos b\\u00e1sicos de criptografia, controle de acesso e intrus\\u00e3o em redes de computadores. j) Dominar os conceitos e t\\u00e9cnicas relacionados ao desenvolvimento Web. Esta habilidade ser\\u00e1 desenvolvida nas seguintes disciplinas: \\u25cf SCC0219 \\u2013 Introdu\\u00e7\\u00e3o ao Desenvolvimento Web Fornecer uma vis\\u00e3o geral da infraestrutura web, tal como: comunica\\u00e7\\u00e3o, servidores, arquitetura de aplica\\u00e7\\u00f5es, ferramentas para manipula\\u00e7\\u00e3o de hiperdocumentos. Desenvolvimento de aplica\\u00e7\\u00f5es que exploram os conceitos te\\u00f3ricos. \\u25cf SCC0260 \\u2013 Intera\\u00e7\\u00e3o Usu\\u00e1rio computador Apresentar conceitos fundamentais da intera\\u00e7\\u00e3o entre o usu\\u00e1rio e o computador e no desenvolvimento de interfaces. Capacitar o aluno a discutir os t\\u00f3picos envolvidos em \\u00e1reas atuais de pesquisa. Al\\u00e9m das disciplinas anteriores, as disciplinas optativas visam oferecer ao aluno a oportunidade de conhecer em maior abrang\\u00eancia e se aprofundar em uma ou mais das v\\u00e1rias \\u00e1reas de computa\\u00e7\\u00e3o. Eventualmente, os alunos podem procurar dar \\u00eanfase em algumas \\u00e1reas em sua forma\\u00e7\\u00e3o. Os certificados de Estudos Especiais atualmente recomendados no ICMC refletem as \\u00e1reas de excel\\u00eancia em computa\\u00e7\\u00e3o dos Departamentos de Ci\\u00eancias de Computa\\u00e7\\u00e3o e de Sistemas de Computa\\u00e7\\u00e3o. Os estudos especiais visam nortear uma escolha mais coerente das disciplinas optativas, sendo que a escolha das disciplinas optativas que ser\\u00e3o oferecidas \\u00e9 feita pelos alunos que cursam o 4\\u00ba ano, principalmente.', 'length': 5112, 'num_tokens': 735}\"\n        ],\n        \"semantic_type\": \"\",\n        \"description\": \"\"\n      }\n    },\n    {\n      \"column\": \"question\",\n      \"properties\": {\n        \"dtype\": \"string\",\n        \"num_unique_values\": 5,\n        \"samples\": [\n          \"Quais s\\u00e3o as atividades extracurriculares oferecidas aos alunos do curso?\",\n          \"Quantas horas de atividades de extens\\u00e3o tem a disciplina SCC0201?\",\n          \"Quais s\\u00e3o as disciplinas que desenvolvem a habilidade de dominar os conceitos de Sistemas Distribu\\u00eddos e Seguran\\u00e7a?\"\n        ],\n        \"semantic_type\": \"\",\n        \"description\": \"\"\n      }\n    },\n    {\n      \"column\": \"answer\",\n      \"properties\": {\n        \"dtype\": \"string\",\n        \"num_unique_values\": 5,\n        \"samples\": [\n          \"Programas de Inicia\\u00e7\\u00e3o Cient\\u00edfica e Tecnol\\u00f3gica, Grupo PET, Semana da Computa\\u00e7\\u00e3o, Empresa J\\u00fanior, Tutoriais para a gradua\\u00e7\\u00e3o, Participa\\u00e7\\u00e3o em Eventos Cient\\u00edficos, Monitoria, Competi\\u00e7\\u00f5es de programa\\u00e7\\u00e3o e Internacionaliza\\u00e7\\u00e3o.\",\n          \"5 horas.\",\n          \"SSC0904 \\u2013 Sistemas Computacionais Distribu\\u00eddos, SSC0900 \\u2013 Engenharia de Seguran\\u00e7a.\"\n        ],\n        \"semantic_type\": \"\",\n        \"description\": \"\"\n      }\n    },\n    {\n      \"column\": \"course\",\n      \"properties\": {\n        \"dtype\": \"category\",\n        \"num_unique_values\": 1,\n        \"samples\": [\n          \"Bacharelado em Ci\\u00eancia da Computa\\u00e7\\u00e3o\"\n        ],\n        \"semantic_type\": \"\",\n        \"description\": \"\"\n      }\n    },\n    {\n      \"column\": \"persona\",\n      \"properties\": {\n        \"dtype\": \"category\",\n        \"num_unique_values\": 1,\n        \"samples\": [\n          \"aluno\"\n        ],\n        \"semantic_type\": \"\",\n        \"description\": \"\"\n      }\n    }\n  ]\n}",
       "type": "dataframe"
      },
      "text/html": [
       "\n",
       "  <div id=\"df-dae60136-479f-42c7-8c47-28b76f48ac5e\" class=\"colab-df-container\">\n",
       "    <div>\n",
       "<style scoped>\n",
       "    .dataframe tbody tr th:only-of-type {\n",
       "        vertical-align: middle;\n",
       "    }\n",
       "\n",
       "    .dataframe tbody tr th {\n",
       "        vertical-align: top;\n",
       "    }\n",
       "\n",
       "    .dataframe thead th {\n",
       "        text-align: right;\n",
       "    }\n",
       "</style>\n",
       "<table border=\"1\" class=\"dataframe\">\n",
       "  <thead>\n",
       "    <tr style=\"text-align: right;\">\n",
       "      <th></th>\n",
       "      <th>source_text</th>\n",
       "      <th>question</th>\n",
       "      <th>answer</th>\n",
       "      <th>course</th>\n",
       "      <th>persona</th>\n",
       "    </tr>\n",
       "  </thead>\n",
       "  <tbody>\n",
       "    <tr>\n",
       "      <th>227</th>\n",
       "      <td>{'doc_name': 'ppp_bcc', 'chunk_id': 23, 'start...</td>\n",
       "      <td>O que é abordado na disciplina SSC0128 – Gerên...</td>\n",
       "      <td>Conhecimentos, habilidades e técnicas utilizad...</td>\n",
       "      <td>Bacharelado em Ciência da Computação</td>\n",
       "      <td>aluno</td>\n",
       "    </tr>\n",
       "    <tr>\n",
       "      <th>61</th>\n",
       "      <td>{'doc_name': 'ppp_bcc', 'chunk_id': 7, 'start_...</td>\n",
       "      <td>Quais são as atividades extracurriculares ofer...</td>\n",
       "      <td>Programas de Iniciação Científica e Tecnológic...</td>\n",
       "      <td>Bacharelado em Ciência da Computação</td>\n",
       "      <td>aluno</td>\n",
       "    </tr>\n",
       "    <tr>\n",
       "      <th>136</th>\n",
       "      <td>{'doc_name': 'ppp_bcc', 'chunk_id': 14, 'start...</td>\n",
       "      <td>Quais são as disciplinas que desenvolvem a hab...</td>\n",
       "      <td>SSC0904 – Sistemas Computacionais Distribuídos...</td>\n",
       "      <td>Bacharelado em Ciência da Computação</td>\n",
       "      <td>aluno</td>\n",
       "    </tr>\n",
       "    <tr>\n",
       "      <th>234</th>\n",
       "      <td>{'doc_name': 'ppp_bcc', 'chunk_id': 24, 'start...</td>\n",
       "      <td>O que são disciplinas 'básicas'/'essenciais' n...</td>\n",
       "      <td>São todas as disciplinas obrigatórias que todo...</td>\n",
       "      <td>Bacharelado em Ciência da Computação</td>\n",
       "      <td>aluno</td>\n",
       "    </tr>\n",
       "    <tr>\n",
       "      <th>334</th>\n",
       "      <td>{'doc_name': 'ppp_bcc', 'chunk_id': 34, 'start...</td>\n",
       "      <td>Quantas horas de atividades de extensão tem a ...</td>\n",
       "      <td>5 horas.</td>\n",
       "      <td>Bacharelado em Ciência da Computação</td>\n",
       "      <td>aluno</td>\n",
       "    </tr>\n",
       "  </tbody>\n",
       "</table>\n",
       "</div>\n",
       "    <div class=\"colab-df-buttons\">\n",
       "\n",
       "  <div class=\"colab-df-container\">\n",
       "    <button class=\"colab-df-convert\" onclick=\"convertToInteractive('df-dae60136-479f-42c7-8c47-28b76f48ac5e')\"\n",
       "            title=\"Convert this dataframe to an interactive table.\"\n",
       "            style=\"display:none;\">\n",
       "\n",
       "  <svg xmlns=\"http://www.w3.org/2000/svg\" height=\"24px\" viewBox=\"0 -960 960 960\">\n",
       "    <path d=\"M120-120v-720h720v720H120Zm60-500h600v-160H180v160Zm220 220h160v-160H400v160Zm0 220h160v-160H400v160ZM180-400h160v-160H180v160Zm440 0h160v-160H620v160ZM180-180h160v-160H180v160Zm440 0h160v-160H620v160Z\"/>\n",
       "  </svg>\n",
       "    </button>\n",
       "\n",
       "  <style>\n",
       "    .colab-df-container {\n",
       "      display:flex;\n",
       "      gap: 12px;\n",
       "    }\n",
       "\n",
       "    .colab-df-convert {\n",
       "      background-color: #E8F0FE;\n",
       "      border: none;\n",
       "      border-radius: 50%;\n",
       "      cursor: pointer;\n",
       "      display: none;\n",
       "      fill: #1967D2;\n",
       "      height: 32px;\n",
       "      padding: 0 0 0 0;\n",
       "      width: 32px;\n",
       "    }\n",
       "\n",
       "    .colab-df-convert:hover {\n",
       "      background-color: #E2EBFA;\n",
       "      box-shadow: 0px 1px 2px rgba(60, 64, 67, 0.3), 0px 1px 3px 1px rgba(60, 64, 67, 0.15);\n",
       "      fill: #174EA6;\n",
       "    }\n",
       "\n",
       "    .colab-df-buttons div {\n",
       "      margin-bottom: 4px;\n",
       "    }\n",
       "\n",
       "    [theme=dark] .colab-df-convert {\n",
       "      background-color: #3B4455;\n",
       "      fill: #D2E3FC;\n",
       "    }\n",
       "\n",
       "    [theme=dark] .colab-df-convert:hover {\n",
       "      background-color: #434B5C;\n",
       "      box-shadow: 0px 1px 3px 1px rgba(0, 0, 0, 0.15);\n",
       "      filter: drop-shadow(0px 1px 2px rgba(0, 0, 0, 0.3));\n",
       "      fill: #FFFFFF;\n",
       "    }\n",
       "  </style>\n",
       "\n",
       "    <script>\n",
       "      const buttonEl =\n",
       "        document.querySelector('#df-dae60136-479f-42c7-8c47-28b76f48ac5e button.colab-df-convert');\n",
       "      buttonEl.style.display =\n",
       "        google.colab.kernel.accessAllowed ? 'block' : 'none';\n",
       "\n",
       "      async function convertToInteractive(key) {\n",
       "        const element = document.querySelector('#df-dae60136-479f-42c7-8c47-28b76f48ac5e');\n",
       "        const dataTable =\n",
       "          await google.colab.kernel.invokeFunction('convertToInteractive',\n",
       "                                                    [key], {});\n",
       "        if (!dataTable) return;\n",
       "\n",
       "        const docLinkHtml = 'Like what you see? Visit the ' +\n",
       "          '<a target=\"_blank\" href=https://colab.research.google.com/notebooks/data_table.ipynb>data table notebook</a>'\n",
       "          + ' to learn more about interactive tables.';\n",
       "        element.innerHTML = '';\n",
       "        dataTable['output_type'] = 'display_data';\n",
       "        await google.colab.output.renderOutput(dataTable, element);\n",
       "        const docLink = document.createElement('div');\n",
       "        docLink.innerHTML = docLinkHtml;\n",
       "        element.appendChild(docLink);\n",
       "      }\n",
       "    </script>\n",
       "  </div>\n",
       "\n",
       "\n",
       "    <div id=\"df-93969a87-b563-4601-80ae-759184e7c932\">\n",
       "      <button class=\"colab-df-quickchart\" onclick=\"quickchart('df-93969a87-b563-4601-80ae-759184e7c932')\"\n",
       "                title=\"Suggest charts\"\n",
       "                style=\"display:none;\">\n",
       "\n",
       "<svg xmlns=\"http://www.w3.org/2000/svg\" height=\"24px\"viewBox=\"0 0 24 24\"\n",
       "     width=\"24px\">\n",
       "    <g>\n",
       "        <path d=\"M19 3H5c-1.1 0-2 .9-2 2v14c0 1.1.9 2 2 2h14c1.1 0 2-.9 2-2V5c0-1.1-.9-2-2-2zM9 17H7v-7h2v7zm4 0h-2V7h2v10zm4 0h-2v-4h2v4z\"/>\n",
       "    </g>\n",
       "</svg>\n",
       "      </button>\n",
       "\n",
       "<style>\n",
       "  .colab-df-quickchart {\n",
       "      --bg-color: #E8F0FE;\n",
       "      --fill-color: #1967D2;\n",
       "      --hover-bg-color: #E2EBFA;\n",
       "      --hover-fill-color: #174EA6;\n",
       "      --disabled-fill-color: #AAA;\n",
       "      --disabled-bg-color: #DDD;\n",
       "  }\n",
       "\n",
       "  [theme=dark] .colab-df-quickchart {\n",
       "      --bg-color: #3B4455;\n",
       "      --fill-color: #D2E3FC;\n",
       "      --hover-bg-color: #434B5C;\n",
       "      --hover-fill-color: #FFFFFF;\n",
       "      --disabled-bg-color: #3B4455;\n",
       "      --disabled-fill-color: #666;\n",
       "  }\n",
       "\n",
       "  .colab-df-quickchart {\n",
       "    background-color: var(--bg-color);\n",
       "    border: none;\n",
       "    border-radius: 50%;\n",
       "    cursor: pointer;\n",
       "    display: none;\n",
       "    fill: var(--fill-color);\n",
       "    height: 32px;\n",
       "    padding: 0;\n",
       "    width: 32px;\n",
       "  }\n",
       "\n",
       "  .colab-df-quickchart:hover {\n",
       "    background-color: var(--hover-bg-color);\n",
       "    box-shadow: 0 1px 2px rgba(60, 64, 67, 0.3), 0 1px 3px 1px rgba(60, 64, 67, 0.15);\n",
       "    fill: var(--button-hover-fill-color);\n",
       "  }\n",
       "\n",
       "  .colab-df-quickchart-complete:disabled,\n",
       "  .colab-df-quickchart-complete:disabled:hover {\n",
       "    background-color: var(--disabled-bg-color);\n",
       "    fill: var(--disabled-fill-color);\n",
       "    box-shadow: none;\n",
       "  }\n",
       "\n",
       "  .colab-df-spinner {\n",
       "    border: 2px solid var(--fill-color);\n",
       "    border-color: transparent;\n",
       "    border-bottom-color: var(--fill-color);\n",
       "    animation:\n",
       "      spin 1s steps(1) infinite;\n",
       "  }\n",
       "\n",
       "  @keyframes spin {\n",
       "    0% {\n",
       "      border-color: transparent;\n",
       "      border-bottom-color: var(--fill-color);\n",
       "      border-left-color: var(--fill-color);\n",
       "    }\n",
       "    20% {\n",
       "      border-color: transparent;\n",
       "      border-left-color: var(--fill-color);\n",
       "      border-top-color: var(--fill-color);\n",
       "    }\n",
       "    30% {\n",
       "      border-color: transparent;\n",
       "      border-left-color: var(--fill-color);\n",
       "      border-top-color: var(--fill-color);\n",
       "      border-right-color: var(--fill-color);\n",
       "    }\n",
       "    40% {\n",
       "      border-color: transparent;\n",
       "      border-right-color: var(--fill-color);\n",
       "      border-top-color: var(--fill-color);\n",
       "    }\n",
       "    60% {\n",
       "      border-color: transparent;\n",
       "      border-right-color: var(--fill-color);\n",
       "    }\n",
       "    80% {\n",
       "      border-color: transparent;\n",
       "      border-right-color: var(--fill-color);\n",
       "      border-bottom-color: var(--fill-color);\n",
       "    }\n",
       "    90% {\n",
       "      border-color: transparent;\n",
       "      border-bottom-color: var(--fill-color);\n",
       "    }\n",
       "  }\n",
       "</style>\n",
       "\n",
       "      <script>\n",
       "        async function quickchart(key) {\n",
       "          const quickchartButtonEl =\n",
       "            document.querySelector('#' + key + ' button');\n",
       "          quickchartButtonEl.disabled = true;  // To prevent multiple clicks.\n",
       "          quickchartButtonEl.classList.add('colab-df-spinner');\n",
       "          try {\n",
       "            const charts = await google.colab.kernel.invokeFunction(\n",
       "                'suggestCharts', [key], {});\n",
       "          } catch (error) {\n",
       "            console.error('Error during call to suggestCharts:', error);\n",
       "          }\n",
       "          quickchartButtonEl.classList.remove('colab-df-spinner');\n",
       "          quickchartButtonEl.classList.add('colab-df-quickchart-complete');\n",
       "        }\n",
       "        (() => {\n",
       "          let quickchartButtonEl =\n",
       "            document.querySelector('#df-93969a87-b563-4601-80ae-759184e7c932 button');\n",
       "          quickchartButtonEl.style.display =\n",
       "            google.colab.kernel.accessAllowed ? 'block' : 'none';\n",
       "        })();\n",
       "      </script>\n",
       "    </div>\n",
       "\n",
       "    </div>\n",
       "  </div>\n"
      ],
      "text/plain": [
       "                                           source_text  \\\n",
       "227  {'doc_name': 'ppp_bcc', 'chunk_id': 23, 'start...   \n",
       "61   {'doc_name': 'ppp_bcc', 'chunk_id': 7, 'start_...   \n",
       "136  {'doc_name': 'ppp_bcc', 'chunk_id': 14, 'start...   \n",
       "234  {'doc_name': 'ppp_bcc', 'chunk_id': 24, 'start...   \n",
       "334  {'doc_name': 'ppp_bcc', 'chunk_id': 34, 'start...   \n",
       "\n",
       "                                              question  \\\n",
       "227  O que é abordado na disciplina SSC0128 – Gerên...   \n",
       "61   Quais são as atividades extracurriculares ofer...   \n",
       "136  Quais são as disciplinas que desenvolvem a hab...   \n",
       "234  O que são disciplinas 'básicas'/'essenciais' n...   \n",
       "334  Quantas horas de atividades de extensão tem a ...   \n",
       "\n",
       "                                                answer  \\\n",
       "227  Conhecimentos, habilidades e técnicas utilizad...   \n",
       "61   Programas de Iniciação Científica e Tecnológic...   \n",
       "136  SSC0904 – Sistemas Computacionais Distribuídos...   \n",
       "234  São todas as disciplinas obrigatórias que todo...   \n",
       "334                                           5 horas.   \n",
       "\n",
       "                                   course persona  \n",
       "227  Bacharelado em Ciência da Computação   aluno  \n",
       "61   Bacharelado em Ciência da Computação   aluno  \n",
       "136  Bacharelado em Ciência da Computação   aluno  \n",
       "234  Bacharelado em Ciência da Computação   aluno  \n",
       "334  Bacharelado em Ciência da Computação   aluno  "
      ]
     },
     "metadata": {},
     "output_type": "display_data"
    },
    {
     "name": "stdout",
     "output_type": "stream",
     "text": [
      "Total de perguntas: 350\n",
      "\n",
      "Exemplo de Q&A:\n",
      "Q: Qual é o objetivo principal do curso de Bacharelado em Ciências de Computação do ICMC USP?\n",
      "A: Preparar um profissional com sólida formação conceitual, teórica e experimental em diferentes áreas de Computação.\n"
     ]
    }
   ],
   "source": [
    "# Exibe exemplos de dados do faq.csv\n",
    "individual_df_data = pd.read_csv(f\"{individual_dir}/faq.csv\")\n",
    "\n",
    "# Mostrar o cabeçalho do dataframe\n",
    "display(individual_df_data.sample(5))\n",
    "print(f\"Total de perguntas: {len(individual_df_data)}\")\n",
    "\n",
    "# Exibe um exemplo de pergunta e resposta\n",
    "if individual_df_data.empty:\n",
    "    print(\"DataFrame vazio, sem exemplos para exibir.\")\n",
    "else:\n",
    "    example_row = individual_df_data.iloc[10]\n",
    "\n",
    "    print(\"\\nExemplo de Q&A:\")\n",
    "    print(f\"Q: {example_row['question']}\")\n",
    "    print(f\"A: {example_row['answer']}\")"
   ]
  },
  {
   "cell_type": "markdown",
   "metadata": {
    "id": "BJdAisCrC4-S"
   },
   "source": [
    "### 👥 Geração de FAQs (Multi persona)\n",
    "Gera FAQs para diferentes personas (aluno, professor, pesquisador).\n",
    "\n",
    "- **Objetivo**:\n",
    "  - Criar um conjunto de FAQs focado para cada persona com prompts dedicados\n",
    "  - Salvar arquivos separados no subdiretório `unificado/`\n",
    "\n",
    "- **Saídas** (em `unificado/`):\n",
    "  - `faq_aluno.csv`\n",
    "  - `faq_professor.csv`\n",
    "  - `faq_pesquisador.csv`\n"
   ]
  },
  {
   "cell_type": "code",
   "execution_count": null,
   "metadata": {
    "colab": {
     "base_uri": "https://localhost:8080/"
    },
    "id": "SuX_7rZB17p5",
    "outputId": "2e421c2a-29e9-4a1b-846d-323a90280fb7"
   },
   "outputs": [
    {
     "name": "stderr",
     "output_type": "stream",
     "text": [
      "Generating FAQs: 100%|██████████| 35/35 [05:55<00:00, 10.16s/it]\n"
     ]
    },
    {
     "name": "stdout",
     "output_type": "stream",
     "text": [
      "✅ FAQ saved to: projects/test_project/ppp_bcc/unificado/faq_aluno.csv\n"
     ]
    },
    {
     "name": "stderr",
     "output_type": "stream",
     "text": [
      "Generating FAQs: 100%|██████████| 35/35 [07:07<00:00, 12.21s/it]\n"
     ]
    },
    {
     "name": "stdout",
     "output_type": "stream",
     "text": [
      "✅ FAQ saved to: projects/test_project/ppp_bcc/unificado/faq_professor.csv\n"
     ]
    },
    {
     "name": "stderr",
     "output_type": "stream",
     "text": [
      "Generating FAQs: 100%|██████████| 35/35 [10:41<00:00, 18.32s/it]"
     ]
    },
    {
     "name": "stdout",
     "output_type": "stream",
     "text": [
      "✅ FAQ saved to: projects/test_project/ppp_bcc/unificado/faq_pesquisador.csv\n"
     ]
    },
    {
     "name": "stderr",
     "output_type": "stream",
     "text": [
      "\n"
     ]
    }
   ],
   "source": [
    "# Cria um diretório unificado para FAQs de múltiplas personas\n",
    "unificado_dir = project_dir / \"unificado\"\n",
    "unificado_dir.mkdir(parents=True, exist_ok=True)\n",
    "\n",
    "persona_type = [\"aluno\", \"professor\", \"pesquisador\"]\n",
    "\n",
    "for persona in persona_type:\n",
    "   generate_faqs(config, unificado_dir, texts, course_name, persona, multi_persona=True)"
   ]
  },
  {
   "cell_type": "code",
   "execution_count": null,
   "metadata": {
    "colab": {
     "base_uri": "https://localhost:8080/"
    },
    "id": "b3hgjsg82Ixd",
    "outputId": "762e07e2-df42-46a6-cf0c-ea97e5d3355e"
   },
   "outputs": [
    {
     "name": "stdout",
     "output_type": "stream",
     "text": [
      "✅ Loaded 350 FAQs from faq_aluno.csv\n",
      "✅ Loaded 350 FAQs from faq_professor.csv\n",
      "✅ Loaded 350 FAQs from faq_pesquisador.csv\n",
      "\n",
      "📊 Merge Summary:\n",
      "📈 Total FAQs: 1050\n",
      "👥 FAQs by persona:\n",
      "   - aluno: 350\n",
      "   - professor: 350\n",
      "   - pesquisador: 350\n",
      "🎓 FAQs by course:\n",
      "   - Bacharelado em Ciência da Computação: 1050\n",
      "\n",
      "✅ Combined CSV saved to: projects/test_project/ppp_bcc/unificado/faq.csv\n"
     ]
    }
   ],
   "source": [
    "# Agrupa FAQs específicas de todas personas em um único arquivo\n",
    "\n",
    "# Lista de personas para agrupar\n",
    "persona_files = [\"faq_aluno.csv\", \"faq_professor.csv\", \"faq_pesquisador.csv\"]\n",
    "all_faqs = []\n",
    "\n",
    "for file_name in persona_files:\n",
    "    file_path = unificado_dir / file_name\n",
    "    if file_path.exists():\n",
    "        df = pd.read_csv(file_path)\n",
    "        all_faqs.append(df)\n",
    "        print(f\"✅ Loaded {len(df)} FAQs from {file_name}\")\n",
    "    else:\n",
    "        print(f\"⚠️  File not found: {file_name}\")\n",
    "\n",
    "if all_faqs:\n",
    "    # Concatena todos os dataframes\n",
    "    merged_df = pd.concat(all_faqs, ignore_index=True)\n",
    "\n",
    "    # Salva o arquivo\n",
    "    merged_path = unificado_dir / \"faq.csv\"\n",
    "    merged_df.to_csv(merged_path, index=False, encoding=\"utf-8\")\n",
    "\n",
    "    print(f\"\\n📊 Merge Summary:\")\n",
    "    print(f\"📈 Total FAQs: {len(merged_df)}\")\n",
    "\n",
    "    # Mostra quantidade de FAQs por persona\n",
    "    persona_counts = merged_df['persona'].value_counts()\n",
    "    print(f\"👥 FAQs by persona:\")\n",
    "    for persona, count in persona_counts.items():\n",
    "        print(f\"   - {persona}: {count}\")\n",
    "\n",
    "    # Mostra quantidade de FAQs por curso\n",
    "    print(f\"🎓 FAQs by course:\")\n",
    "    course_counts = merged_df['course'].value_counts()\n",
    "    for course, count in course_counts.items():\n",
    "        print(f\"   - {course}: {count}\")\n",
    "\n",
    "    print(f\"\\n✅ Combined CSV saved to: {merged_path}\")\n",
    "else:\n",
    "    print(\"❌ No FAQ files found to merge!\")\n"
   ]
  },
  {
   "cell_type": "code",
   "execution_count": null,
   "metadata": {
    "colab": {
     "base_uri": "https://localhost:8080/",
     "height": 313
    },
    "id": "MfOsZWq9FaEb",
    "outputId": "a140f71c-dcb1-41c2-a91e-8d4fcc51cf38"
   },
   "outputs": [
    {
     "data": {
      "application/vnd.google.colaboratory.intrinsic+json": {
       "summary": "{\n  \"name\": \"    print(f\\\"A: {example_row['answer']}\\\")\",\n  \"rows\": 5,\n  \"fields\": [\n    {\n      \"column\": \"source_text\",\n      \"properties\": {\n        \"dtype\": \"string\",\n        \"num_unique_values\": 5,\n        \"samples\": [\n          \"{'doc_name': 'ppp_bcc', 'chunk_id': 13, 'start_page': 13, 'end_page': 14, 'pages': '13,14', 'text': '13 Introduzir ao aluno conceitos circuitos sequenciais, flip flops, registradores, conversores, etc. Execu\\u00e7\\u00e3o de projetos de circuitos l\\u00f3gicos para a execu\\u00e7\\u00e3o de instru\\u00e7\\u00f5es bin\\u00e1rias. \\u25cf SSC0902 \\u2013 Organiza\\u00e7\\u00e3o e Arquitetura de Computadores Introduzir o estudante ao conhecimento da arquitetura b\\u00e1sica de computadores e linguagens de m\\u00e1quina. \\u25cf SSC0119 \\u2013 Pr\\u00e1tica em Organiza\\u00e7\\u00e3o de Computadores Fornecer ao aluno experi\\u00eancias pr\\u00e1ticas sobre m\\u00e1quinas de estados finitos e componentes b\\u00e1sicos de uma CPU. Projeto e implementa\\u00e7\\u00e3o de uma CPU usando tecnologia FPGA. \\u25cf SSC0180 \\u2013 Eletr\\u00f4nica para Computa\\u00e7\\u00e3o Introduzir aos alunos conceitos b\\u00e1sicos de componentes eletr\\u00f4nicos, resistores, capacitores, LEDs, etc. Projetos de conversores de sinais. (3) Capacidade de aplicar os conhecimentos espec\\u00edficos das diversas \\u00e1reas da computa\\u00e7\\u00e3o. Objetivo: Obten\\u00e7\\u00e3o de uma vis\\u00e3o geral das diversas \\u00e1reas de computa\\u00e7\\u00e3o, cobrindo se os conceitos envolvidos em cada uma delas e a sua aplica\\u00e7\\u00e3o. As tecnologias atualmente utilizadas em cada \\u00e1rea s\\u00e3o abordadas para exemplificar a aplica\\u00e7\\u00e3o dos conceitos. Dentro deste dom\\u00ednio, as seguintes habilidades devem ser desenvolvidas nos alunos: a) Obter uma vis\\u00e3o geral das v\\u00e1rias \\u00e1reas da computa\\u00e7\\u00e3o e seu relacionamento no curso. Esta habilidade ser\\u00e1 desenvolvida nas seguintes disciplinas: \\u25cf SCC0200 \\u2013 Informa\\u00e7\\u00e3o Profissional em Ci\\u00eancias da Computa\\u00e7\\u00e3o Ambientar o estudante com o curso de Bacharelado em Ci\\u00eancias da Computa\\u00e7\\u00e3o, proporcionando uma vis\\u00e3o global dos conte\\u00fados do curr\\u00edculo, das v\\u00e1rias \\u00e1reas da computa\\u00e7\\u00e3o e suas rela\\u00e7\\u00f5es com sua futura profiss\\u00e3o. \\u25cf SSC0104 \\u2013 Evolu\\u00e7\\u00e3o Hist\\u00f3rica da Computa\\u00e7\\u00e3o e Aplica\\u00e7\\u00f5es Apresentar ao aluno um panorama da evolu\\u00e7\\u00e3o da computa\\u00e7\\u00e3o, identificando marcos hist\\u00f3ricos, personagens relevantes e suas contribui\\u00e7\\u00f5es, com apresenta\\u00e7\\u00e3o de desenvolvimentos e aplica\\u00e7\\u00f5es importantes da computa\\u00e7\\u00e3o em diferentes \\u00e1reas. b) Aplicar as t\\u00e9cnicas b\\u00e1sicas de Intelig\\u00eancia Artificial. Esta habilidade ser\\u00e1 desenvolvida na seguinte disciplina: \\u25cf SCC0230 \\u2013 Intelig\\u00eancia Artificial Apresentar ao aluno as ideias fundamentais da Intelig\\u00eancia Artificial. Ensinar programa\\u00e7\\u00e3o n\\u00e3o determin\\u00edstica e o paradigma l\\u00f3gico de programa\\u00e7\\u00e3o. c) Utilizar os conceitos b\\u00e1sicos de Computa\\u00e7\\u00e3o Gr\\u00e1fica. Esta habilidade ser\\u00e1 desenvolvida na seguinte disciplina: \\u25cf SCC0250 \\u2013 Computa\\u00e7\\u00e3o Gr\\u00e1fica Fornecer ao aluno familiariza\\u00e7\\u00e3o com as metodologias e as t\\u00e9cnicas b\\u00e1sicas da computa\\u00e7\\u00e3o gr\\u00e1fica, bem como conhecimento e pr\\u00e1tica desses conceitos e aplica\\u00e7\\u00f5es. d) Desenvolver e utilizar Bases de Dados. Esta habilidade ser\\u00e1 desenvolvida nas seguintes disciplinas:\\\\n\\\\n14 \\u25cf SCC0240 \\u2013 Bases de Dados Fornecer os conceitos, t\\u00e9cnicas e caracter\\u00edsticas b\\u00e1sicas dos sistemas de gerenciamento de Bases de Dados, tornando o aluno capaz de desenvolver sistemas de informa\\u00e7\\u00e3o centrados na busca de informa\\u00e7\\u00f5es armazenadas em bases de dados. \\u25cf SCC0241 \\u2013 Laborat\\u00f3rio de Bases de Dados Permitir ao aluno o desenvolvimento de aplica\\u00e7\\u00f5es pr\\u00e1ticas utilizando Sistemas Gerenciadores de Bases de Dados relacionais e ferramentas de apoio. e) Dominar e praticar os conceitos relacionados a Sistemas Operacionais. Esta habilidade ser\\u00e1 desenvolvida nas seguintes disciplinas: \\u25cf SSC0140 \\u2013 Sistemas Operacionais I Introduzir os conceitos e princ\\u00edpios b\\u00e1sicos dos sistemas operacionais de computadores digitais, assim como as diversas t\\u00e9cnica empregadas em seu desenvolvimento. \\u25cf SSC0141 \\u2013 Pr\\u00e1tica em Sistemas Operacionais Permitir ao aluno a pr\\u00e1tica com os conceitos e t\\u00e9cnicas relacionados ao desenvolvimento de sistemas operacionais. f) Desenvolver e aplicar as t\\u00e9cnicas e ferramentas para proposta e an\\u00e1lise de desempenho de Arquiteturas de Computadores. Esta habilidade ser\\u00e1 desenvolvida nas seguintes disciplinas: \\u25cf SSC0902 \\u2013 Organiza\\u00e7\\u00e3o e Arquitetura de Computadores Introduzir o estudante ao conhecimento da arquitetura b\\u00e1sica de computadores e linguagens de m\\u00e1quina. \\u25cf SSC0119 \\u2013 Pr\\u00e1tica em Organiza\\u00e7\\u00e3o de Computadores Fornecer ao aluno experi\\u00eancias pr\\u00e1ticas sobre m\\u00e1quinas de estados finitos e componentes b\\u00e1sicos de uma CPU. Projeto e implementa\\u00e7\\u00e3o de uma CPU usando tecnologia FPGA. \\u25cf SSC0902 \\u2013 Organiza\\u00e7\\u00e3o e Arquitetura de Computadores Analisar e comparar os diferentes tipos de arquitetura de computadores. Estudar as arquiteturas paralelas, as arquiteturas vetoriais e as arquiteturas n\\u00e3o convencionais. g) Desenvolver e aplicar os conceitos, m\\u00e9todos e t\\u00e9cnicas de Engenharia de Software. Esta habilidade ser\\u00e1 desenvolvida nas seguintes disciplinas: \\u25cf SSC0124 \\u2013 An\\u00e1lise e Projeto Orientados a Objetos Fornecer uma vis\\u00e3o geral dos m\\u00e9todos para an\\u00e1lise e projeto orientados a objetos, em particular o Processo Unificado (UML). Aplica\\u00e7\\u00e3o dos conceitos te\\u00f3ricos em etapas que envolvem o projeto \\u00e0 codifica\\u00e7\\u00e3o. \\u25cf SSC0130 \\u2013 Engenharia de Software Oferecer uma vis\\u00e3o geral do processo de desenvolvimento de Software e de gest\\u00e3o de projetos de software. Apresentar m\\u00e9todos de an\\u00e1lise de sistema de software. h) Entender os fundamentos organizacionais dos Sistemas de Informa\\u00e7\\u00e3o. Esta habilidade ser\\u00e1 desenvolvida na seguinte disciplina: \\u25cf SSC0120 \\u2013 Sistemas de Informa\\u00e7\\u00e3o', 'length': 5066, 'num_tokens': 720}\",\n          \"{'doc_name': 'ppp_bcc', 'chunk_id': 31, 'start_page': 31, 'end_page': 32, 'pages': '31,32', 'text': '31 encaminhamentos \\u00e0s quest\\u00f5es levantadas. A partir de 2012, um novo programa de tutoria tamb\\u00e9m foi proposto. Essa tutoria, entretanto, tem sido mantida apenas para os alunos ingressantes de cada ano, no 1\\u00ba semestre, usualmente. Diferentemente da tutoria de turma, citada anteriormente, essa tutoria \\u00e9 mais pontual, consistindo em se ter pequenos grupos de alunos que se encontram regularmente com um docente de seu curso (previamente selecionado pela coordena\\u00e7\\u00e3o do curso), com a finalidade de se tirar d\\u00favidas e ter orienta\\u00e7\\u00f5es sobre o andamento do curso, que, no 1\\u00ba semestre, costuma ser impactante para o aluno ingressante, dadas as diferen\\u00e7as de rotina e formas de estudo entre o ensino m\\u00e9dio e o superior. Essa tutoria mais pontual, em conjunto com a tutoria da turma, t\\u00eam sido muito importante para os alunos. Por fim, tamb\\u00e9m tem sido realizada uma s\\u00e9rie de workshops dos cursos e da gradua\\u00e7\\u00e3o. Esta iniciativa, realizada sob a responsabilidade das coordena\\u00e7\\u00f5es dos cursos e da Comiss\\u00e3o de Gradua\\u00e7\\u00e3o, juntamente com os alunos, foi uma resposta aos anseios dos estudantes e dos professores envolvidos com os cursos de gradua\\u00e7\\u00e3o, para analisarem as quest\\u00f5es relativas aos temas de estrutura curricular, infraestrutura, did\\u00e1tica e tutoria, atividades extracurriculares e comportamento dos alunos e professores, dentre outros. Em geral, esses workshops s\\u00e3o muito produtivos e apontam formas de se melhorar ainda mais os cursos de gradua\\u00e7\\u00e3o. Acompanhamento de egressos Atualmente existe dispon\\u00edvel no s\\u00edtio da USP, o sistema Alumni USP (http://www.alumni.usp.br/), que \\u00e9 um sistema de controle de egressos em que ex alunos de outros cursos podem efetuar cadastro e assim manter a liga\\u00e7\\u00e3o com o ICMC e com a USP.\\\\n\\\\n32 Ap\\u00eandice \\u2013 Grade Curricular* Disciplinas (sequ\\u00eancia aconselhada) C = Disciplina Conjunto 1o Per\\u00edodo Letivo Cr\\u00e9ditos aula Cr\\u00e9ditos trabalho Requisitos SCC 200 Informa\\u00e7\\u00e3o Profissional em Ci\\u00eancias da Computa\\u00e7\\u00e3o 2 0 SCC 221 Introdu\\u00e7\\u00e3o \\u00e0 Ci\\u00eancia de Computa\\u00e7\\u00e3o I 4 1 SCC 222 Laborat\\u00f3rio de Introdu\\u00e7\\u00e3o \\u00e0 Ci\\u00eancia de Computa\\u00e7\\u00e3o I 2 2 SMA 300 Geometria Anal\\u00edtica 4 0 SMA 353 C\\u00e1lculo I 4 0 SSC 104 Evolu\\u00e7\\u00e3o Hist\\u00f3rica da Computa\\u00e7\\u00e3o 2 1 SSC 117 Introdu\\u00e7\\u00e3o \\u00e0 L\\u00f3gica Digital 2 1 SSC 119 Pr\\u00e1tica em L\\u00f3gica Digital 2 1 SSC 180 Eletr\\u00f4nica para Computa\\u00e7\\u00e3o 2 2 24 8 2o Per\\u00edodo Letivo 7600105 F\\u00edsica B\\u00e1sica I 4 0 SMA 353 SCC 201 Introdu\\u00e7\\u00e3o \\u00e0 Ci\\u00eancia de Computa\\u00e7\\u00e3o II 4 2 SCC 221 SCC 202 Algoritmos e Estruturas de Dados I 4 2 SCC 201 C SMA 180 Matem\\u00e1tica Discreta I 4 0 SMA 354 C\\u00e1lculo II 4 0 SMA 353 SSC 118 Sistemas Digitais 2 1 SSC 117 SSC 108 Pr\\u00e1tica em Sistemas Digitais 2 1 SSC 118 C 24 6 3o Per\\u00edodo Letivo 7600109 Laborat\\u00f3rio de F\\u00edsica Geral I 2 0 7600105 SCC 215 Organiza\\u00e7\\u00e3o de Arquivos 3 2 SCC201, SCC 202 SCC 216 Modelagem Computacional em Grafos 2 1 SCC 202 SMA 355 C\\u00e1lculo III 4 0 SMA 354 SSC 103 Programa\\u00e7\\u00e3o Orientada a Objetos 2 1 SCC 202 SSC 902 Organiza\\u00e7\\u00e3o e Arquitetura de Computadores SSC 960 Programa\\u00e7\\u00e3o Funcional 4 2 1 1 SSC 118 SCC 202 19 6 4o Per\\u00edodo Letivo SCC 218 Algoritmos Avan\\u00e7ados e Aplica\\u00e7\\u00f5es 2 2 SCC 216 SME 123 Estat\\u00edstica 4 0 SMA 354 SME 142 \\u00c1lgebra Linear e Aplica\\u00e7\\u00f5es 4 1 SSC 124 An\\u00e1lise e Projeto Orientado a Objetos 2 1 SSC 103 SSC 140 Sistemas Operacionais I 4 2 SSC 902, SCC 202 16 6 5o Per\\u00edodo Letivo SCC 219 Introdu\\u00e7\\u00e3o ao Desenvolvimento Web 4 1 SCC 202 SCC 240 Bases de Dados 4 2 SCC 215 SME 104 C\\u00e1lculo Num\\u00e9rico 4 0 SMA 353, SME 141 SME 121 Processos Estoc\\u00e1sticos 4 0 SME 123 SSC 130 Engenharia de Software 4 1 SSC 124 SSC 142 Redes de Computadores 4 2 SSC 140 24 6', 'length': 3504, 'num_tokens': 622}\",\n          \"{'doc_name': 'ppp_bcc', 'chunk_id': 33, 'start_page': 33, 'end_page': 34, 'pages': '33,34', 'text': '33 6o Per\\u00edodo Letivo SCC 205 Teoria da Computa\\u00e7\\u00e3o e Linguagens Formais 4 2 SCC 201 SCC 207 Computadores e Sociedade I 2 0 SCC 230 Intelig\\u00eancia Artificial 4 1 SCC 201 SME 110 Programa\\u00e7\\u00e3o Matem\\u00e1tica 4 2 SME 104 SSC 903 Computa\\u00e7\\u00e3o de Alto Desempenho 4 1 SSC 902, SSC 140 18 6 7o Per\\u00edodo Letivo SCC 217 Linguagem de Programa\\u00e7\\u00e3o e Compiladores 4 2 SCC 205 SCC 250 Computa\\u00e7\\u00e3o Gr\\u00e1fica 4 1 SSC 103 SSC 120 Sistemas de Informa\\u00e7\\u00e3o 2 1 SSC 900 Engenharia de Seguran\\u00e7a 2 1 SSC 142 SSC 904 Sistemas Computacionais Distribu\\u00eddos 2 1 SSC 140, SSC 142 Optativa 1 Optativa 2 Optativa 3 Optativa 4 14 6 8o Per\\u00edodo Letivo Optativa 5 Optativa 6 Optativa 7 Optativa 8 Optativa 9 Optativa 10 9o Per\\u00edodo Letivo SCC 291 Est\\u00e1gio Supervisionado I 4 10 SCC 293 Projeto de Gradua\\u00e7\\u00e3o I 4 10 SCC 289 Projeto em Interc\\u00e2mbio I 4 10 (se j\\u00e1 tiver cursado 100 cr\\u00e9ditos aula, o aluno deve optar por uma das tr\\u00eas disciplinas acima) 4 10 10o Per\\u00edodo Letivo SCC 292 Est\\u00e1gio Supervisionado II 4 10 SCC 291 SCC 294 Projeto de Gradua\\u00e7\\u00e3o II 4 10 SCC 293 SCC 290 Projeto em Interc\\u00e2mbio II 4 10 SCC 289 (se j\\u00e1 tiver cursado 100 cr\\u00e9ditos aula, o aluno deve optar por uma das tr\\u00eas disciplinas acima) 4 10\\\\n\\\\n34 Al\\u00e9m dos cr\\u00e9ditos em disciplinas obrigat\\u00f3rias e optativas, o aluno deve cumprir ao longo do curso: \\\\uf0b7 No m\\u00ednimo 90 horas, correspondente a 3 cr\\u00e9ditos trabalho, de Atividades Acad\\u00eamicas Complementares (AACs), que ser\\u00e3o relacionadas no Hist\\u00f3rico Escolar do aluno. \\\\uf0b7 Atividades de extens\\u00e3o, correspondentes a 466,5 horas: 10% (dez por cento) do total da carga hor\\u00e1ria curricular, em atendimento ao Plano Nacional de Educa\\u00e7\\u00e3o (PNE), regulamentado pela Resolu\\u00e7\\u00e3o CNE/CES n\\u00b0 7/2018. * Grade Refer\\u00eancia Curr\\u00edculo 2024 N\\u00famero de cr\\u00e9ditos exigidos para a conclus\\u00e3o do curso Disciplinas Obrigat\\u00f3rias: 211 (147 cr\\u00e9ditos aula + 64 cr\\u00e9ditos trabalho) Disciplinas Optativas: 30 cr\\u00e9ditos aula Total cr\\u00e9ditos: 241', 'length': 1857, 'num_tokens': 328}\"\n        ],\n        \"semantic_type\": \"\",\n        \"description\": \"\"\n      }\n    },\n    {\n      \"column\": \"question\",\n      \"properties\": {\n        \"dtype\": \"string\",\n        \"num_unique_values\": 5,\n        \"samples\": [\n          \"Quais s\\u00e3o os objetivos da disciplina SSC0119 \\u2013 Pr\\u00e1tica em Organiza\\u00e7\\u00e3o de Computadores?\",\n          \"Quais s\\u00e3o as disciplinas do segundo semestre letivo e quais s\\u00e3o os requisitos para curs\\u00e1-las?\",\n          \"Quantos cr\\u00e9ditos s\\u00e3o exigidos para a conclus\\u00e3o do curso em disciplinas obrigat\\u00f3rias?\"\n        ],\n        \"semantic_type\": \"\",\n        \"description\": \"\"\n      }\n    },\n    {\n      \"column\": \"answer\",\n      \"properties\": {\n        \"dtype\": \"string\",\n        \"num_unique_values\": 5,\n        \"samples\": [\n          \"Fornecer ao aluno experi\\u00eancias pr\\u00e1ticas sobre m\\u00e1quinas de estados finitos e componentes b\\u00e1sicos de uma CPU. Projeto e implementa\\u00e7\\u00e3o de uma CPU usando tecnologia FPGA.\",\n          \"No segundo semestre letivo, as disciplinas s\\u00e3o: 7600105 F\\u00edsica B\\u00e1sica I, SCC 201 Introdu\\u00e7\\u00e3o \\u00e0 Ci\\u00eancia de Computa\\u00e7\\u00e3o II, SCC 202 Algoritmos e Estruturas de Dados I, SMA 180 Matem\\u00e1tica Discreta I, SMA 354 C\\u00e1lculo II, SSC 118 Sistemas Digitais e SSC 108 Pr\\u00e1tica em Sistemas Digitais. Os requisitos incluem SCC 221, SCC 201, SMA 353 e SSC 117.\",\n          \"211 (147 cr\\u00e9ditos aula + 64 cr\\u00e9ditos trabalho).\"\n        ],\n        \"semantic_type\": \"\",\n        \"description\": \"\"\n      }\n    },\n    {\n      \"column\": \"course\",\n      \"properties\": {\n        \"dtype\": \"category\",\n        \"num_unique_values\": 1,\n        \"samples\": [\n          \"Bacharelado em Ci\\u00eancia da Computa\\u00e7\\u00e3o\"\n        ],\n        \"semantic_type\": \"\",\n        \"description\": \"\"\n      }\n    },\n    {\n      \"column\": \"persona\",\n      \"properties\": {\n        \"dtype\": \"category\",\n        \"num_unique_values\": 2,\n        \"samples\": [\n          \"professor\"\n        ],\n        \"semantic_type\": \"\",\n        \"description\": \"\"\n      }\n    }\n  ]\n}",
       "type": "dataframe"
      },
      "text/html": [
       "\n",
       "  <div id=\"df-c5890e45-1908-4faf-8a7b-ebfb2430b815\" class=\"colab-df-container\">\n",
       "    <div>\n",
       "<style scoped>\n",
       "    .dataframe tbody tr th:only-of-type {\n",
       "        vertical-align: middle;\n",
       "    }\n",
       "\n",
       "    .dataframe tbody tr th {\n",
       "        vertical-align: top;\n",
       "    }\n",
       "\n",
       "    .dataframe thead th {\n",
       "        text-align: right;\n",
       "    }\n",
       "</style>\n",
       "<table border=\"1\" class=\"dataframe\">\n",
       "  <thead>\n",
       "    <tr style=\"text-align: right;\">\n",
       "      <th></th>\n",
       "      <th>source_text</th>\n",
       "      <th>question</th>\n",
       "      <th>answer</th>\n",
       "      <th>course</th>\n",
       "      <th>persona</th>\n",
       "    </tr>\n",
       "  </thead>\n",
       "  <tbody>\n",
       "    <tr>\n",
       "      <th>179</th>\n",
       "      <td>{'doc_name': 'ppp_bcc', 'chunk_id': 18, 'start...</td>\n",
       "      <td>Qual é o objetivo do curso em relação ao domín...</td>\n",
       "      <td>Apresentar ao aluno a conceituação teórica das...</td>\n",
       "      <td>Bacharelado em Ciência da Computação</td>\n",
       "      <td>aluno</td>\n",
       "    </tr>\n",
       "    <tr>\n",
       "      <th>123</th>\n",
       "      <td>{'doc_name': 'ppp_bcc', 'chunk_id': 13, 'start...</td>\n",
       "      <td>Quais são os objetivos da disciplina SSC0119 –...</td>\n",
       "      <td>Fornecer ao aluno experiências práticas sobre ...</td>\n",
       "      <td>Bacharelado em Ciência da Computação</td>\n",
       "      <td>aluno</td>\n",
       "    </tr>\n",
       "    <tr>\n",
       "      <th>327</th>\n",
       "      <td>{'doc_name': 'ppp_bcc', 'chunk_id': 33, 'start...</td>\n",
       "      <td>Quantos créditos são exigidos para a conclusão...</td>\n",
       "      <td>211 (147 créditos aula + 64 créditos trabalho).</td>\n",
       "      <td>Bacharelado em Ciência da Computação</td>\n",
       "      <td>aluno</td>\n",
       "    </tr>\n",
       "    <tr>\n",
       "      <th>485</th>\n",
       "      <td>{'doc_name': 'ppp_bcc', 'chunk_id': 14, 'start...</td>\n",
       "      <td>Quais são as habilidades desenvolvidas na disc...</td>\n",
       "      <td>Apresentar os conceitos básicos em redes de co...</td>\n",
       "      <td>Bacharelado em Ciência da Computação</td>\n",
       "      <td>professor</td>\n",
       "    </tr>\n",
       "    <tr>\n",
       "      <th>303</th>\n",
       "      <td>{'doc_name': 'ppp_bcc', 'chunk_id': 31, 'start...</td>\n",
       "      <td>Quais são as disciplinas do segundo semestre l...</td>\n",
       "      <td>No segundo semestre letivo, as disciplinas são...</td>\n",
       "      <td>Bacharelado em Ciência da Computação</td>\n",
       "      <td>aluno</td>\n",
       "    </tr>\n",
       "  </tbody>\n",
       "</table>\n",
       "</div>\n",
       "    <div class=\"colab-df-buttons\">\n",
       "\n",
       "  <div class=\"colab-df-container\">\n",
       "    <button class=\"colab-df-convert\" onclick=\"convertToInteractive('df-c5890e45-1908-4faf-8a7b-ebfb2430b815')\"\n",
       "            title=\"Convert this dataframe to an interactive table.\"\n",
       "            style=\"display:none;\">\n",
       "\n",
       "  <svg xmlns=\"http://www.w3.org/2000/svg\" height=\"24px\" viewBox=\"0 -960 960 960\">\n",
       "    <path d=\"M120-120v-720h720v720H120Zm60-500h600v-160H180v160Zm220 220h160v-160H400v160Zm0 220h160v-160H400v160ZM180-400h160v-160H180v160Zm440 0h160v-160H620v160ZM180-180h160v-160H180v160Zm440 0h160v-160H620v160Z\"/>\n",
       "  </svg>\n",
       "    </button>\n",
       "\n",
       "  <style>\n",
       "    .colab-df-container {\n",
       "      display:flex;\n",
       "      gap: 12px;\n",
       "    }\n",
       "\n",
       "    .colab-df-convert {\n",
       "      background-color: #E8F0FE;\n",
       "      border: none;\n",
       "      border-radius: 50%;\n",
       "      cursor: pointer;\n",
       "      display: none;\n",
       "      fill: #1967D2;\n",
       "      height: 32px;\n",
       "      padding: 0 0 0 0;\n",
       "      width: 32px;\n",
       "    }\n",
       "\n",
       "    .colab-df-convert:hover {\n",
       "      background-color: #E2EBFA;\n",
       "      box-shadow: 0px 1px 2px rgba(60, 64, 67, 0.3), 0px 1px 3px 1px rgba(60, 64, 67, 0.15);\n",
       "      fill: #174EA6;\n",
       "    }\n",
       "\n",
       "    .colab-df-buttons div {\n",
       "      margin-bottom: 4px;\n",
       "    }\n",
       "\n",
       "    [theme=dark] .colab-df-convert {\n",
       "      background-color: #3B4455;\n",
       "      fill: #D2E3FC;\n",
       "    }\n",
       "\n",
       "    [theme=dark] .colab-df-convert:hover {\n",
       "      background-color: #434B5C;\n",
       "      box-shadow: 0px 1px 3px 1px rgba(0, 0, 0, 0.15);\n",
       "      filter: drop-shadow(0px 1px 2px rgba(0, 0, 0, 0.3));\n",
       "      fill: #FFFFFF;\n",
       "    }\n",
       "  </style>\n",
       "\n",
       "    <script>\n",
       "      const buttonEl =\n",
       "        document.querySelector('#df-c5890e45-1908-4faf-8a7b-ebfb2430b815 button.colab-df-convert');\n",
       "      buttonEl.style.display =\n",
       "        google.colab.kernel.accessAllowed ? 'block' : 'none';\n",
       "\n",
       "      async function convertToInteractive(key) {\n",
       "        const element = document.querySelector('#df-c5890e45-1908-4faf-8a7b-ebfb2430b815');\n",
       "        const dataTable =\n",
       "          await google.colab.kernel.invokeFunction('convertToInteractive',\n",
       "                                                    [key], {});\n",
       "        if (!dataTable) return;\n",
       "\n",
       "        const docLinkHtml = 'Like what you see? Visit the ' +\n",
       "          '<a target=\"_blank\" href=https://colab.research.google.com/notebooks/data_table.ipynb>data table notebook</a>'\n",
       "          + ' to learn more about interactive tables.';\n",
       "        element.innerHTML = '';\n",
       "        dataTable['output_type'] = 'display_data';\n",
       "        await google.colab.output.renderOutput(dataTable, element);\n",
       "        const docLink = document.createElement('div');\n",
       "        docLink.innerHTML = docLinkHtml;\n",
       "        element.appendChild(docLink);\n",
       "      }\n",
       "    </script>\n",
       "  </div>\n",
       "\n",
       "\n",
       "    <div id=\"df-80517ef1-b252-4eea-b767-a8df8c9eb70e\">\n",
       "      <button class=\"colab-df-quickchart\" onclick=\"quickchart('df-80517ef1-b252-4eea-b767-a8df8c9eb70e')\"\n",
       "                title=\"Suggest charts\"\n",
       "                style=\"display:none;\">\n",
       "\n",
       "<svg xmlns=\"http://www.w3.org/2000/svg\" height=\"24px\"viewBox=\"0 0 24 24\"\n",
       "     width=\"24px\">\n",
       "    <g>\n",
       "        <path d=\"M19 3H5c-1.1 0-2 .9-2 2v14c0 1.1.9 2 2 2h14c1.1 0 2-.9 2-2V5c0-1.1-.9-2-2-2zM9 17H7v-7h2v7zm4 0h-2V7h2v10zm4 0h-2v-4h2v4z\"/>\n",
       "    </g>\n",
       "</svg>\n",
       "      </button>\n",
       "\n",
       "<style>\n",
       "  .colab-df-quickchart {\n",
       "      --bg-color: #E8F0FE;\n",
       "      --fill-color: #1967D2;\n",
       "      --hover-bg-color: #E2EBFA;\n",
       "      --hover-fill-color: #174EA6;\n",
       "      --disabled-fill-color: #AAA;\n",
       "      --disabled-bg-color: #DDD;\n",
       "  }\n",
       "\n",
       "  [theme=dark] .colab-df-quickchart {\n",
       "      --bg-color: #3B4455;\n",
       "      --fill-color: #D2E3FC;\n",
       "      --hover-bg-color: #434B5C;\n",
       "      --hover-fill-color: #FFFFFF;\n",
       "      --disabled-bg-color: #3B4455;\n",
       "      --disabled-fill-color: #666;\n",
       "  }\n",
       "\n",
       "  .colab-df-quickchart {\n",
       "    background-color: var(--bg-color);\n",
       "    border: none;\n",
       "    border-radius: 50%;\n",
       "    cursor: pointer;\n",
       "    display: none;\n",
       "    fill: var(--fill-color);\n",
       "    height: 32px;\n",
       "    padding: 0;\n",
       "    width: 32px;\n",
       "  }\n",
       "\n",
       "  .colab-df-quickchart:hover {\n",
       "    background-color: var(--hover-bg-color);\n",
       "    box-shadow: 0 1px 2px rgba(60, 64, 67, 0.3), 0 1px 3px 1px rgba(60, 64, 67, 0.15);\n",
       "    fill: var(--button-hover-fill-color);\n",
       "  }\n",
       "\n",
       "  .colab-df-quickchart-complete:disabled,\n",
       "  .colab-df-quickchart-complete:disabled:hover {\n",
       "    background-color: var(--disabled-bg-color);\n",
       "    fill: var(--disabled-fill-color);\n",
       "    box-shadow: none;\n",
       "  }\n",
       "\n",
       "  .colab-df-spinner {\n",
       "    border: 2px solid var(--fill-color);\n",
       "    border-color: transparent;\n",
       "    border-bottom-color: var(--fill-color);\n",
       "    animation:\n",
       "      spin 1s steps(1) infinite;\n",
       "  }\n",
       "\n",
       "  @keyframes spin {\n",
       "    0% {\n",
       "      border-color: transparent;\n",
       "      border-bottom-color: var(--fill-color);\n",
       "      border-left-color: var(--fill-color);\n",
       "    }\n",
       "    20% {\n",
       "      border-color: transparent;\n",
       "      border-left-color: var(--fill-color);\n",
       "      border-top-color: var(--fill-color);\n",
       "    }\n",
       "    30% {\n",
       "      border-color: transparent;\n",
       "      border-left-color: var(--fill-color);\n",
       "      border-top-color: var(--fill-color);\n",
       "      border-right-color: var(--fill-color);\n",
       "    }\n",
       "    40% {\n",
       "      border-color: transparent;\n",
       "      border-right-color: var(--fill-color);\n",
       "      border-top-color: var(--fill-color);\n",
       "    }\n",
       "    60% {\n",
       "      border-color: transparent;\n",
       "      border-right-color: var(--fill-color);\n",
       "    }\n",
       "    80% {\n",
       "      border-color: transparent;\n",
       "      border-right-color: var(--fill-color);\n",
       "      border-bottom-color: var(--fill-color);\n",
       "    }\n",
       "    90% {\n",
       "      border-color: transparent;\n",
       "      border-bottom-color: var(--fill-color);\n",
       "    }\n",
       "  }\n",
       "</style>\n",
       "\n",
       "      <script>\n",
       "        async function quickchart(key) {\n",
       "          const quickchartButtonEl =\n",
       "            document.querySelector('#' + key + ' button');\n",
       "          quickchartButtonEl.disabled = true;  // To prevent multiple clicks.\n",
       "          quickchartButtonEl.classList.add('colab-df-spinner');\n",
       "          try {\n",
       "            const charts = await google.colab.kernel.invokeFunction(\n",
       "                'suggestCharts', [key], {});\n",
       "          } catch (error) {\n",
       "            console.error('Error during call to suggestCharts:', error);\n",
       "          }\n",
       "          quickchartButtonEl.classList.remove('colab-df-spinner');\n",
       "          quickchartButtonEl.classList.add('colab-df-quickchart-complete');\n",
       "        }\n",
       "        (() => {\n",
       "          let quickchartButtonEl =\n",
       "            document.querySelector('#df-80517ef1-b252-4eea-b767-a8df8c9eb70e button');\n",
       "          quickchartButtonEl.style.display =\n",
       "            google.colab.kernel.accessAllowed ? 'block' : 'none';\n",
       "        })();\n",
       "      </script>\n",
       "    </div>\n",
       "\n",
       "    </div>\n",
       "  </div>\n"
      ],
      "text/plain": [
       "                                           source_text  \\\n",
       "179  {'doc_name': 'ppp_bcc', 'chunk_id': 18, 'start...   \n",
       "123  {'doc_name': 'ppp_bcc', 'chunk_id': 13, 'start...   \n",
       "327  {'doc_name': 'ppp_bcc', 'chunk_id': 33, 'start...   \n",
       "485  {'doc_name': 'ppp_bcc', 'chunk_id': 14, 'start...   \n",
       "303  {'doc_name': 'ppp_bcc', 'chunk_id': 31, 'start...   \n",
       "\n",
       "                                              question  \\\n",
       "179  Qual é o objetivo do curso em relação ao domín...   \n",
       "123  Quais são os objetivos da disciplina SSC0119 –...   \n",
       "327  Quantos créditos são exigidos para a conclusão...   \n",
       "485  Quais são as habilidades desenvolvidas na disc...   \n",
       "303  Quais são as disciplinas do segundo semestre l...   \n",
       "\n",
       "                                                answer  \\\n",
       "179  Apresentar ao aluno a conceituação teórica das...   \n",
       "123  Fornecer ao aluno experiências práticas sobre ...   \n",
       "327    211 (147 créditos aula + 64 créditos trabalho).   \n",
       "485  Apresentar os conceitos básicos em redes de co...   \n",
       "303  No segundo semestre letivo, as disciplinas são...   \n",
       "\n",
       "                                   course    persona  \n",
       "179  Bacharelado em Ciência da Computação      aluno  \n",
       "123  Bacharelado em Ciência da Computação      aluno  \n",
       "327  Bacharelado em Ciência da Computação      aluno  \n",
       "485  Bacharelado em Ciência da Computação  professor  \n",
       "303  Bacharelado em Ciência da Computação      aluno  "
      ]
     },
     "metadata": {},
     "output_type": "display_data"
    },
    {
     "name": "stdout",
     "output_type": "stream",
     "text": [
      "Total de perguntas: 1050\n",
      "\n",
      "Exemplo de Q&A:\n",
      "Q: Quais são as três áreas de atuação definidas para o egresso do curso de Bacharelado em Ciências de Computação?\n",
      "A: As três áreas de atuação definidas são: 1. Mercado de trabalho, que engloba indústrias de computadores, empresas de software e setores de processamento de dados de instituições públicas e privadas; 2. Atividades de pesquisa; 3. Ações de empreendedorismo na área de computação.\n"
     ]
    }
   ],
   "source": [
    "# Exibe exemplos de dados do faq.csv\n",
    "unificado_df_data = pd.read_csv(f\"{unificado_dir}/faq.csv\")\n",
    "\n",
    "# Mostrar o cabeçalho do dataframe\n",
    "display(unificado_df_data.sample(5))\n",
    "print(f\"Total de perguntas: {len(unificado_df_data)}\")\n",
    "\n",
    "# Exibir um exemplo de pergunta e resposta\n",
    "if unificado_df_data.empty:\n",
    "    print(\"DataFrame vazio, sem exemplos para exibir.\")\n",
    "else:\n",
    "    example_row = unificado_df_data.iloc[370]\n",
    "\n",
    "    print(\"\\nExemplo de Q&A:\")\n",
    "    print(f\"Q: {example_row['question']}\")\n",
    "    print(f\"A: {example_row['answer']}\")"
   ]
  },
  {
   "cell_type": "markdown",
   "metadata": {
    "id": "zDlMIN-l3mqa"
   },
   "source": [
    "## Geração de Embeddings\n",
    "Cria representações vetoriais (embeddings) para todas as perguntas das FAQs, permitindo buscas por similaridade.\n",
    "\n",
    "- **Saída**: `embeddings.npy` — arquivo com as representações vetoriais das perguntas.\n"
   ]
  },
  {
   "cell_type": "code",
   "execution_count": null,
   "metadata": {
    "colab": {
     "base_uri": "https://localhost:8080/",
     "height": 531,
     "referenced_widgets": [
      "6ff3a0d8f3a441c09daaa2f5d42b67e3",
      "d6d5e08ed7a548279b47f4ac06a97e81",
      "6b7c3867d6f94bbc953aa58fc8472ea1",
      "dedd0fc329d24d16b4090de9f800f67a",
      "7ba48c4ec7f6486fa0d876908d969633",
      "bd154c3c337341cdbf9705d10751e83c",
      "bb645d8076b24ceab75493990ef41b30",
      "009eea0e030e42c9adf9164c06ae890e",
      "acc16d01734046b9bc0e292684402954",
      "7f22cf6263814322a4fd04020a436795",
      "d85e98f502fb467b9465db376f61250d",
      "335fb16cdcf64084a8c0e392f7fd9c5d",
      "d326d29ceca940c582e62fbeaa9a0ae7",
      "0ff9597fbd094e5ca3655263f7a62402",
      "84d590af17984570ac7ea8764e0b391f",
      "4470d4eba5664d0f8340f98a122a35e3",
      "6b3ae29b7c8442e3a015eba58a1bba69",
      "6c852b836a5948d2b9a2d8e6d14f26c9",
      "17fd29f15b004d8dbdcfbc8a144ecea6",
      "de5bc1fcdcaf4ffb8004d4f151c6565b",
      "fcc72173c4904cdd80bda13cf0d821e2",
      "a2cdd2fe02b948f9beaf014cfbfd05a9",
      "0172e82da85f442886786d4c93371e7a",
      "629c542a741643e490c8a3d74ccc8224",
      "eebf730773dd4695895972d0c3386aa4",
      "0452f22507794f3e92553c70d5fb0825",
      "bdbd52a2e5d3415f82e4a48d48f6ca54",
      "061596bc794b4b539b9820e05e6a1447",
      "e35e5a8d2d8f4a72a314737f568dcf10",
      "25ec7c60e7034f32b3e7440ea3d17b3d",
      "3e7c4c0a81c1435da0039074adfae87b",
      "c3bc529484b94ea99896974b5dfeedc6",
      "1ace6bb78cd7440ab7e4db8143b7805f",
      "7486f36c90b4446b8b7ba94b5dfb29db",
      "2d81e80d848745a5bded7e54a7160457",
      "ddcc09ae3b924f4a881fe8bd130cf236",
      "8592b36a49bd408fb6bb4e422c11c839",
      "05638350cd2349678c5149531183f5a2",
      "f1eecbb81e71481d973fce710cae20cb",
      "032bb24c52a848429b6e8ee99486fcc7",
      "cde46504d63f43908a279c240eac7aaf",
      "2b271722385148f78680266d8d623e14",
      "9c0fada2b96e41e1a8cfb03706fd12c1",
      "3648482898ef49dcb05095e46fe3c065",
      "8b3a7e85796f498a95b94ccb4aed3366",
      "651aa169ab1949e1ab24ea7226a1a55d",
      "09a94959b0134ad1b5782afb169bdd5c",
      "13f27f7fb7ea4846827619cbbb0af22e",
      "f7bdc11bfde44b4fa04b5e8d7acae5da",
      "17339d22aede412cacbea5d12acb6348",
      "5ba88277af164d92b5d79d4577713a50",
      "f899a1e46f6a4d8187f6d16d5aaf0854",
      "7dd19888f6a149fd9a77a62b285b7178",
      "b7d5c64b22bd48b093ff33f2e3f37708",
      "b85f36b3b0ee4bcd8e55c38bb0608b52",
      "4b2186a33ba34760a476a42cb7a91657",
      "ef65b2c78085407a9fc047b86f7a46ee",
      "11e0d91033fc438b8ccaa79aceffa7de",
      "4cf31cc5b51d4233a38f4601740d1b67",
      "ea979b22f579456ca4482421dcafd48c",
      "df80d4b2fc644124b7df0567915a51aa",
      "4f036782ccbb41cc9c19c657ee521108",
      "50a2660a7b084c8ab39c48e4d84f848b",
      "f2b17b32ecd1469db8f9ecbaf1ba85b9",
      "5cfa3cbb13e149d181b90f1b636c3b35",
      "7997a2a47619482782547068d7311a85",
      "1208655cb85d41ac8636e0a7f62c977d",
      "23f185b95c2b423c8f2f4d3f2854ef69",
      "be35334c68854724bd5c9898f2dde40d",
      "dbe9b3ec44734dd588a603ab89f28978",
      "15f295426d4d4d6292185e08b8d175d4",
      "ee90e9a753e34f09aecbc8f8b48c9156",
      "81c970ad8ea1491e8619dc2de4028e2e",
      "92155f91307a45a0ae0cd4a470e4df6f",
      "071d9d757bb94636911429f02dd237a0",
      "54ce234bb5c54d9c81100fa83da4f4ac",
      "7e5d13afab6c4506a8020299e1b71269",
      "ecd9416e8bff451f96fbae7ffbce8605",
      "1fcc5a14d4fd4baf8d833b5128c547da",
      "71102ef9b9c44e66a256d2ea4e85defb",
      "7b935eaa5396469da91007d1b8ac67b5",
      "ae6edbcca52a4cd0a7b0623f76f2fff1",
      "b0b478b4ad6d420d986ee943d61b5fe0",
      "8197c1a0f3aa448e9a5862e684a16122",
      "22efaf93ec1f4588bb3c3f65aac478e2",
      "b6aab413c12b4086ada2904c77a3e518",
      "8e9be00a7ab9416c919f968051202606",
      "37e256cc4ff74a998c5e47ddee328b26",
      "e822d30137de4eeb85cc5f97eaefa39a",
      "6bf45799d9454d7ebd7b34ae51e13389",
      "36ef064a345c476db9195fbae636fe50",
      "bddbd7a7e49f4485bd17272aa3b0ed34",
      "7f175001219c4e24b53700c164bf4403",
      "64e6e83c31304561b6751e8233d0df09",
      "135d15ac5daa48a29d12871826702d41",
      "86bf7ee46cab450ba3d63d3bde354034",
      "b1d214af0a5e45ce8d6e8de26305287e",
      "74052073e0324a82965c0790f2e1adba",
      "c65d0185d2fe4079b0e47553e9ebedb4",
      "5d2e96263c3743459d24a23a3e2d9b9f",
      "7ce31f45bb8b4e828dc8ccf2d24d5c86",
      "ef7f1434358146dc8a35d56284e7a671",
      "023b23b65db740fba8f515b5b14f181f",
      "2a03fdec1aa649eaa4a2eda54195bf23",
      "b291322cdb054f12a8c4c4392f388364",
      "934aae369ea144c3bb3a125865bb0c38",
      "86e3ec0685434b8189dca76d11e84a48",
      "e33c921db18a40de834554cb6842e43a",
      "e7566c93d6f94a52b6da37ac90851186",
      "e269b26476164c49b1132955331e6eca"
     ]
    },
    "collapsed": true,
    "id": "Wb3NTGfD2PyZ",
    "outputId": "24fe7e1c-151a-4ca0-bd7b-c59af76d01f8"
   },
   "outputs": [
    {
     "name": "stderr",
     "output_type": "stream",
     "text": [
      "/usr/local/lib/python3.12/dist-packages/huggingface_hub/utils/_auth.py:94: UserWarning: \n",
      "The secret `HF_TOKEN` does not exist in your Colab secrets.\n",
      "To authenticate with the Hugging Face Hub, create a token in your settings tab (https://huggingface.co/settings/tokens), set it as secret in your Google Colab and restart your session.\n",
      "You will be able to reuse this secret in all of your notebooks.\n",
      "Please note that authentication is recommended but still optional to access public models or datasets.\n",
      "  warnings.warn(\n"
     ]
    },
    {
     "data": {
      "application/vnd.jupyter.widget-view+json": {
       "model_id": "6ff3a0d8f3a441c09daaa2f5d42b67e3",
       "version_major": 2,
       "version_minor": 0
      },
      "text/plain": [
       "modules.json:   0%|          | 0.00/229 [00:00<?, ?B/s]"
      ]
     },
     "metadata": {},
     "output_type": "display_data"
    },
    {
     "data": {
      "application/vnd.jupyter.widget-view+json": {
       "model_id": "335fb16cdcf64084a8c0e392f7fd9c5d",
       "version_major": 2,
       "version_minor": 0
      },
      "text/plain": [
       "config_sentence_transformers.json:   0%|          | 0.00/122 [00:00<?, ?B/s]"
      ]
     },
     "metadata": {},
     "output_type": "display_data"
    },
    {
     "data": {
      "application/vnd.jupyter.widget-view+json": {
       "model_id": "0172e82da85f442886786d4c93371e7a",
       "version_major": 2,
       "version_minor": 0
      },
      "text/plain": [
       "README.md: 0.00B [00:00, ?B/s]"
      ]
     },
     "metadata": {},
     "output_type": "display_data"
    },
    {
     "data": {
      "application/vnd.jupyter.widget-view+json": {
       "model_id": "7486f36c90b4446b8b7ba94b5dfb29db",
       "version_major": 2,
       "version_minor": 0
      },
      "text/plain": [
       "sentence_bert_config.json:   0%|          | 0.00/53.0 [00:00<?, ?B/s]"
      ]
     },
     "metadata": {},
     "output_type": "display_data"
    },
    {
     "data": {
      "application/vnd.jupyter.widget-view+json": {
       "model_id": "8b3a7e85796f498a95b94ccb4aed3366",
       "version_major": 2,
       "version_minor": 0
      },
      "text/plain": [
       "config.json:   0%|          | 0.00/645 [00:00<?, ?B/s]"
      ]
     },
     "metadata": {},
     "output_type": "display_data"
    },
    {
     "data": {
      "application/vnd.jupyter.widget-view+json": {
       "model_id": "4b2186a33ba34760a476a42cb7a91657",
       "version_major": 2,
       "version_minor": 0
      },
      "text/plain": [
       "model.safetensors:   0%|          | 0.00/471M [00:00<?, ?B/s]"
      ]
     },
     "metadata": {},
     "output_type": "display_data"
    },
    {
     "data": {
      "application/vnd.jupyter.widget-view+json": {
       "model_id": "1208655cb85d41ac8636e0a7f62c977d",
       "version_major": 2,
       "version_minor": 0
      },
      "text/plain": [
       "tokenizer_config.json:   0%|          | 0.00/480 [00:00<?, ?B/s]"
      ]
     },
     "metadata": {},
     "output_type": "display_data"
    },
    {
     "data": {
      "application/vnd.jupyter.widget-view+json": {
       "model_id": "ecd9416e8bff451f96fbae7ffbce8605",
       "version_major": 2,
       "version_minor": 0
      },
      "text/plain": [
       "tokenizer.json:   0%|          | 0.00/9.08M [00:00<?, ?B/s]"
      ]
     },
     "metadata": {},
     "output_type": "display_data"
    },
    {
     "data": {
      "application/vnd.jupyter.widget-view+json": {
       "model_id": "e822d30137de4eeb85cc5f97eaefa39a",
       "version_major": 2,
       "version_minor": 0
      },
      "text/plain": [
       "special_tokens_map.json:   0%|          | 0.00/239 [00:00<?, ?B/s]"
      ]
     },
     "metadata": {},
     "output_type": "display_data"
    },
    {
     "data": {
      "application/vnd.jupyter.widget-view+json": {
       "model_id": "5d2e96263c3743459d24a23a3e2d9b9f",
       "version_major": 2,
       "version_minor": 0
      },
      "text/plain": [
       "config.json:   0%|          | 0.00/190 [00:00<?, ?B/s]"
      ]
     },
     "metadata": {},
     "output_type": "display_data"
    },
    {
     "name": "stderr",
     "output_type": "stream",
     "text": [
      "Generating embeddings: 100%|██████████| 1050/1050 [00:56<00:00, 18.73it/s]\n"
     ]
    },
    {
     "name": "stdout",
     "output_type": "stream",
     "text": [
      "✅ Embeddings saved to: projects/test_project/ppp_bcc/unificado\n"
     ]
    },
    {
     "name": "stderr",
     "output_type": "stream",
     "text": [
      "Generating embeddings: 100%|██████████| 350/350 [00:16<00:00, 21.12it/s]"
     ]
    },
    {
     "name": "stdout",
     "output_type": "stream",
     "text": [
      "✅ Embeddings saved to: projects/test_project/ppp_bcc/individual\n"
     ]
    },
    {
     "name": "stderr",
     "output_type": "stream",
     "text": [
      "\n"
     ]
    }
   ],
   "source": [
    "# Gera embeddings somente se as respectivas etapas de geração de FAQ foram executadas\n",
    "if unificado_dir:\n",
    "    embed_faqs(config, unificado_dir)\n",
    "\n",
    "if individual_dir:\n",
    "    embed_faqs(config, individual_dir)"
   ]
  },
  {
   "cell_type": "markdown",
   "metadata": {
    "id": "a9bkxCoc3wKS"
   },
   "source": [
    "## Testes"
   ]
  },
  {
   "cell_type": "markdown",
   "metadata": {
    "id": "9BEjsWfSbsjn"
   },
   "source": [
    "### Teste 1 — FAQs e embeddings gerados neste notebook\n",
    "\n",
    "Executa um teste rápido usando a base criada acima:\n",
    "- Consulta na base individual (persona única: aluno)\n",
    "- Consulta na base unificada (multi‑persona: aluno, professor, pesquisador)"
   ]
  },
  {
   "cell_type": "code",
   "execution_count": null,
   "metadata": {
    "colab": {
     "base_uri": "https://localhost:8080/"
    },
    "id": "MvSJmjA932WI",
    "outputId": "e53a870e-c0f6-4287-b18e-b4e3b315f54d"
   },
   "outputs": [
    {
     "name": "stdout",
     "output_type": "stream",
     "text": [
      "Question: \n",
      "Qual é a carga horária do curso?\n",
      "\n",
      "Resposta individual (persona única: aluno):\n",
      "Resposta Final: O curso tem uma carga horária total de 4575 horas.\n",
      "\n",
      "Evidência de Apoio: \n",
      "- O documento [1] não fornece explicitamente a carga horária, mas menciona várias exigências do curso.\n",
      "- O documento [2] e [3] afirmam explicitamente que \"No geral, o aluno deve cursar 241 créditos, que totalizam 4575 horas de estudo\".\n",
      "- O documento [4] e [5] também confirmam que o total de créditos exigidos é 241, composto por 211 créditos obrigatórios e 30 créditos optativos, totalizando 4575 horas de estudo.\n",
      "\n",
      "Resposta unificado (multi-persona: aluno, professor, pesquisador):\n",
      "Resposta Final: O curso de Bacharelado em Ciências de Computação exige um total de 4575 horas de estudo, distribuídos em 241 créditos, que são compostos por:\n",
      "\n",
      "- 211 créditos obrigatórios (147 créditos aula e 64 créditos trabalho)\n",
      "- 30 créditos aula em disciplinas optativas\n",
      "\n",
      "Além disso, os alunos devem cumprir:\n",
      "- 90 horas de Atividades Acadêmicas Complementares (AACs), correspondentes a 3 créditos trabalho\n",
      "- 466,5 horas de atividades de extensão, correspondendo a 10% do total da carga horária curricular.\n",
      "\n",
      "Evidência de Apoio: [1][2]\n"
     ]
    }
   ],
   "source": [
    "# Consulta direta via funções (individual e unificado)\n",
    "\n",
    "from rag_faq.generator import generate_rag_answer\n",
    "\n",
    "question = \"Qual é a carga horária do curso?\"\n",
    "print(f\"Question: \\n{question}\\n\")\n",
    "\n",
    "print(\"Resposta individual (persona única: aluno):\")\n",
    "result_individual = generate_rag_answer(config, individual_dir, question)\n",
    "print(result_individual[\"answer\"])\n",
    "\n",
    "print(\"\\nResposta unificado (multi-persona: aluno, professor, pesquisador):\")\n",
    "result_unificado = generate_rag_answer(config, unificado_dir, question)\n",
    "print(result_unificado[\"answer\"])\n"
   ]
  },
  {
   "cell_type": "code",
   "execution_count": null,
   "metadata": {
    "colab": {
     "base_uri": "https://localhost:8080/"
    },
    "id": "xbMC6B55bh7C",
    "outputId": "78685548-fa5c-43e9-8351-6158c505bcf1"
   },
   "outputs": [
    {
     "name": "stdout",
     "output_type": "stream",
     "text": [
      "2025-10-22 14:58:38.584461: E external/local_xla/xla/stream_executor/cuda/cuda_fft.cc:467] Unable to register cuFFT factory: Attempting to register factory for plugin cuFFT when one has already been registered\n",
      "WARNING: All log messages before absl::InitializeLog() is called are written to STDERR\n",
      "E0000 00:00:1761145118.623825    8642 cuda_dnn.cc:8579] Unable to register cuDNN factory: Attempting to register factory for plugin cuDNN when one has already been registered\n",
      "E0000 00:00:1761145118.635819    8642 cuda_blas.cc:1407] Unable to register cuBLAS factory: Attempting to register factory for plugin cuBLAS when one has already been registered\n",
      "W0000 00:00:1761145118.672344    8642 computation_placer.cc:177] computation placer already registered. Please check linkage and avoid linking the same target more than once.\n",
      "W0000 00:00:1761145118.672417    8642 computation_placer.cc:177] computation placer already registered. Please check linkage and avoid linking the same target more than once.\n",
      "W0000 00:00:1761145118.672422    8642 computation_placer.cc:177] computation placer already registered. Please check linkage and avoid linking the same target more than once.\n",
      "W0000 00:00:1761145118.672426    8642 computation_placer.cc:177] computation placer already registered. Please check linkage and avoid linking the same target more than once.\n",
      "🔎 Enter your question: Qual é a carga horária do curso?\n",
      "\n",
      "🔎 Context used:\n",
      "[1]\n",
      "Text: {'doc_name': 'ppp_bcc', 'chunk_id': 20, 'start_page': 20, 'end_page': 21, 'pages': '20,21', 'text': '20 computação. ● 90 horas de Atividades Acadêmicas Complementares Visam à complementação do currículo escolar do aluno, agregando conhecimentos e experiências a sua formação profissional, dando a ele oportunidade de colocar em prática os conteúdos trabalhados ao longo do curso e estimulando a prática de estudos independentes e a interdisciplinaridade. Dessa maneira, o aluno deverá realizar/participar de atividades acadêmicas, científicas, de pesquisa, de extensão ou culturais. Essas horas também atendem as exigências do Plano Nacional de Educação, bem como das Diretrizes Curriculares Nacionais e Lei de Diretrizes e Bases da Educação referentes às Atividades Acadêmicas Complementares (AACs) que são obrigatórias e fazem parte da matriz curricular dos cursos de graduação, bacharelado e licenciatura. Além dessas disciplinas, consideram se todas as demais disciplinas que envolvem seminários e trabalhos em grupo. (6) Disciplinas nas quais está previsto o desenvolvimento de Atividades de Extensão. Conforme definido na Resolução CNE/CES 07/2018, os cursos de graduação deverão ter, no mínimo, 10% de sua carga horária total destinados a realização de atividades de extensão, onde os alunos deverão atuar como protagonistas, desenvolvendo projetos e atividades em prol da comunidade. Objetivo: Incentivar o aluno a desenvolver projetos vinculados a disciplinas que possam refletir na propagação do conhecimento adquirido e em benefícios a sociedade. Busca se desenvolver as seguintes habilidades: a) Desenvolver visão social, senso crítico e a capacidade empreendedora. b) Aplicar o conhecimento e técnicas em projetos e demandas sociais. ● SCC0201 Introdução à Ciência de Computação II ● SCC0205 Teoria da Computação e Linguagens Formais ● SCC0210 Laboratório de Algoritmos Avançados I ● SCC0211 Laboratório de Algoritmos Avançados II ● SCC0213 Metodologia de Pesquisa em Computação ● SCC0218 Algoritmos Avançados e Aplicações ● SCC0219 Introdução ao Desenvolvimento Web ● SCC0221 Introdução à Ciência de Computação I ● SCC0230 Inteligência Artificial ● SCC0244 Mineração a partir de Grandes Bases de Dados ● SCC0245 Processamento Analítico de Dados ● SCC0251 Processamento de Imagens ● SCC0260 Interação Humano Computador e Experiência do Usuário ● SCC0270 Redes Neurais e Aprendizado Profundo ● SCC0275 Introdução à Ciência de Dados ● SCC0276 Aprendizado de Máquina ● SCC0280 Acessibilidade em Sistemas Computacionais ● SCC0282 Recuperação da Informação ● SCC0284 Sistemas de Recomendação\\n\\n21 ● SCC0287 Mineração de Dados Não Estruturados ● SCC0633 Processamento de Linguagem Natural ● SCC0209 Empreendores em Informática ● SME0878 Mineração Estatística de Dados ● SSC0180 Eletrônica para Computação ● SSC0740 Sistemas Embarcados ● SSC0104 Evolução Histórica da Computação e Aplicações ● SSC0108 Prática em Sistemas Digitais ● SSC0124 Análise e Projeto Orientados a Objetos Análise e Projeto Orientados a Objetos ● SSC0128 Gerência de Projetos ● SSC0130 Engenharia de Software ● SSC0140 Sistemas Operacionais I ● SSC0142 Redes de Computadores ● SSC0152 Administração e Gerenciamento de Redes ● SSC0158 Computação em Nuvem e Arquitetura Orientadas a Serviços ● SSC0712 Programação de Robôs Móveis ● SSC713 Sistemas Evolutivos e Aplicados à Robótica ● SSC0900 Engenharia de Segurança ● SSC0901 Laboratório de Engenharia de Segurança ● SSC0902 Organização e Arquitetura de Computadores ● SSC0952 Internet das Coisas ● SSC0954 Infraestrutura para Computação de Alto Desempenho e Sistemas Distribuídos ● SCC0295 Atividades Acadêmicas de Extensão I ● SCC0296 Atividades Acadêmicas de Extensão II 3.2 Aptidões para atuação em empresas de computação Objetivo: Oferecer ao aluno uma visão da organização e das atividades realizadas nas empresas da área de computação. Dentro deste domínio, as seguintes habilidades devem ser desenvolvidas nos alunos: a) Conhecer os principais modelos de estruturas e de técnicas utilizadas nas organizações. b) Desenvolver a capacidade de atuação em equipes multidisciplinares com o desenvolvimento de um bom relacionamento com outros profissionais (tanto da área de computação, como com clientes de outras áreas em geral). c) Desenvolver a capacidade de se adaptar a novas tecnologias. Estas três habilidades serão desenvolvidas nas disciplinas: ● SSC0120 – Sistemas de Informação Dar ao estudante a compreensão do relacionamento existente entre os componentes técnicos de um Sistema de Informação e a Tecnologia de Informação com a estrutura, funções e políticas da organização. Este curso visa colocar os sistemas de informação e a tecnologia de informação no contexto das organizações. ● SCC0291 – Estágio Supervisionado I ● SCC0292 – Estágio Supervisionado II ● SCC0289 – Projeto em Intercâmbio I', 'length': 4736, 'num_tokens': 692} \n",
      "Question: Qual é o percentual mínimo de carga horária total que os cursos de graduação devem destinar à realização de atividades de extensão?\n",
      "Answer: 10% da carga horária total deve ser destinada à realização de atividades de extensão.\n",
      "\n",
      "[2]\n",
      "Text: {'doc_name': 'ppp_bcc', 'chunk_id': 24, 'start_page': 24, 'end_page': 25, 'pages': '24,25', 'text': '24 Apresentar conhecimentos, habilidades e técnicas utilizadas na iniciação, planejamento, execução, controle e encerramento de um projeto.\\n\\n25 4. Estruturação do Curso Seguindo se o currículo de referência da área, recomendado pela Sociedade Brasileira de Computação, as disciplinas do curso podem ser divididas nos núcleos de “fundamentos da computação”, “tecnologias da computação”, “matemática”, “ciências básicas”, “eletrônica” e “contexto social e profissional”. Em relação aos 2 primeiros núcleos, diretamente relacionados aos conteúdos de computação, pode se ver na organização geral que as disciplinas de “fundamentos da computação” encontram se principalmente nos 2 primeiros anos do curso, enquanto as de “tecnologias da computação” estão principalmente nos 2 anos seguintes. Os demais núcleos estão distribuídos nos vários anos do curso. O último ano, em particular, é dedicado principalmente para o desenvolvimento de trabalho de fim de curso, qualquer que seja sua natureza. Sob a ótica do currículo de referência internacional mais recente, recomendado pelas entidades IEEE e ACM, o curso pode ser estratificado em 3 estratos, relacionados às disciplinas “básicas”/“essenciais” (corresponde ao que o currículo de referência da IEEE/ACM chama de Core Tier 1), de “especialização” (Core Tier 2) e “complementares” (Electives), respectivamente. No primeiro estrato, de disciplinas “básicas”/“essenciais”, encontram se todas as disciplinas obrigatórias, que todos os alunos devem cursar para obterem uma formação sólida na área de computação. No segundo estrato, de disciplinas de “especialização”, os alunos podem encontrar conteúdos aprofundados nas várias áreas da computação, que são de grande relevância e que atendem demandas de mercado e da academia, oferecidos na forma de disciplinas optativas que são sempre ofertadas pelos departamentos envolvidos no curso. No último estrato, de disciplinas “complementares”, encontram se disciplinas optativas variáveis que complementam a formação do aluno e lhes permitem obter formações diferenciadas, em função de seus desejos e aptidões. O elenco de disciplinas complementares ofertado em cada ano é eleito, via votação, pelos alunos do perfil correspondente (em geral, são alunos que cursarão o 4º ano do curso, quando essas disciplinas complementares são ofertadas). No 5º ano do curso, que corresponde aos últimos dois semestres, está previsto para os alunos realizarem as disciplinas de estágio ou trabalhos de conclusão de curso, sendo que os alunos podem realizar até o limite de 40 horas semanais de estágio nestes semestres, pois não estão previstas outras disciplinas presenciais. No geral, o aluno deve cursar 241 créditos, que totalizam 4575 horas de estudo, distribuídos em: ● 211 créditos obrigatórios, compostos por 147 créditos aula e 64 créditos trabalho; ● 30 créditos aula em disciplinas optativas (do segundo ou do terceiro estrato de disciplinas). Até o máximo de 10 créditos aula de disciplinas optativas livres, desde que não tenham conteúdo semelhante ao de disciplinas obrigatórias, podem ser utilizados para o cômputo dos créditos de disciplinas optativas eletivas. Além dos créditos em disciplinas obrigatórias e optativas, o aluno deve cumprir, ao longo do curso, 90 horas de Atividades Acadêmicas Complementares (AACs) correspondentes a 3 créditos trabalho. Devem também ser cumpridas 466,5 horas de atividades de extensão que correspondem a 10% (dez por cento) do total da carga horária curricular, em atendimento ao Plano Nacional de Educação (PNE), regulamentado pela Resolução CNE/CES n° 7/2018 e Deliberação CEE 216/2023.', 'length': 3615, 'num_tokens': 526} \n",
      "Question: Quantos créditos e horas de estudo o aluno deve cursar no total?\n",
      "Answer: O aluno deve cursar 241 créditos, que totalizam 4575 horas de estudo.\n",
      "\n",
      "[3]\n",
      "Text: {'doc_name': 'ppp_bcc', 'chunk_id': 25, 'start_page': 25, 'end_page': 26, 'pages': '25,26', 'text': '25 4. Estruturação do Curso Seguindo se o currículo de referência da área, recomendado pela Sociedade Brasileira de Computação, as disciplinas do curso podem ser divididas nos núcleos de “fundamentos da computação”, “tecnologias da computação”, “matemática”, “ciências básicas”, “eletrônica” e “contexto social e profissional”. Em relação aos 2 primeiros núcleos, diretamente relacionados aos conteúdos de computação, pode se ver na organização geral que as disciplinas de “fundamentos da computação” encontram se principalmente nos 2 primeiros anos do curso, enquanto as de “tecnologias da computação” estão principalmente nos 2 anos seguintes. Os demais núcleos estão distribuídos nos vários anos do curso. O último ano, em particular, é dedicado principalmente para o desenvolvimento de trabalho de fim de curso, qualquer que seja sua natureza. Sob a ótica do currículo de referência internacional mais recente, recomendado pelas entidades IEEE e ACM, o curso pode ser estratificado em 3 estratos, relacionados às disciplinas “básicas”/“essenciais” (corresponde ao que o currículo de referência da IEEE/ACM chama de Core Tier 1), de “especialização” (Core Tier 2) e “complementares” (Electives), respectivamente. No primeiro estrato, de disciplinas “básicas”/“essenciais”, encontram se todas as disciplinas obrigatórias, que todos os alunos devem cursar para obterem uma formação sólida na área de computação. No segundo estrato, de disciplinas de “especialização”, os alunos podem encontrar conteúdos aprofundados nas várias áreas da computação, que são de grande relevância e que atendem demandas de mercado e da academia, oferecidos na forma de disciplinas optativas que são sempre ofertadas pelos departamentos envolvidos no curso. No último estrato, de disciplinas “complementares”, encontram se disciplinas optativas variáveis que complementam a formação do aluno e lhes permitem obter formações diferenciadas, em função de seus desejos e aptidões. O elenco de disciplinas complementares ofertado em cada ano é eleito, via votação, pelos alunos do perfil correspondente (em geral, são alunos que cursarão o 4º ano do curso, quando essas disciplinas complementares são ofertadas). No 5º ano do curso, que corresponde aos últimos dois semestres, está previsto para os alunos realizarem as disciplinas de estágio ou trabalhos de conclusão de curso, sendo que os alunos podem realizar até o limite de 40 horas semanais de estágio nestes semestres, pois não estão previstas outras disciplinas presenciais. No geral, o aluno deve cursar 241 créditos, que totalizam 4575 horas de estudo, distribuídos em: ● 211 créditos obrigatórios, compostos por 147 créditos aula e 64 créditos trabalho; ● 30 créditos aula em disciplinas optativas (do segundo ou do terceiro estrato de disciplinas). Até o máximo de 10 créditos aula de disciplinas optativas livres, desde que não tenham conteúdo semelhante ao de disciplinas obrigatórias, podem ser utilizados para o cômputo dos créditos de disciplinas optativas eletivas. Além dos créditos em disciplinas obrigatórias e optativas, o aluno deve cumprir, ao longo do curso, 90 horas de Atividades Acadêmicas Complementares (AACs) correspondentes a 3 créditos trabalho. Devem também ser cumpridas 466,5 horas de atividades de extensão que correspondem a 10% (dez por cento) do total da carga horária curricular, em atendimento ao Plano Nacional de Educação (PNE), regulamentado pela Resolução CNE/CES n° 7/2018 e Deliberação CEE 216/2023.\\n\\n26 5. Evolução e Avaliação do Curso 5.1 História e evolução do curso O curso de Bacharelado em Ciências de Computação do ICMC USP/São Carlos foi criado em 1979 pelo Departamento de Ciências de Computação e Estatística, que contava com docentes oriundos de diversos departamentos da Escola de Engenharia de São Carlos (EESC USP). Atualmente está sob a responsabilidade da Comissão Coordenadora de Curso de Bacharelado em Ciências de Computação (CoC BCC), composta em sua maioria por docentes dos Departamentos de Ciências de Computação e de Sistemas de Computação do ICMC USP. A CoC BCC é um colegiado subordinado à Comissão de Graduação (CG) do ICMC USP. Foi criada em abril de 2008, com os objetivos de: a) Propor à CG do ICMC a estrutura curricular do Curso de Bacharelado em Ciências de Computação, ouvidos os Departamentos pertinentes; b) Propor à CG os programas de ensino das disciplinas ministradas no curso de Bacharelado em Ciências de Computação e acompanhar sua execução; c) Analisar a pertinência do conteúdo programático de cada disciplina, promovendo a integração das diferentes disciplinas que compõem o currículo; d) Promover o aperfeiçoamento constante do ensino no que diz respeito à adequação curricular, melhoria de laboratórios didáticos, biblioteca e recursos didático pedagógicos; e) Opinar sobre aplicação dos recursos financeiros destinados ao curso de Bacharelado em Ciências de Computação; f) Assessorar a elaboração do horário de aulas das disciplinas de cada semestre letivo; g) Exercer as demais funções que lhe forem atribuídas pelos órgãos superiores do ICMC e da USP; h) Convidar, com a devida aprovação dos membros da CoC BCC, por sugestão da coordenação da CoC BCC, ou de algum de seus membros, docentes representando outros departamentos de outras unidades de ensino e pesquisa da USP, que ministrem disciplinas no curso de Bacharelado em Ciências de Computação, com direito a voz. Atualmente, os Departamentos de Ciências de Computação (SCC) e de Sistemas de Computação (SSC) contam juntos com aproximadamente 50 docentes com, no mínimo, título de doutor. Além de serem os principais responsáveis pelo curso de Bacharelado em Ciências de Computação, esses dois departamentos também são responsáveis pelos cursos de Bacharelado em Sistemas de Informação e pelo curso de Engenharia de Computação (em parceria com a EESC USP), assim como pelo programa de mestrado e doutorado da área de computação (Programa de Pós Graduação de Ciências de Computação e Matemática Computacional CCMC), que é de alto nível científico, reconhecido como um dos melhores do país, sendo de nível 6 na CAPES. O Bacharelado em Ciências da Computação formou 1929 alunos até o momento (final de 2022), contando atualmente com cerca de 522 alunos regularmente matriculados. Até o ano de 2002, eram oferecidas 40 vagas anuais no vestibular para o curso. O aumento de vagas (para 100) em 2003 refletiu uma resposta à ótima formação que o curso tem proporcionado aos seus alunos e à demanda da sociedade e do mercado por mais profissionais da área de computação. A partir de 2021, o total de', 'length': 6571, 'num_tokens': 1005} \n",
      "Question: Quantos créditos e horas de estudo o aluno deve cursar no total?\n",
      "Answer: O aluno deve cursar 241 créditos, que totalizam 4575 horas de estudo.\n",
      "\n",
      "[4]\n",
      "Text: {'doc_name': 'ppp_bcc', 'chunk_id': 33, 'start_page': 33, 'end_page': 34, 'pages': '33,34', 'text': '33 6o Período Letivo SCC 205 Teoria da Computação e Linguagens Formais 4 2 SCC 201 SCC 207 Computadores e Sociedade I 2 0 SCC 230 Inteligência Artificial 4 1 SCC 201 SME 110 Programação Matemática 4 2 SME 104 SSC 903 Computação de Alto Desempenho 4 1 SSC 902, SSC 140 18 6 7o Período Letivo SCC 217 Linguagem de Programação e Compiladores 4 2 SCC 205 SCC 250 Computação Gráfica 4 1 SSC 103 SSC 120 Sistemas de Informação 2 1 SSC 900 Engenharia de Segurança 2 1 SSC 142 SSC 904 Sistemas Computacionais Distribuídos 2 1 SSC 140, SSC 142 Optativa 1 Optativa 2 Optativa 3 Optativa 4 14 6 8o Período Letivo Optativa 5 Optativa 6 Optativa 7 Optativa 8 Optativa 9 Optativa 10 9o Período Letivo SCC 291 Estágio Supervisionado I 4 10 SCC 293 Projeto de Graduação I 4 10 SCC 289 Projeto em Intercâmbio I 4 10 (se já tiver cursado 100 créditos aula, o aluno deve optar por uma das três disciplinas acima) 4 10 10o Período Letivo SCC 292 Estágio Supervisionado II 4 10 SCC 291 SCC 294 Projeto de Graduação II 4 10 SCC 293 SCC 290 Projeto em Intercâmbio II 4 10 SCC 289 (se já tiver cursado 100 créditos aula, o aluno deve optar por uma das três disciplinas acima) 4 10\\n\\n34 Além dos créditos em disciplinas obrigatórias e optativas, o aluno deve cumprir ao longo do curso: \\uf0b7 No mínimo 90 horas, correspondente a 3 créditos trabalho, de Atividades Acadêmicas Complementares (AACs), que serão relacionadas no Histórico Escolar do aluno. \\uf0b7 Atividades de extensão, correspondentes a 466,5 horas: 10% (dez por cento) do total da carga horária curricular, em atendimento ao Plano Nacional de Educação (PNE), regulamentado pela Resolução CNE/CES n° 7/2018. * Grade Referência Currículo 2024 Número de créditos exigidos para a conclusão do curso Disciplinas Obrigatórias: 211 (147 créditos aula + 64 créditos trabalho) Disciplinas Optativas: 30 créditos aula Total créditos: 241', 'length': 1857, 'num_tokens': 328} \n",
      "Question: Qual é o número total de créditos exigidos para a conclusão do curso?\n",
      "Answer: 241 créditos.\n",
      "\n",
      "[5]\n",
      "Text: {'doc_name': 'ppp_bcc', 'chunk_id': 34, 'start_page': 34, 'end_page': 35, 'pages': '34,35', 'text': '34 Além dos créditos em disciplinas obrigatórias e optativas, o aluno deve cumprir ao longo do curso: \\uf0b7 No mínimo 90 horas, correspondente a 3 créditos trabalho, de Atividades Acadêmicas Complementares (AACs), que serão relacionadas no Histórico Escolar do aluno. \\uf0b7 Atividades de extensão, correspondentes a 466,5 horas: 10% (dez por cento) do total da carga horária curricular, em atendimento ao Plano Nacional de Educação (PNE), regulamentado pela Resolução CNE/CES n° 7/2018. * Grade Referência Currículo 2024 Número de créditos exigidos para a conclusão do curso Disciplinas Obrigatórias: 211 (147 créditos aula + 64 créditos trabalho) Disciplinas Optativas: 30 créditos aula Total créditos: 241\\n\\n35 Tabela 1. Disciplinas com Atividades de Extensão Código Tipo Disciplina Carga horária de Atividades de Extensão (horas) SCC0201 obrigatória Introdução à Ciência de Computação II 5 SCC0205 obrigatória Teoria da Computação e Linguagens Formais 10 SCC0210 eletiva Laboratório de Algoritmos Avançados I 10 SCC0211 eletiva Laboratório de Algoritmos Avançados II 10 SCC0213 eletiva Metodologia de Pesquisa em Computação 10 SCC0218 obrigatória Algoritmos Avançados e Aplicações 5 SCC0219 obrigatória Introdução ao Desenvolvimento Web 10 SCC0221 obrigatória Introdução à Ciência de Computação I 10 SCC0230 obrigatória Inteligência Artificial 10 SCC0244 eletiva Mineração a partir de Grandes Bases de Dados 5 SCC0245 eletiva Processamento Analítico de Dados 60 SCC0251 eletiva Processamento de Imagens 10 SCC0260 eletiva Interação Humano Computador e Experiência do Usuário 10 SCC0270 eletiva Redes Neurais e Aprendizado Profundo 10 SCC0275 eletiva Introdução à Ciência de Dados 10 SCC0276 eletiva Aprendizado de Máquina 10 SCC0280 eletiva Acessibilidade em Sistemas Computacionais 15 SCC0282 eletiva Recuperação da Informação 10 SCC0284 eletiva Sistemas de Recomendação 10 SCC0287 eletiva Mineração de Dados Não Estruturados 10 SCC0633 eletiva Processamento de Linguagem Natural 10 SCC0209 eletiva Empreendedores em Informática 10 SME0878 eletiva Mineração Estatística de Dados 60 SSC0180 obrigatória Eletrônica para Computação 10 SSC0740 eletiva Sistemas Embarcados 15 SSC0104 obrigatória Evolução Histórica da Computação e Aplicações 15 SSC0108 obrigatória Prática em Sistemas Digitais 15 SSC0124 obrigatória Análise e Projeto Orientados a Objetos 15 SSC0128 eletiva Gerência de Projetos 15 SSC0130 obrigatória Engenharia de Software 15 SSC0140 obrigatória Sistemas Operacionais I 30 SSC0142 obrigatória Redes de Computadores 30 SSC0152 eletiva Administração e Gerenciamento de Redes 30 SSC0158 eletiva Computação em Nuvem e Arquitetura Orientadas a Serviços 30 SSC0712 eletiva Programação de Robôs Móveis 10 SSC0713 eletiva Sistemas Evolutivos e Aplicados à Robótica 10 SSC0900 obrigatória Engenharia de Segurança 15 SSC0901 eletiva Laboratório de Engenharia de Segurança 15 SSC0902 obrigatória Organização e Arquitetura de Computadores 15 SSC0952 eletiva Internet das Coisas 30 SSC0954 eletiva Infraestrutura para Computação de Alto Desempenho e Sistemas Distribuídos 15 SCC0295 eletiva Atividades Acadêmicas de Extensão I 75 SCC0296 eletiva Atividades Acadêmicas de Extensão II 75', 'length': 3181, 'num_tokens': 446} \n",
      "Question: Quais são os créditos exigidos para a conclusão do curso?\n",
      "Answer: 241 créditos no total, sendo 211 de disciplinas obrigatórias (147 créditos aula + 64 créditos trabalho) e 30 créditos de disciplinas optativas.\n",
      "\n",
      "\n",
      "\n",
      "📘 Answer:\n",
      "Resposta Final: O curso tem uma carga horária total de 4575 horas.\n",
      "\n",
      "Evidência de Apoio: \n",
      "- O documento [1] não fornece explicitamente a carga horária, mas menciona diversas disciplinas e atividades.\n",
      "- O documento [2] e [3] afirmam explicitamente que \"No geral, o aluno deve cursar 241 créditos, que totalizam 4575 horas de estudo\".\n",
      "- O documento [4] e [5] também confirmam que o total de créditos é 241, mas não repetem explicitamente a carga horária de 4575 horas. \n",
      "\n",
      "A informação é consistente nos documentos [2], [3].\n"
     ]
    }
   ],
   "source": [
    "# Consulta via CLI (base individual)\n",
    "!python -m rag_faq.main --mode query --project {project_name}/{doc_stem}/individual --config {tmp_config_path}"
   ]
  },
  {
   "cell_type": "code",
   "execution_count": null,
   "metadata": {
    "colab": {
     "base_uri": "https://localhost:8080/"
    },
    "id": "CEEFXDdRQN4Q",
    "outputId": "ea4376a8-4c76-4064-db99-45534ca021e1"
   },
   "outputs": [
    {
     "name": "stdout",
     "output_type": "stream",
     "text": [
      "2025-10-22 14:59:14.532490: E external/local_xla/xla/stream_executor/cuda/cuda_fft.cc:467] Unable to register cuFFT factory: Attempting to register factory for plugin cuFFT when one has already been registered\n",
      "WARNING: All log messages before absl::InitializeLog() is called are written to STDERR\n",
      "E0000 00:00:1761145154.574206    8810 cuda_dnn.cc:8579] Unable to register cuDNN factory: Attempting to register factory for plugin cuDNN when one has already been registered\n",
      "E0000 00:00:1761145154.587530    8810 cuda_blas.cc:1407] Unable to register cuBLAS factory: Attempting to register factory for plugin cuBLAS when one has already been registered\n",
      "W0000 00:00:1761145154.618057    8810 computation_placer.cc:177] computation placer already registered. Please check linkage and avoid linking the same target more than once.\n",
      "W0000 00:00:1761145154.618115    8810 computation_placer.cc:177] computation placer already registered. Please check linkage and avoid linking the same target more than once.\n",
      "W0000 00:00:1761145154.618126    8810 computation_placer.cc:177] computation placer already registered. Please check linkage and avoid linking the same target more than once.\n",
      "W0000 00:00:1761145154.618135    8810 computation_placer.cc:177] computation placer already registered. Please check linkage and avoid linking the same target more than once.\n",
      "🔎 Enter your question: Qual é a carga horária do curso?\n",
      "\n",
      "🔎 Context used:\n",
      "[1]\n",
      "Text: {'doc_name': 'ppp_bcc', 'chunk_id': 25, 'start_page': 25, 'end_page': 26, 'pages': '25,26', 'text': '25 4. Estruturação do Curso Seguindo se o currículo de referência da área, recomendado pela Sociedade Brasileira de Computação, as disciplinas do curso podem ser divididas nos núcleos de “fundamentos da computação”, “tecnologias da computação”, “matemática”, “ciências básicas”, “eletrônica” e “contexto social e profissional”. Em relação aos 2 primeiros núcleos, diretamente relacionados aos conteúdos de computação, pode se ver na organização geral que as disciplinas de “fundamentos da computação” encontram se principalmente nos 2 primeiros anos do curso, enquanto as de “tecnologias da computação” estão principalmente nos 2 anos seguintes. Os demais núcleos estão distribuídos nos vários anos do curso. O último ano, em particular, é dedicado principalmente para o desenvolvimento de trabalho de fim de curso, qualquer que seja sua natureza. Sob a ótica do currículo de referência internacional mais recente, recomendado pelas entidades IEEE e ACM, o curso pode ser estratificado em 3 estratos, relacionados às disciplinas “básicas”/“essenciais” (corresponde ao que o currículo de referência da IEEE/ACM chama de Core Tier 1), de “especialização” (Core Tier 2) e “complementares” (Electives), respectivamente. No primeiro estrato, de disciplinas “básicas”/“essenciais”, encontram se todas as disciplinas obrigatórias, que todos os alunos devem cursar para obterem uma formação sólida na área de computação. No segundo estrato, de disciplinas de “especialização”, os alunos podem encontrar conteúdos aprofundados nas várias áreas da computação, que são de grande relevância e que atendem demandas de mercado e da academia, oferecidos na forma de disciplinas optativas que são sempre ofertadas pelos departamentos envolvidos no curso. No último estrato, de disciplinas “complementares”, encontram se disciplinas optativas variáveis que complementam a formação do aluno e lhes permitem obter formações diferenciadas, em função de seus desejos e aptidões. O elenco de disciplinas complementares ofertado em cada ano é eleito, via votação, pelos alunos do perfil correspondente (em geral, são alunos que cursarão o 4º ano do curso, quando essas disciplinas complementares são ofertadas). No 5º ano do curso, que corresponde aos últimos dois semestres, está previsto para os alunos realizarem as disciplinas de estágio ou trabalhos de conclusão de curso, sendo que os alunos podem realizar até o limite de 40 horas semanais de estágio nestes semestres, pois não estão previstas outras disciplinas presenciais. No geral, o aluno deve cursar 241 créditos, que totalizam 4575 horas de estudo, distribuídos em: ● 211 créditos obrigatórios, compostos por 147 créditos aula e 64 créditos trabalho; ● 30 créditos aula em disciplinas optativas (do segundo ou do terceiro estrato de disciplinas). Até o máximo de 10 créditos aula de disciplinas optativas livres, desde que não tenham conteúdo semelhante ao de disciplinas obrigatórias, podem ser utilizados para o cômputo dos créditos de disciplinas optativas eletivas. Além dos créditos em disciplinas obrigatórias e optativas, o aluno deve cumprir, ao longo do curso, 90 horas de Atividades Acadêmicas Complementares (AACs) correspondentes a 3 créditos trabalho. Devem também ser cumpridas 466,5 horas de atividades de extensão que correspondem a 10% (dez por cento) do total da carga horária curricular, em atendimento ao Plano Nacional de Educação (PNE), regulamentado pela Resolução CNE/CES n° 7/2018 e Deliberação CEE 216/2023.\\n\\n26 5. Evolução e Avaliação do Curso 5.1 História e evolução do curso O curso de Bacharelado em Ciências de Computação do ICMC USP/São Carlos foi criado em 1979 pelo Departamento de Ciências de Computação e Estatística, que contava com docentes oriundos de diversos departamentos da Escola de Engenharia de São Carlos (EESC USP). Atualmente está sob a responsabilidade da Comissão Coordenadora de Curso de Bacharelado em Ciências de Computação (CoC BCC), composta em sua maioria por docentes dos Departamentos de Ciências de Computação e de Sistemas de Computação do ICMC USP. A CoC BCC é um colegiado subordinado à Comissão de Graduação (CG) do ICMC USP. Foi criada em abril de 2008, com os objetivos de: a) Propor à CG do ICMC a estrutura curricular do Curso de Bacharelado em Ciências de Computação, ouvidos os Departamentos pertinentes; b) Propor à CG os programas de ensino das disciplinas ministradas no curso de Bacharelado em Ciências de Computação e acompanhar sua execução; c) Analisar a pertinência do conteúdo programático de cada disciplina, promovendo a integração das diferentes disciplinas que compõem o currículo; d) Promover o aperfeiçoamento constante do ensino no que diz respeito à adequação curricular, melhoria de laboratórios didáticos, biblioteca e recursos didático pedagógicos; e) Opinar sobre aplicação dos recursos financeiros destinados ao curso de Bacharelado em Ciências de Computação; f) Assessorar a elaboração do horário de aulas das disciplinas de cada semestre letivo; g) Exercer as demais funções que lhe forem atribuídas pelos órgãos superiores do ICMC e da USP; h) Convidar, com a devida aprovação dos membros da CoC BCC, por sugestão da coordenação da CoC BCC, ou de algum de seus membros, docentes representando outros departamentos de outras unidades de ensino e pesquisa da USP, que ministrem disciplinas no curso de Bacharelado em Ciências de Computação, com direito a voz. Atualmente, os Departamentos de Ciências de Computação (SCC) e de Sistemas de Computação (SSC) contam juntos com aproximadamente 50 docentes com, no mínimo, título de doutor. Além de serem os principais responsáveis pelo curso de Bacharelado em Ciências de Computação, esses dois departamentos também são responsáveis pelos cursos de Bacharelado em Sistemas de Informação e pelo curso de Engenharia de Computação (em parceria com a EESC USP), assim como pelo programa de mestrado e doutorado da área de computação (Programa de Pós Graduação de Ciências de Computação e Matemática Computacional CCMC), que é de alto nível científico, reconhecido como um dos melhores do país, sendo de nível 6 na CAPES. O Bacharelado em Ciências da Computação formou 1929 alunos até o momento (final de 2022), contando atualmente com cerca de 522 alunos regularmente matriculados. Até o ano de 2002, eram oferecidas 40 vagas anuais no vestibular para o curso. O aumento de vagas (para 100) em 2003 refletiu uma resposta à ótima formação que o curso tem proporcionado aos seus alunos e à demanda da sociedade e do mercado por mais profissionais da área de computação. A partir de 2021, o total de', 'length': 6571, 'num_tokens': 1005} \n",
      "Question: Quais são os componentes da carga horária total do curso?\n",
      "Answer: A carga horária total é composta por 211 créditos obrigatórios (147 créditos aula e 64 créditos trabalho), 30 créditos aula em disciplinas optativas e 90 horas de Atividades Acadêmicas Complementares (AACs).\n",
      "\n",
      "[2]\n",
      "Text: {'doc_name': 'ppp_bcc', 'chunk_id': 34, 'start_page': 34, 'end_page': 35, 'pages': '34,35', 'text': '34 Além dos créditos em disciplinas obrigatórias e optativas, o aluno deve cumprir ao longo do curso: \\uf0b7 No mínimo 90 horas, correspondente a 3 créditos trabalho, de Atividades Acadêmicas Complementares (AACs), que serão relacionadas no Histórico Escolar do aluno. \\uf0b7 Atividades de extensão, correspondentes a 466,5 horas: 10% (dez por cento) do total da carga horária curricular, em atendimento ao Plano Nacional de Educação (PNE), regulamentado pela Resolução CNE/CES n° 7/2018. * Grade Referência Currículo 2024 Número de créditos exigidos para a conclusão do curso Disciplinas Obrigatórias: 211 (147 créditos aula + 64 créditos trabalho) Disciplinas Optativas: 30 créditos aula Total créditos: 241\\n\\n35 Tabela 1. Disciplinas com Atividades de Extensão Código Tipo Disciplina Carga horária de Atividades de Extensão (horas) SCC0201 obrigatória Introdução à Ciência de Computação II 5 SCC0205 obrigatória Teoria da Computação e Linguagens Formais 10 SCC0210 eletiva Laboratório de Algoritmos Avançados I 10 SCC0211 eletiva Laboratório de Algoritmos Avançados II 10 SCC0213 eletiva Metodologia de Pesquisa em Computação 10 SCC0218 obrigatória Algoritmos Avançados e Aplicações 5 SCC0219 obrigatória Introdução ao Desenvolvimento Web 10 SCC0221 obrigatória Introdução à Ciência de Computação I 10 SCC0230 obrigatória Inteligência Artificial 10 SCC0244 eletiva Mineração a partir de Grandes Bases de Dados 5 SCC0245 eletiva Processamento Analítico de Dados 60 SCC0251 eletiva Processamento de Imagens 10 SCC0260 eletiva Interação Humano Computador e Experiência do Usuário 10 SCC0270 eletiva Redes Neurais e Aprendizado Profundo 10 SCC0275 eletiva Introdução à Ciência de Dados 10 SCC0276 eletiva Aprendizado de Máquina 10 SCC0280 eletiva Acessibilidade em Sistemas Computacionais 15 SCC0282 eletiva Recuperação da Informação 10 SCC0284 eletiva Sistemas de Recomendação 10 SCC0287 eletiva Mineração de Dados Não Estruturados 10 SCC0633 eletiva Processamento de Linguagem Natural 10 SCC0209 eletiva Empreendedores em Informática 10 SME0878 eletiva Mineração Estatística de Dados 60 SSC0180 obrigatória Eletrônica para Computação 10 SSC0740 eletiva Sistemas Embarcados 15 SSC0104 obrigatória Evolução Histórica da Computação e Aplicações 15 SSC0108 obrigatória Prática em Sistemas Digitais 15 SSC0124 obrigatória Análise e Projeto Orientados a Objetos 15 SSC0128 eletiva Gerência de Projetos 15 SSC0130 obrigatória Engenharia de Software 15 SSC0140 obrigatória Sistemas Operacionais I 30 SSC0142 obrigatória Redes de Computadores 30 SSC0152 eletiva Administração e Gerenciamento de Redes 30 SSC0158 eletiva Computação em Nuvem e Arquitetura Orientadas a Serviços 30 SSC0712 eletiva Programação de Robôs Móveis 10 SSC0713 eletiva Sistemas Evolutivos e Aplicados à Robótica 10 SSC0900 obrigatória Engenharia de Segurança 15 SSC0901 eletiva Laboratório de Engenharia de Segurança 15 SSC0902 obrigatória Organização e Arquitetura de Computadores 15 SSC0952 eletiva Internet das Coisas 30 SSC0954 eletiva Infraestrutura para Computação de Alto Desempenho e Sistemas Distribuídos 15 SCC0295 eletiva Atividades Acadêmicas de Extensão I 75 SCC0296 eletiva Atividades Acadêmicas de Extensão II 75', 'length': 3181, 'num_tokens': 446} \n",
      "Question: Qual é a carga horária total de Atividades de Extensão exigida no curso?\n",
      "Answer: 466,5 horas, correspondendo a 10% do total da carga horária curricular.\n",
      "\n",
      "[3]\n",
      "Text: {'doc_name': 'ppp_bcc', 'chunk_id': 34, 'start_page': 34, 'end_page': 35, 'pages': '34,35', 'text': '34 Além dos créditos em disciplinas obrigatórias e optativas, o aluno deve cumprir ao longo do curso: \\uf0b7 No mínimo 90 horas, correspondente a 3 créditos trabalho, de Atividades Acadêmicas Complementares (AACs), que serão relacionadas no Histórico Escolar do aluno. \\uf0b7 Atividades de extensão, correspondentes a 466,5 horas: 10% (dez por cento) do total da carga horária curricular, em atendimento ao Plano Nacional de Educação (PNE), regulamentado pela Resolução CNE/CES n° 7/2018. * Grade Referência Currículo 2024 Número de créditos exigidos para a conclusão do curso Disciplinas Obrigatórias: 211 (147 créditos aula + 64 créditos trabalho) Disciplinas Optativas: 30 créditos aula Total créditos: 241\\n\\n35 Tabela 1. Disciplinas com Atividades de Extensão Código Tipo Disciplina Carga horária de Atividades de Extensão (horas) SCC0201 obrigatória Introdução à Ciência de Computação II 5 SCC0205 obrigatória Teoria da Computação e Linguagens Formais 10 SCC0210 eletiva Laboratório de Algoritmos Avançados I 10 SCC0211 eletiva Laboratório de Algoritmos Avançados II 10 SCC0213 eletiva Metodologia de Pesquisa em Computação 10 SCC0218 obrigatória Algoritmos Avançados e Aplicações 5 SCC0219 obrigatória Introdução ao Desenvolvimento Web 10 SCC0221 obrigatória Introdução à Ciência de Computação I 10 SCC0230 obrigatória Inteligência Artificial 10 SCC0244 eletiva Mineração a partir de Grandes Bases de Dados 5 SCC0245 eletiva Processamento Analítico de Dados 60 SCC0251 eletiva Processamento de Imagens 10 SCC0260 eletiva Interação Humano Computador e Experiência do Usuário 10 SCC0270 eletiva Redes Neurais e Aprendizado Profundo 10 SCC0275 eletiva Introdução à Ciência de Dados 10 SCC0276 eletiva Aprendizado de Máquina 10 SCC0280 eletiva Acessibilidade em Sistemas Computacionais 15 SCC0282 eletiva Recuperação da Informação 10 SCC0284 eletiva Sistemas de Recomendação 10 SCC0287 eletiva Mineração de Dados Não Estruturados 10 SCC0633 eletiva Processamento de Linguagem Natural 10 SCC0209 eletiva Empreendedores em Informática 10 SME0878 eletiva Mineração Estatística de Dados 60 SSC0180 obrigatória Eletrônica para Computação 10 SSC0740 eletiva Sistemas Embarcados 15 SSC0104 obrigatória Evolução Histórica da Computação e Aplicações 15 SSC0108 obrigatória Prática em Sistemas Digitais 15 SSC0124 obrigatória Análise e Projeto Orientados a Objetos 15 SSC0128 eletiva Gerência de Projetos 15 SSC0130 obrigatória Engenharia de Software 15 SSC0140 obrigatória Sistemas Operacionais I 30 SSC0142 obrigatória Redes de Computadores 30 SSC0152 eletiva Administração e Gerenciamento de Redes 30 SSC0158 eletiva Computação em Nuvem e Arquitetura Orientadas a Serviços 30 SSC0712 eletiva Programação de Robôs Móveis 10 SSC0713 eletiva Sistemas Evolutivos e Aplicados à Robótica 10 SSC0900 obrigatória Engenharia de Segurança 15 SSC0901 eletiva Laboratório de Engenharia de Segurança 15 SSC0902 obrigatória Organização e Arquitetura de Computadores 15 SSC0952 eletiva Internet das Coisas 30 SSC0954 eletiva Infraestrutura para Computação de Alto Desempenho e Sistemas Distribuídos 15 SCC0295 eletiva Atividades Acadêmicas de Extensão I 75 SCC0296 eletiva Atividades Acadêmicas de Extensão II 75', 'length': 3181, 'num_tokens': 446} \n",
      "Question: Qual é a carga horária total de Atividades de Extensão exigida no curso?\n",
      "Answer: 466,5 horas, correspondendo a 10% do total da carga horária curricular.\n",
      "\n",
      "[4]\n",
      "Text: {'doc_name': 'ppp_bcc', 'chunk_id': 6, 'start_page': 6, 'end_page': 7, 'pages': '6,7', 'text': '6 3. Metodologia do Curso A estrutura curricular do curso de Bacharelado em Ciências de Computação é composta, principalmente, por disciplinas oferecidas pelos Departamentos de Ciências de Computação e de Sistemas de Computação do ICMC USP. Os Departamentos de Matemática, de Matemática Aplicada e Estatística, bem como o Departamento de Física da USP/São Carlos, são também responsáveis por algumas disciplinas do curso. Cada um dos aspectos da formação que se deseja dar ao egresso será desenvolvido por meio de um conjunto de disciplinas, ministradas por um ou mais dos departamentos citados no parágrafo anterior. A grade completa do curso é mostrada no Apêndice 1, dividida por semestres, com quantidade de créditos e indicação de pré requisitos para cada disciplina. O Apêndice 2, por sua vez, mostra o esquema da estrutura curricular, exibindo o conjunto de disciplinas a ser cursado em cada período do curso e os pré requisitos existentes entre elas (se uma disciplina aponta para outra, isso indica que a primeira é pré requisito para a segunda). As disciplinas são referenciadas por seus códigos, nomes completos ou seus nomes simplificados (em algumas ocasiões, os acrônimos são utilizados). Além disso, as disciplinas oferecidas por cada departamento têm cores diferenciadas, por exemplo, as disciplinas oferecidas pelos departamentos de Ciências de Computação e Sistemas de Computação têm as cores verde e azul, respectivamente. Por fim, exibem se, para cada período, o número de créditos aula, o número de créditos trabalho e a estimativa de quantidade de horas que o aluno deverá dedicar ao curso no período em questão. Ressalta se que cada crédito aula equivale aproximadamente a 15h de estudo em um período, enquanto um crédito trabalho equivale ao dobro disso, ou seja, a 30h em um período. Nos quatro primeiros períodos do curso, o aluno será introduzido principalmente ao núcleo de disciplinas de fundamentos de computação, além de grande parte do conteúdo matemático e físico necessário ao curso. Em seguida, nos quatro próximos períodos, o aluno será apresentado principalmente ao núcleo de disciplinas de tecnologias de computação, com disciplinas específicas de cada uma das grandes áreas da computação, além de poder eleger um conjunto de disciplinas optativas para cursar. As disciplinas optativas visam oferecer ao aluno a oportunidade de conhecer novas áreas da computação, bem como aprofundar seus conhecimentos em áreas já conhecidas. Algumas optativas também visam complementar a formação técnica, preparando um profissional capaz de administrar negócios de computação, bem como de atuar como empreendedor ou cientista. A escolha dessas disciplinas deve ser feita considerando se a área em que o egresso pretende atuar. Salienta se que, embora seja nesses períodos a concentração de todas as optativas do curso, nada impede que o aluno antecipe para os períodos anteriores ou postergue para os próximos períodos algumas delas. Por fim, nos dois últimos períodos, o aluno terá a chance de realizar estágio supervisionado em empresa conveniada ao ICMC USP e vivenciar a rotina no mercado de trabalho, ou, alternativamente, desenvolver um projeto de graduação na universidade, sob supervisão de um docente, e vivenciar a rotina acadêmica. Além disso, essas opções também podem ser realizadas no exterior, em período de intercâmbio. O conjunto de disciplinas obrigatórias e optativas do curso de Bacharelado em Ciências de Computação apresenta uma grande diversidade de conteúdo, o que requer a utilização de diferentes métodos para promover a transferência de conhecimento necessária. Dentre os métodos utilizados estão:\\n\\n7 ● Aulas expositivas convencionais; ● Aulas expositivas apoiadas por equipamentos audiovisuais que possibilitam a demonstração dos conceitos; ● Aulas em laboratório de software e hardware, onde são desenvolvidas atividades práticas relacionadas aos conceitos adquiridos; ● Apresentação de seminários e elaboração de monografias, visando tanto uma participação mais efetiva do aluno na sala de aula como a capacitação de sua expressão oral e escrita. A utilização de métodos alternativos, tais como seminários, trabalhos em grupo e aulas práticas, contribuem para que os alunos sejam participantes ativos do processo de ensino aprendizagem. Dessa forma, o aluno não apenas receberá os conhecimentos técnicos necessários, mas também será preparado para se tornar um profissional ativo, criativo e possuidor de um raciocínio crítico. Apesar da utilização de diferentes métodos de ensino, apenas as disciplinas não são suficientes para promover toda a formação necessária. Diferentes tipos de atividades extracurriculares são oferecidos aos alunos, tais como: ● Programas de Iniciação Científica e Tecnológica: os alunos do ICMC têm a oportunidade de participar dos grupos de pesquisa e de trabalho, com a possibilidade de obtenção de bolsas de iniciação científica e tecnológica oferecidas por agências governamentais (PIBIC, FAPESP, etc.). Os alunos com bom desempenho acadêmico e com determinada renda familiar também podem ser contemplados com as bolsas de permanência estudantil e com fins variados (como “ensino” e “cultura e extensão”), em consonância com a política de inclusão da USP. Existem também nos departamentos de computação Programas institucionais de Iniciação Científica (PIC), por meio dos quais os alunos que não obtêm bolsas podem realizar pesquisa com os orientadores dos departamentos. O desenvolvimento desses trabalhos contribui tanto para o aprimoramento dos conhecimentos do aluno quanto para a obtenção de experiência no desenvolvimento de pesquisas e no relacionamento com pesquisadores e com outros alunos. ● Grupo PET: o curso de Bacharelado em Ciências de Computação conta com um Grupo PET (Programa de Educação Tutorial), cujas atividades iniciaram em setembro de 1995 e focam na integração de ensino, pesquisa e extensão para a melhor formação dos alunos. Os objetivos básicos do Grupo PET são a diversificação da formação dos alunos, o oferecimento de condições especiais de desenvolvimento para os bolsistas, a promoção de atividades estendidas aos demais alunos de graduação e a disseminação dos conhecimentos dos alunos do grupo aos demais alunos do curso. Dessa forma, a existência do grupo PET é relevante tanto para os bolsistas PET (diante da oportunidade de estarem mais bem preparados para a vida profissional) como para os demais alunos da graduação, pois muitas das atividades organizadas pelo grupo são abertas aos demais alunos e o desenvolvimento dos alunos do PET pode ser repassado aos demais por meio de seminários, conversas informais, etc. ● Semana da Computação: o grupo PET promove anualmente a Semana de Computação. Essa semana conta com diversos eventos, incluindo palestras, minicursos e painéis. Esse evento atrai grande interesse e tem se destacado no campus, pois abre espaço para discussões de assuntos que interessam a toda a comunidade e para a apresentação de palestras e de trabalhos que vem sendo', 'length': 7012, 'num_tokens': 1067} \n",
      "Question: Como é calculada a carga horária das disciplinas?\n",
      "Answer: Cada crédito aula equivale a 15h de estudo em um período, enquanto um crédito trabalho equivale a 30h em um período.\n",
      "\n",
      "[5]\n",
      "Text: {'doc_name': 'ppp_bcc', 'chunk_id': 19, 'start_page': 19, 'end_page': 20, 'pages': '19,20', 'text': '19 programação. ● SCC0220 – Laboratório de Introdução à Ciência de Computação II Oferecer aos alunos a oportunidade de desenvolver habilidades de projeto e de implementação de algoritmos clássicos da computação sob supervisão docente, além de desenvolver habilidades de experimentação que incluem a execução, a análise e a apresentação dos resultados, essenciais ao egresso de um curso de Ciências de Computação. b) Desenvolver a consciência sobre as limitações da ciência da computação; entender os modelos formais de algoritmos e computabilidade. Essa habilidade será desenvolvida nas seguintes disciplinas: ● SCC0205 – Teoria da Computação e Linguagens Formais Dar ao aluno noção formal de algoritmo, computabilidade e do problema de decisão, de modo a deixá lo consciente das limitações da ciência da computação. Aparelhá lo com as ferramentas de modo a habilitá lo a melhor enfrentar a solução de problemas com o auxílio do computador. Dar subsídios para o aluno poder definir linguagens de programação, isto é, sua sintaxe e semântica, através do estudo das gramáticas formais. ● SCC0217 – Linguagens de Programação e Compiladores Dar ao aluno as noções da teoria e das técnicas de construção de compiladores e interpretadores de linguagens de programação de alto nível. (5) Domínio das regras básicas que regem a ética profissional da área de computação, quer sejam em corporações, quer sejam em ambientes acadêmicos. Objetivo: Despertar no aluno a consciência de seu papel na sociedade e a importância de um comportamento ético e crítico. Dentro desse domínio, as seguintes habilidades devem ser desenvolvidas nos alunos: a) Conhecer a legislação vigente que regulamenta propriedade intelectual, acesso a dados públicos e privados e questões de segurança. b) Desenvolver trabalhos em equipes com um forte entrosamento entre os integrantes e um relacionamento ético em todos os aspectos do desenvolvimento, implementação e gerenciamento dos sistemas. Essas habilidades serão desenvolvidas nas seguintes disciplinas: ● SCC0207 – Computadores e Sociedade I Conscientizar os alunos de alguns dos problemas que surgem, para o indivíduo e para a sociedade, com a introdução dos computadores digitais. Espera se, ainda, que o curso ajude os alunos a ter consciência de suas futuras responsabilidades como profissionais em computação. ● SCC0227 – Seminários em Computação I ● SCC0228 – Seminários em Computação II ● SCC0229 – Seminários em Computação III O objetivo principal destas disciplinas é que o aluno crie o hábito de participar de atividades extracurriculares que são de grande importância para sua formação e que ao mesmo tempo adquira conhecimentos e visões adicionais de diferentes áreas de\\n\\n20 computação. ● 90 horas de Atividades Acadêmicas Complementares Visam à complementação do currículo escolar do aluno, agregando conhecimentos e experiências a sua formação profissional, dando a ele oportunidade de colocar em prática os conteúdos trabalhados ao longo do curso e estimulando a prática de estudos independentes e a interdisciplinaridade. Dessa maneira, o aluno deverá realizar/participar de atividades acadêmicas, científicas, de pesquisa, de extensão ou culturais. Essas horas também atendem as exigências do Plano Nacional de Educação, bem como das Diretrizes Curriculares Nacionais e Lei de Diretrizes e Bases da Educação referentes às Atividades Acadêmicas Complementares (AACs) que são obrigatórias e fazem parte da matriz curricular dos cursos de graduação, bacharelado e licenciatura. Além dessas disciplinas, consideram se todas as demais disciplinas que envolvem seminários e trabalhos em grupo. (6) Disciplinas nas quais está previsto o desenvolvimento de Atividades de Extensão. Conforme definido na Resolução CNE/CES 07/2018, os cursos de graduação deverão ter, no mínimo, 10% de sua carga horária total destinados a realização de atividades de extensão, onde os alunos deverão atuar como protagonistas, desenvolvendo projetos e atividades em prol da comunidade. Objetivo: Incentivar o aluno a desenvolver projetos vinculados a disciplinas que possam refletir na propagação do conhecimento adquirido e em benefícios a sociedade. Busca se desenvolver as seguintes habilidades: a) Desenvolver visão social, senso crítico e a capacidade empreendedora. b) Aplicar o conhecimento e técnicas em projetos e demandas sociais. ● SCC0201 Introdução à Ciência de Computação II ● SCC0205 Teoria da Computação e Linguagens Formais ● SCC0210 Laboratório de Algoritmos Avançados I ● SCC0211 Laboratório de Algoritmos Avançados II ● SCC0213 Metodologia de Pesquisa em Computação ● SCC0218 Algoritmos Avançados e Aplicações ● SCC0219 Introdução ao Desenvolvimento Web ● SCC0221 Introdução à Ciência de Computação I ● SCC0230 Inteligência Artificial ● SCC0244 Mineração a partir de Grandes Bases de Dados ● SCC0245 Processamento Analítico de Dados ● SCC0251 Processamento de Imagens ● SCC0260 Interação Humano Computador e Experiência do Usuário ● SCC0270 Redes Neurais e Aprendizado Profundo ● SCC0275 Introdução à Ciência de Dados ● SCC0276 Aprendizado de Máquina ● SCC0280 Acessibilidade em Sistemas Computacionais ● SCC0282 Recuperação da Informação ● SCC0284 Sistemas de Recomendação', 'length': 5202, 'num_tokens': 771} \n",
      "Question: Qual é o percentual de carga horária total destinado a atividades de extensão nos cursos de graduação?\n",
      "Answer: No mínimo, 10% de sua carga horária total.\n",
      "\n",
      "\n",
      "\n",
      "📘 Answer:\n",
      "Resposta Final: O curso de Bacharelado em Ciências de Computação exige um total de 241 créditos, que correspondem a 4575 horas de estudo. \n",
      "\n",
      "A carga horária é composta por:\n",
      "- 211 créditos obrigatórios (147 créditos aula e 64 créditos trabalho)\n",
      "- 30 créditos aula em disciplinas optativas\n",
      "- 90 horas de Atividades Acadêmicas Complementares (AACs)\n",
      "- 466,5 horas de atividades de extensão, correspondendo a 10% do total da carga horária curricular.\n",
      "\n",
      "Evidência de Apoio: \n",
      "- [1] e [2] fornecem detalhes sobre a estrutura curricular e os componentes da carga horária total do curso. \n",
      "- [2] especifica que as 466,5 horas de atividades de extensão correspondem a 10% do total da carga horária curricular.\n"
     ]
    }
   ],
   "source": [
    "# Consulta via CLI (base unificada)\n",
    "!python -m rag_faq.main --mode query --project {project_name}/{doc_stem}/unificado --config {tmp_config_path}\n"
   ]
  },
  {
   "cell_type": "markdown",
   "metadata": {
    "id": "H6qYr9qvb-dC"
   },
   "source": [
    "### Teste 2 — FAQs e embeddings pré‑gerados\n",
    "\n",
    "Executa um teste usando bases já existentes, combinando embeddings de todos os cursos do ICMC.\n",
    "  - Consulta na base individual (persona única)\n",
    "  - Consulta na base unificada (multi‑persona)"
   ]
  },
  {
   "cell_type": "code",
   "execution_count": null,
   "metadata": {
    "colab": {
     "base_uri": "https://localhost:8080/"
    },
    "id": "cPily_xKcCCq",
    "outputId": "c3ea4bed-5956-4bbe-c6a8-82fb8e72f969"
   },
   "outputs": [
    {
     "name": "stdout",
     "output_type": "stream",
     "text": [
      "Question: \n",
      "Qual é a diferença do curso de Engenharia da computação e Ciência da computação ?\n",
      "\n",
      "Resposta individual (persona única: aluno):\n",
      "Os documentos fornecidos não explicitam as diferenças entre os cursos de Engenharia da Computação e Ciência da Computação. No entanto, podemos inferir algumas distinções com base nas informações disponíveis.\n",
      "\n",
      "O curso de Engenharia de Computação parece ter uma abordagem mais prática e tecnológica, com ênfase em áreas como engenharia eletrônica, computação e áreas de interface. O perfil do egresso de Engenharia de Computação é descrito como tendo uma sólida formação técnico-científica e profissional geral, capacitando-o a absorver e desenvolver novas tecnologias.\n",
      "\n",
      "Já o curso de Ciência da Computação, mencionado no documento [1], parece ter uma abordagem mais teórica e focada em conceitos de computação, com disciplinas como Introdução à Ciência de Computação, Algoritmos e Estruturas de Dados, e Programação Orientada a Objetos.\n",
      "\n",
      "Embora não seja possível fornecer uma resposta definitiva sem mais informações, podemos dizer que:\n",
      "\n",
      "* Engenharia de Computação parece ter uma abordagem mais prática e tecnológica.\n",
      "* Ciência da Computação parece ter uma abordagem mais teórica e focada em conceitos de computação.\n",
      "\n",
      "Para obter uma resposta mais precisa, seria necessário consultar documentos adicionais ou informações oficiais sobre os cursos. \n",
      "\n",
      "Evidência de Apoio: \n",
      "- [2] e [3] fornecem informações sobre o curso de Engenharia de Computação.\n",
      "- [1] fornece informações sobre o curso de Ciência da Computação.\n",
      "\n",
      "Resposta unificado (multi-persona: aluno, professor, pesquisador):\n",
      "O curso de Engenharia de Computação e Ciência da Computação são dois cursos relacionados, mas com objetivos e focos diferentes.\n",
      "\n",
      "O curso de Engenharia de Computação da USP São Carlos tem como objetivo formar profissionais capacitados para exercer atividades profissionais relacionadas à interface entre engenharia elétrica e ciências da computação. O curso é projetado para fornecer uma formação sólida em áreas como física, matemática e computação, além de habilidades práticas para desenvolver sistemas e tecnologias.\n",
      "\n",
      "Já o curso de Ciência da Computação tem como objetivo formar profissionais capacitados para trabalhar em áreas como desenvolvimento de software, inteligência artificial, banco de dados, redes de computadores, entre outras.\n",
      "\n",
      "As principais diferenças entre os dois cursos são:\n",
      "\n",
      "*   Engenharia de Computação tem um foco mais amplo, abrangendo não apenas a computação, mas também a engenharia elétrica e eletrônica.\n",
      "*   Ciência da Computação tem um foco mais específico em computação e suas aplicações.\n",
      "\n",
      "É importante notar que os cursos podem ter objetivos e estruturas específicas, dependendo da instituição de ensino e do país. No entanto, em geral, o curso de Engenharia de Computação é mais focado em desenvolver habilidades práticas para trabalhar em projetos de computação e engenharia, enquanto o curso de Ciência da Computação é mais focado em desenvolver habilidades teóricas e práticas em computação.\n",
      "\n",
      "Referência: Projeto Pedagógico do Curso de Engenharia de Computação, ICMC e EESC, USP São Carlos.\n"
     ]
    }
   ],
   "source": [
    "# Consulta direta via funções (individual e unificado)\n",
    "\n",
    "from rag_faq.generator import generate_rag_answer\n",
    "\n",
    "project_name = \"myproj\"\n",
    "doc_stem = \"ppp_all_courses\"\n",
    "project_dir = os.path.join(config[\"paths\"][\"projects_dir\"], f\"{project_name}/{doc_stem}\")\n",
    "\n",
    "all_courses_individual_dir = project_dir + \"/individual\"\n",
    "all_courses_unificado_dir = project_dir + \"/unificado\"\n",
    "\n",
    "question = \"Qual é a diferença do curso de Engenharia da computação e Ciência da computação?\"\n",
    "print(f\"Question: \\n{question}\\n\")\n",
    "\n",
    "print(\"Resposta individual (persona única: aluno):\")\n",
    "result_individual = generate_rag_answer(config, all_courses_individual_dir, question)\n",
    "print(result_individual[\"answer\"])\n",
    "\n",
    "print(\"\\nResposta unificado (multi-persona: aluno, professor, pesquisador):\")\n",
    "result_unificado = generate_rag_answer(config, all_courses_unificado_dir, question)\n",
    "print(result_unificado[\"answer\"])"
   ]
  },
  {
   "cell_type": "code",
   "execution_count": null,
   "metadata": {
    "colab": {
     "base_uri": "https://localhost:8080/"
    },
    "id": "UsQbSPgZfGJI",
    "outputId": "0e5fbf8c-5608-40e5-d7d1-94bb27682ac6"
   },
   "outputs": [
    {
     "name": "stdout",
     "output_type": "stream",
     "text": [
      "2025-10-22 15:00:07.798313: E external/local_xla/xla/stream_executor/cuda/cuda_fft.cc:467] Unable to register cuFFT factory: Attempting to register factory for plugin cuFFT when one has already been registered\n",
      "WARNING: All log messages before absl::InitializeLog() is called are written to STDERR\n",
      "E0000 00:00:1761145207.823737    9034 cuda_dnn.cc:8579] Unable to register cuDNN factory: Attempting to register factory for plugin cuDNN when one has already been registered\n",
      "E0000 00:00:1761145207.832975    9034 cuda_blas.cc:1407] Unable to register cuBLAS factory: Attempting to register factory for plugin cuBLAS when one has already been registered\n",
      "W0000 00:00:1761145207.856262    9034 computation_placer.cc:177] computation placer already registered. Please check linkage and avoid linking the same target more than once.\n",
      "W0000 00:00:1761145207.856305    9034 computation_placer.cc:177] computation placer already registered. Please check linkage and avoid linking the same target more than once.\n",
      "W0000 00:00:1761145207.856312    9034 computation_placer.cc:177] computation placer already registered. Please check linkage and avoid linking the same target more than once.\n",
      "W0000 00:00:1761145207.856316    9034 computation_placer.cc:177] computation placer already registered. Please check linkage and avoid linking the same target more than once.\n",
      "🔎 Enter your question: Qual é a diferença do curso de Engenharia da computação e Ciência da computação?\n",
      "\n",
      "🔎 Context used:\n",
      "[1]\n",
      "Text: {'doc_name': 'ppp_bcc', 'chunk_id': 31, 'start_page': 31, 'end_page': 32, 'pages': '31,32', 'text': '31 encaminhamentos às questões levantadas. A partir de 2012, um novo programa de tutoria também foi proposto. Essa tutoria, entretanto, tem sido mantida apenas para os alunos ingressantes de cada ano, no 1º semestre, usualmente. Diferentemente da tutoria de turma, citada anteriormente, essa tutoria é mais pontual, consistindo em se ter pequenos grupos de alunos que se encontram regularmente com um docente de seu curso (previamente selecionado pela coordenação do curso), com a finalidade de se tirar dúvidas e ter orientações sobre o andamento do curso, que, no 1º semestre, costuma ser impactante para o aluno ingressante, dadas as diferenças de rotina e formas de estudo entre o ensino médio e o superior. Essa tutoria mais pontual, em conjunto com a tutoria da turma, têm sido muito importante para os alunos. Por fim, também tem sido realizada uma série de workshops dos cursos e da graduação. Esta iniciativa, realizada sob a responsabilidade das coordenações dos cursos e da Comissão de Graduação, juntamente com os alunos, foi uma resposta aos anseios dos estudantes e dos professores envolvidos com os cursos de graduação, para analisarem as questões relativas aos temas de estrutura curricular, infraestrutura, didática e tutoria, atividades extracurriculares e comportamento dos alunos e professores, dentre outros. Em geral, esses workshops são muito produtivos e apontam formas de se melhorar ainda mais os cursos de graduação. Acompanhamento de egressos Atualmente existe disponível no sítio da USP, o sistema Alumni USP (http://www.alumni.usp.br/), que é um sistema de controle de egressos em que ex alunos de outros cursos podem efetuar cadastro e assim manter a ligação com o ICMC e com a USP.\\n\\n32 Apêndice – Grade Curricular* Disciplinas (sequência aconselhada) C = Disciplina Conjunto 1o Período Letivo Créditos aula Créditos trabalho Requisitos SCC 200 Informação Profissional em Ciências da Computação 2 0 SCC 221 Introdução à Ciência de Computação I 4 1 SCC 222 Laboratório de Introdução à Ciência de Computação I 2 2 SMA 300 Geometria Analítica 4 0 SMA 353 Cálculo I 4 0 SSC 104 Evolução Histórica da Computação 2 1 SSC 117 Introdução à Lógica Digital 2 1 SSC 119 Prática em Lógica Digital 2 1 SSC 180 Eletrônica para Computação 2 2 24 8 2o Período Letivo 7600105 Física Básica I 4 0 SMA 353 SCC 201 Introdução à Ciência de Computação II 4 2 SCC 221 SCC 202 Algoritmos e Estruturas de Dados I 4 2 SCC 201 C SMA 180 Matemática Discreta I 4 0 SMA 354 Cálculo II 4 0 SMA 353 SSC 118 Sistemas Digitais 2 1 SSC 117 SSC 108 Prática em Sistemas Digitais 2 1 SSC 118 C 24 6 3o Período Letivo 7600109 Laboratório de Física Geral I 2 0 7600105 SCC 215 Organização de Arquivos 3 2 SCC201, SCC 202 SCC 216 Modelagem Computacional em Grafos 2 1 SCC 202 SMA 355 Cálculo III 4 0 SMA 354 SSC 103 Programação Orientada a Objetos 2 1 SCC 202 SSC 902 Organização e Arquitetura de Computadores SSC 960 Programação Funcional 4 2 1 1 SSC 118 SCC 202 19 6 4o Período Letivo SCC 218 Algoritmos Avançados e Aplicações 2 2 SCC 216 SME 123 Estatística 4 0 SMA 354 SME 142 Álgebra Linear e Aplicações 4 1 SSC 124 Análise e Projeto Orientado a Objetos 2 1 SSC 103 SSC 140 Sistemas Operacionais I 4 2 SSC 902, SCC 202 16 6 5o Período Letivo SCC 219 Introdução ao Desenvolvimento Web 4 1 SCC 202 SCC 240 Bases de Dados 4 2 SCC 215 SME 104 Cálculo Numérico 4 0 SMA 353, SME 141 SME 121 Processos Estocásticos 4 0 SME 123 SSC 130 Engenharia de Software 4 1 SSC 124 SSC 142 Redes de Computadores 4 2 SSC 140 24 6', 'length': 3504, 'num_tokens': 622} \n",
      "Question: Quais são as disciplinas do segundo semestre do curso de Ciência da Computação?\n",
      "Answer: No segundo semestre, as disciplinas incluem 7600105 Física Básica I, SCC 201 Introdução à Ciência de Computação II, SCC 202 Algoritmos e Estruturas de Dados I, SMA 180 Matemática Discreta I, SMA 354 Cálculo II, SSC 118 Sistemas Digitais, SSC 108 Prática em Sistemas Digitais.\n",
      "\n",
      "[2]\n",
      "Text: {'doc_name': 'ppp_engcomp', 'chunk_id': 8, 'start_page': 8, 'end_page': 9, 'pages': '8,9', 'text': 'PROJETO PEDAGÓGICO DO CURSO DE ENGENHARIA DE COMPUTAÇÃO, ICMC E EESC, USP SÃO CARLOS 8 vínculo importante de conhecimentos acumulados em duas áreas de conhecimento científico e tecnológico. 1.7 INFRAESTRUTURA E RECURSOS HUMANOS EXISTENTES A infraestrutura física disponível no atual Campus da USP em São Carlos e as novas edificações necessárias para a instalação de laboratórios e salas de aulas foram e continuam sendo aperfeiçoados na Área 2 do Campus. As instalações dos departamentos, SEL EESC, SSC ICMC e SCC ICMC, na Área 1 do Campus também são utilizadas para laboratórios básicos. Somadas, a infraestrutura instalada é responsável pela consecução dos objetivos do curso. A dimensão do corpo docente e de funcionários dos departamentos foi ampliada para manter a qualidade e excelência dos serviços prestados, marca inegável do Campus da USP em São Carlos. A infraestrutura de equipamentos, assim como a física, continua sendo ampliada para também proporcionar a realização das etapas responsáveis pela consolidação dos objetivos do curso. 2. DIRETRIZES PARA O PROJETO PEDAGÓGICO DO CURSO A seguir são apresentadas as diretrizes que nortearam a elaboração do projeto pedagógico e da matriz curricular. Desse modo, são apresentadas as ementas resumidas das disciplinas que compõem os núcleos básico, profissionalizante e de formação específica, bem como aquele das optativas eletivas, optativas livres e de atividades acadêmicas complementares. 2.1 ESTRUTURA PEDAGÓGICA E CURRICULAR Os objetivos pedagógicos do curso de Engenharia de Computação serão alcançados a partir de estrutura curricular centrada na possibilidade de incorporação imediata de avanços científicos e tecnológicos. As seguintes diretrizes pedagógicas são tomadas como base para o projeto pedagógico do curso: 1. Permitir visão clara das tendências e relevância tecnológica do ponto de vista socioeconômico; 2. Proporcionar imersão do estudante em ambiente essencialmente científico e tecnológico, livre e criativo; 3. Atentar para que os conteúdos curriculares atendam adequadamente às “diretrizes curriculares para os cursos de engenharia”, elaboradas pelo\\n\\nPROJETO PEDAGÓGICO DO CURSO DE ENGENHARIA DE COMPUTAÇÃO, ICMC E EESC, USP SÃO CARLOS 9 Conselho Federal de Educação, de acordo com a CNE/CES resolução no. 2 de 24 de abril de 20191. 4. Proporcionar equilíbrio entre disciplinas do núcleo básico e de formação específica para manter o projeto pedagógico sempre ajustado às mudanças tecnológicas; 5. Permitir que as disciplinas do núcleo de formação específica exibam conteúdo variável, sempre ajustado às alterações científicas e tecnológicas; 6. Alocar uma parte adequada das disciplinas para que tenham caráter de livre escolha: a composição e recomposição do conhecimento, em qualquer etapa, devem ficar a cargo do estudante. Para orientá lo durante o curso, assessoria pedagógica deve ser um serviço oferecido. 7. Criar uma gama de perfis profissionais com base em disciplinas de livre escolha para que o estudante possa optar por aquele(s) que mais se adapte(m) às suas habilidades; 8. Criar um sistema de acompanhamento pedagógico que evite a desadaptação temporária do estudante do perfil inicialmente escolhido; 9. Incentivar o engajamento, após a adaptação ao esquema de estudos, que pode durar no máximo o primeiro semestre, em algum tema de estudo oriundo do ambiente escolar ou empresarial. Para tanto, o engajamento em projetos de iniciação científica, formatura, monitoria e estágio será estimulado; 10. Estimular o trabalho em equipe, uso de redes de computadores e, quando necessário, ensino a distância; 11. Proporcionar, sempre que couber, simulação de ambiente empresarial para estimular o trabalho em grupo e a responsabilidade; 12. Permitir o desenvolvimento de perfil profissional eclético, com conhecimento de atuação em mercados, economia e atendimento a clientes; 13. Estimular a atuação social com prestação de assessoria a escolas, entidades públicas e assistenciais; 14. Estimular a preocupação com questões sociais, ambientais e de sustentabilidade no desenvolvimento de projetos e na atuação profissional; 15. Reforçar os princípios da investigação científica rigorosa, incentivar a realização de projetos criativos, a comunicação clara e eficiente; 16. Congressos realizados de forma regular (anuais) do curso, onde são formados grupos de trabalhos (entre professores e alunos) a partir da seleção de assuntos eleitos como relevantes, como por exemplo, discussão específica sobre retenção, entre outros; 17. As semanas da Computação e da Engenharia Elétrica são propostas como atividades acadêmicas, integrantes do calendário anual do curso. 2.2 PERFIL PROFISSIONAL O perfil do egresso de um curso de Engenharia de Computação compreenderá uma sólida formação técnico científica e profissional geral, que o capacite a absorver e desenvolver novas tecnologias, estimulando a sua atuação crítica e criativa na 1 A resolução CNE/CES resolução Nº2/2019 foi publicada no Diário Oficial da União em 26 de abril de 2019, Edição 80 Seção 1, p.46.', 'length': 5052, 'num_tokens': 746} \n",
      "Question: Como é a estrutura curricular do curso de Engenharia de Computação?\n",
      "Answer: A estrutura curricular é centrada na possibilidade de incorporação imediata de avanços científicos e tecnológicos.\n",
      "\n",
      "[3]\n",
      "Text: {'doc_name': 'ppp_engcomp', 'chunk_id': 11, 'start_page': 11, 'end_page': 12, 'pages': '11,12', 'text': 'PROJETO PEDAGÓGICO DO CURSO DE ENGENHARIA DE COMPUTAÇÃO, ICMC E EESC, USP SÃO CARLOS 11 circuitos integrados, engenheiro de controle industrial, engenheiro projetista VHDL, engenheiro de sistemas, gerente de engenharia. 3. MATRIZ CURRICULAR As diretrizes e a matriz curricular são descritas nesta seção. 3.1 DIRETRIZES PARA A CONSTRUÇÃO DA MATRIZ CURRICULAR A matriz curricular foi construída a partir das seguintes premissas: 1. A atuação do profissional formado no curso deve estar situada na interface científica e tecnológica entre a engenharia elétrica/eletrônica e a ciência da computação; 2. O perfil do egresso deve atender às “diretrizes curriculares para os cursos de engenharia” e “diretrizes curriculares de cursos da área de computação e informática”, propostas pelo Conselho Nacional de Educação, vinculado ao Ministério da Educação; 3. A vocação científica e tecnológica e a organização das matrizes curriculares dos departamentos foram aproveitadas e ampliadas; 4. As disciplinas que apresentam o mesmo conteúdo programático foram divididas entre os departamentos, ficando o enfoque e o conteúdo sob a responsabilidade dos docentes das áreas correlatas de cada departamento; 5. As disciplinas comuns poderão ser oferecidas pelos departamentos em sistema de alternância ou em semestres consecutivos; 6. Uma porcentagem do número total de créditos ficou reservada para disciplinas optativas eletivas, podendo compor um perfil. O número de perfis profissionais não é restrito e eles poderão ser propostos em qualquer momento. Os perfis sugeridos devem observar as áreas de interface entre engenharia elétrica/eletrônica e ciências da computação; 7. Uma porcentagem do número total de créditos ficou reservado, na forma de créditos trabalhos em atividades acadêmicas complementares (AACs), com o objetivo de flexibilizar a formação profissional, científica, social e cultural do estudante; 8. Somente disciplinas consideradas básicas das duas áreas de interface foram alocadas na matriz curricular; 9. As disciplinas básicas e comuns da matriz curricular dos cursos de engenharia, que atualmente são de responsabilidade dos Departamentos de Sistemas e de Ciências de Computação, foram computadas separadamente e consideradas pertencentes ao núcleo básico e comum; 10. A carga horária de aulas formais deve ser a menor possível, resguardadas as especificidades de cada disciplina. 3.2 DISCIPLINAS Na Figura 1 é ilustrado o organograma das disciplinas. O curso é formado por quatro blocos principais: um bloco básico para toda a carreira, um bloco de disciplinas de engenharia, outro de disciplinas de computação e o de disciplinas optativas\\n\\nPROJETO PEDAGÓGICO DO CURSO DE ENGENHARIA DE COMPUTAÇÃO, ICMC E EESC, USP SÃO CARLOS 12 eletivas (incluindo perfis de ênfase). A distribuição das ementas considera as diretrizes para os cursos de engenharia e ciências da computação sugeridas pelo CNE. Figura 1. Organograma dos núcleos de disciplinas do curso. As disciplinas do núcleo básico comum são constituídas a partir do conteúdo das disciplinas profissionalizantes, evitando repetições de conteúdo e excesso de carga horária. A constituição das disciplinas dos núcleos básico e profissionalizante segue as seguintes diretrizes: 1. O núcleo básico é constituído por um grupo de disciplinas que reúne o conteúdo essencial para satisfazer ao perfil profissional projetado, entendendo se como a formação sólida em áreas como física e matemática; 2. O núcleo profissionalizante deve proporcionar um perfil fortemente baseado em engenharia eletrônica, computação e áreas de interface; 3. As disciplinas do núcleo profissionalizante têm como finalidade englobar o conteúdo das áreas de: 3.1. Processamento digital de sinais para aplicações em todas as áreas de engenharia elétrica e computação; 3.2. Microeletrônica: projetos de circuitos integrados analógicos e digitais; 3.3. Sistemas digitais; 3.4. Robótica e automação; 3.5. Telecomunicações; 3.6. Engenharia de Software; 3.7. Sistemas Computacionais Distribuídos; 3.8. Computação Gráfica; 3.9. Banco de Dados; 3.10. Hipermídia e Multimídia; 3.11. Programação Matemática. As disciplinas que não constam do elenco atual dos cursos de engenharia elétrica e ciências da computação poderão ser criadas de acordo com as Organograma das disciplinas Física Matemática Química Humanidades Administração e economia Núcleo básico comum Núcleo básico Profissionalizantes Engenharia elétrica/eletrônica Núcleo básico Profissionalizantes Computação Optativas/CEEs Engenharia de computação', 'length': 4533, 'num_tokens': 644} \n",
      "Question: Como são organizadas as disciplinas do curso de Engenharia de Computação?\n",
      "Answer: Em quatro blocos: núcleo básico comum, núcleo básico profissionalizante de engenharia elétrica/eletrônica, núcleo básico profissionalizante de computação e disciplinas optativas.\n",
      "\n",
      "[4]\n",
      "Text: {'doc_name': 'ppp_engcomp', 'chunk_id': 11, 'start_page': 11, 'end_page': 12, 'pages': '11,12', 'text': 'PROJETO PEDAGÓGICO DO CURSO DE ENGENHARIA DE COMPUTAÇÃO, ICMC E EESC, USP SÃO CARLOS 11 circuitos integrados, engenheiro de controle industrial, engenheiro projetista VHDL, engenheiro de sistemas, gerente de engenharia. 3. MATRIZ CURRICULAR As diretrizes e a matriz curricular são descritas nesta seção. 3.1 DIRETRIZES PARA A CONSTRUÇÃO DA MATRIZ CURRICULAR A matriz curricular foi construída a partir das seguintes premissas: 1. A atuação do profissional formado no curso deve estar situada na interface científica e tecnológica entre a engenharia elétrica/eletrônica e a ciência da computação; 2. O perfil do egresso deve atender às “diretrizes curriculares para os cursos de engenharia” e “diretrizes curriculares de cursos da área de computação e informática”, propostas pelo Conselho Nacional de Educação, vinculado ao Ministério da Educação; 3. A vocação científica e tecnológica e a organização das matrizes curriculares dos departamentos foram aproveitadas e ampliadas; 4. As disciplinas que apresentam o mesmo conteúdo programático foram divididas entre os departamentos, ficando o enfoque e o conteúdo sob a responsabilidade dos docentes das áreas correlatas de cada departamento; 5. As disciplinas comuns poderão ser oferecidas pelos departamentos em sistema de alternância ou em semestres consecutivos; 6. Uma porcentagem do número total de créditos ficou reservada para disciplinas optativas eletivas, podendo compor um perfil. O número de perfis profissionais não é restrito e eles poderão ser propostos em qualquer momento. Os perfis sugeridos devem observar as áreas de interface entre engenharia elétrica/eletrônica e ciências da computação; 7. Uma porcentagem do número total de créditos ficou reservado, na forma de créditos trabalhos em atividades acadêmicas complementares (AACs), com o objetivo de flexibilizar a formação profissional, científica, social e cultural do estudante; 8. Somente disciplinas consideradas básicas das duas áreas de interface foram alocadas na matriz curricular; 9. As disciplinas básicas e comuns da matriz curricular dos cursos de engenharia, que atualmente são de responsabilidade dos Departamentos de Sistemas e de Ciências de Computação, foram computadas separadamente e consideradas pertencentes ao núcleo básico e comum; 10. A carga horária de aulas formais deve ser a menor possível, resguardadas as especificidades de cada disciplina. 3.2 DISCIPLINAS Na Figura 1 é ilustrado o organograma das disciplinas. O curso é formado por quatro blocos principais: um bloco básico para toda a carreira, um bloco de disciplinas de engenharia, outro de disciplinas de computação e o de disciplinas optativas\\n\\nPROJETO PEDAGÓGICO DO CURSO DE ENGENHARIA DE COMPUTAÇÃO, ICMC E EESC, USP SÃO CARLOS 12 eletivas (incluindo perfis de ênfase). A distribuição das ementas considera as diretrizes para os cursos de engenharia e ciências da computação sugeridas pelo CNE. Figura 1. Organograma dos núcleos de disciplinas do curso. As disciplinas do núcleo básico comum são constituídas a partir do conteúdo das disciplinas profissionalizantes, evitando repetições de conteúdo e excesso de carga horária. A constituição das disciplinas dos núcleos básico e profissionalizante segue as seguintes diretrizes: 1. O núcleo básico é constituído por um grupo de disciplinas que reúne o conteúdo essencial para satisfazer ao perfil profissional projetado, entendendo se como a formação sólida em áreas como física e matemática; 2. O núcleo profissionalizante deve proporcionar um perfil fortemente baseado em engenharia eletrônica, computação e áreas de interface; 3. As disciplinas do núcleo profissionalizante têm como finalidade englobar o conteúdo das áreas de: 3.1. Processamento digital de sinais para aplicações em todas as áreas de engenharia elétrica e computação; 3.2. Microeletrônica: projetos de circuitos integrados analógicos e digitais; 3.3. Sistemas digitais; 3.4. Robótica e automação; 3.5. Telecomunicações; 3.6. Engenharia de Software; 3.7. Sistemas Computacionais Distribuídos; 3.8. Computação Gráfica; 3.9. Banco de Dados; 3.10. Hipermídia e Multimídia; 3.11. Programação Matemática. As disciplinas que não constam do elenco atual dos cursos de engenharia elétrica e ciências da computação poderão ser criadas de acordo com as Organograma das disciplinas Física Matemática Química Humanidades Administração e economia Núcleo básico comum Núcleo básico Profissionalizantes Engenharia elétrica/eletrônica Núcleo básico Profissionalizantes Computação Optativas/CEEs Engenharia de computação', 'length': 4533, 'num_tokens': 644} \n",
      "Question: O que são perfis de ênfase no curso de Engenharia de Computação?\n",
      "Answer: São propostos em qualquer momento, observando as áreas de interface entre engenharia elétrica/eletrônica e ciências da computação, e podem ser compostos por disciplinas optativas eletivas.\n",
      "\n",
      "[5]\n",
      "Text: {'doc_name': 'ppp_engcomp', 'chunk_id': 8, 'start_page': 8, 'end_page': 9, 'pages': '8,9', 'text': 'PROJETO PEDAGÓGICO DO CURSO DE ENGENHARIA DE COMPUTAÇÃO, ICMC E EESC, USP SÃO CARLOS 8 vínculo importante de conhecimentos acumulados em duas áreas de conhecimento científico e tecnológico. 1.7 INFRAESTRUTURA E RECURSOS HUMANOS EXISTENTES A infraestrutura física disponível no atual Campus da USP em São Carlos e as novas edificações necessárias para a instalação de laboratórios e salas de aulas foram e continuam sendo aperfeiçoados na Área 2 do Campus. As instalações dos departamentos, SEL EESC, SSC ICMC e SCC ICMC, na Área 1 do Campus também são utilizadas para laboratórios básicos. Somadas, a infraestrutura instalada é responsável pela consecução dos objetivos do curso. A dimensão do corpo docente e de funcionários dos departamentos foi ampliada para manter a qualidade e excelência dos serviços prestados, marca inegável do Campus da USP em São Carlos. A infraestrutura de equipamentos, assim como a física, continua sendo ampliada para também proporcionar a realização das etapas responsáveis pela consolidação dos objetivos do curso. 2. DIRETRIZES PARA O PROJETO PEDAGÓGICO DO CURSO A seguir são apresentadas as diretrizes que nortearam a elaboração do projeto pedagógico e da matriz curricular. Desse modo, são apresentadas as ementas resumidas das disciplinas que compõem os núcleos básico, profissionalizante e de formação específica, bem como aquele das optativas eletivas, optativas livres e de atividades acadêmicas complementares. 2.1 ESTRUTURA PEDAGÓGICA E CURRICULAR Os objetivos pedagógicos do curso de Engenharia de Computação serão alcançados a partir de estrutura curricular centrada na possibilidade de incorporação imediata de avanços científicos e tecnológicos. As seguintes diretrizes pedagógicas são tomadas como base para o projeto pedagógico do curso: 1. Permitir visão clara das tendências e relevância tecnológica do ponto de vista socioeconômico; 2. Proporcionar imersão do estudante em ambiente essencialmente científico e tecnológico, livre e criativo; 3. Atentar para que os conteúdos curriculares atendam adequadamente às “diretrizes curriculares para os cursos de engenharia”, elaboradas pelo\\n\\nPROJETO PEDAGÓGICO DO CURSO DE ENGENHARIA DE COMPUTAÇÃO, ICMC E EESC, USP SÃO CARLOS 9 Conselho Federal de Educação, de acordo com a CNE/CES resolução no. 2 de 24 de abril de 20191. 4. Proporcionar equilíbrio entre disciplinas do núcleo básico e de formação específica para manter o projeto pedagógico sempre ajustado às mudanças tecnológicas; 5. Permitir que as disciplinas do núcleo de formação específica exibam conteúdo variável, sempre ajustado às alterações científicas e tecnológicas; 6. Alocar uma parte adequada das disciplinas para que tenham caráter de livre escolha: a composição e recomposição do conhecimento, em qualquer etapa, devem ficar a cargo do estudante. Para orientá lo durante o curso, assessoria pedagógica deve ser um serviço oferecido. 7. Criar uma gama de perfis profissionais com base em disciplinas de livre escolha para que o estudante possa optar por aquele(s) que mais se adapte(m) às suas habilidades; 8. Criar um sistema de acompanhamento pedagógico que evite a desadaptação temporária do estudante do perfil inicialmente escolhido; 9. Incentivar o engajamento, após a adaptação ao esquema de estudos, que pode durar no máximo o primeiro semestre, em algum tema de estudo oriundo do ambiente escolar ou empresarial. Para tanto, o engajamento em projetos de iniciação científica, formatura, monitoria e estágio será estimulado; 10. Estimular o trabalho em equipe, uso de redes de computadores e, quando necessário, ensino a distância; 11. Proporcionar, sempre que couber, simulação de ambiente empresarial para estimular o trabalho em grupo e a responsabilidade; 12. Permitir o desenvolvimento de perfil profissional eclético, com conhecimento de atuação em mercados, economia e atendimento a clientes; 13. Estimular a atuação social com prestação de assessoria a escolas, entidades públicas e assistenciais; 14. Estimular a preocupação com questões sociais, ambientais e de sustentabilidade no desenvolvimento de projetos e na atuação profissional; 15. Reforçar os princípios da investigação científica rigorosa, incentivar a realização de projetos criativos, a comunicação clara e eficiente; 16. Congressos realizados de forma regular (anuais) do curso, onde são formados grupos de trabalhos (entre professores e alunos) a partir da seleção de assuntos eleitos como relevantes, como por exemplo, discussão específica sobre retenção, entre outros; 17. As semanas da Computação e da Engenharia Elétrica são propostas como atividades acadêmicas, integrantes do calendário anual do curso. 2.2 PERFIL PROFISSIONAL O perfil do egresso de um curso de Engenharia de Computação compreenderá uma sólida formação técnico científica e profissional geral, que o capacite a absorver e desenvolver novas tecnologias, estimulando a sua atuação crítica e criativa na 1 A resolução CNE/CES resolução Nº2/2019 foi publicada no Diário Oficial da União em 26 de abril de 2019, Edição 80 Seção 1, p.46.', 'length': 5052, 'num_tokens': 746} \n",
      "Question: Quais são as diretrizes pedagógicas para o curso de Engenharia de Computação?\n",
      "Answer: As diretrizes incluem: 1) visão clara das tendências e relevância tecnológica; 2) imersão em ambiente científico e tecnológico; 3) atendimento às diretrizes curriculares para os cursos de engenharia; 4) equilíbrio entre disciplinas básicas e específicas; 5) conteúdo variável nas disciplinas de formação específica; 6) alocação de disciplinas de livre escolha; 7) criação de perfis profissionais baseados em disciplinas de livre escolha; 8) sistema de acompanhamento pedagógico; 9) engajamento em projetos de iniciação científica, formatura, monitoria e estágio; 10) estímulo ao trabalho em equipe e uso de redes de computadores; 11) simulação de ambiente empresarial; 12) desenvolvimento de perfil profissional eclético; 13) atuação social; 14) preocupação com questões sociais, ambientais e de sustentabilidade; 15) investigação científica rigorosa; 16) congressos anuais; 17) semanas da Computação e da Engenharia Elétrica.\n",
      "\n",
      "\n",
      "\n",
      "📘 Answer:\n",
      "Resposta Final: \n",
      "Os cursos de Engenharia de Computação e Ciência da Computação têm objetivos e focos diferentes. O curso de Engenharia de Computação é centrado na aplicação de princípios de engenharia para o desenvolvimento de sistemas computacionais, com ênfase em hardware e sistemas embarcados. Já o curso de Ciência da Computação se concentra na teoria e no desenvolvimento de algoritmos, software e sistemas de informação.\n",
      "\n",
      "Evidência de Apoio:\n",
      "O documento sobre o Projeto Pedagógico do Curso de Engenharia de Computação (ppp_engcomp) destaca que o curso visa formar profissionais para atuar na interface científica e tecnológica entre a engenharia elétrica/eletrônica e a ciência da computação. \n",
      "Por outro lado, o documento sobre o curso de Ciência da Computação (ppp_bcc) menciona que o curso tem como objetivo formar profissionais capacitados a desenvolver soluções em computação, com foco em software, algoritmos e sistemas de informação.\n",
      "\n",
      "Além disso, a estrutura curricular dos dois cursos é diferente. O curso de Engenharia de Computação é organizado em quatro blocos principais: núcleo básico comum, núcleo básico profissionalizante de engenharia elétrica/eletrônica, núcleo básico profissionalizante de computação e disciplinas optativas. Já o curso de Ciência da Computação tem uma estrutura curricular que inclui disciplinas como Introdução à Ciência de Computação, Algoritmos e Estruturas de Dados, Sistemas Operacionais, Redes de Computadores, entre outras. \n",
      "\n",
      "Portanto, as principais diferenças entre os dois cursos são:\n",
      "*   Foco: Engenharia de Computação se concentra em hardware e sistemas embarcados, enquanto Ciência da Computação se concentra em software e sistemas de informação.\n",
      "*   Objetivos: Engenharia de Computação visa formar profissionais para atuar na interface entre engenharia elétrica/eletrônica e ciência da computação, enquanto Ciência da Computação visa formar profissionais capacitados a desenvolver soluções em computação.\n",
      "\n",
      "É importante observar que essas informações foram obtidas dos documentos fornecidos e podem não ser exaustivas ou atualizadas.\n"
     ]
    }
   ],
   "source": [
    "# Consulta via CLI (base individual)\n",
    "!python -m rag_faq.main --mode query --project {project_name}/{doc_stem}/individual --config {tmp_config_path}"
   ]
  },
  {
   "cell_type": "code",
   "execution_count": null,
   "metadata": {
    "colab": {
     "base_uri": "https://localhost:8080/"
    },
    "id": "rUNJLMLwkvFA",
    "outputId": "727972ab-fd75-40a7-d932-6b940ae30f13"
   },
   "outputs": [
    {
     "name": "stdout",
     "output_type": "stream",
     "text": [
      "2025-10-22 15:01:21.803772: E external/local_xla/xla/stream_executor/cuda/cuda_fft.cc:467] Unable to register cuFFT factory: Attempting to register factory for plugin cuFFT when one has already been registered\n",
      "WARNING: All log messages before absl::InitializeLog() is called are written to STDERR\n",
      "E0000 00:00:1761145281.828359    9346 cuda_dnn.cc:8579] Unable to register cuDNN factory: Attempting to register factory for plugin cuDNN when one has already been registered\n",
      "E0000 00:00:1761145281.836765    9346 cuda_blas.cc:1407] Unable to register cuBLAS factory: Attempting to register factory for plugin cuBLAS when one has already been registered\n",
      "W0000 00:00:1761145281.856494    9346 computation_placer.cc:177] computation placer already registered. Please check linkage and avoid linking the same target more than once.\n",
      "W0000 00:00:1761145281.856539    9346 computation_placer.cc:177] computation placer already registered. Please check linkage and avoid linking the same target more than once.\n",
      "W0000 00:00:1761145281.856544    9346 computation_placer.cc:177] computation placer already registered. Please check linkage and avoid linking the same target more than once.\n",
      "W0000 00:00:1761145281.856548    9346 computation_placer.cc:177] computation placer already registered. Please check linkage and avoid linking the same target more than once.\n",
      "🔎 Enter your question: Qual é a diferença do curso de Engenharia da computação e Ciência da computação?\n",
      "\n",
      "🔎 Context used:\n",
      "[1]\n",
      "Text: {'doc_name': 'ppp_engcomp', 'chunk_id': 11, 'start_page': 11, 'end_page': 12, 'pages': '11,12', 'text': 'PROJETO PEDAGÓGICO DO CURSO DE ENGENHARIA DE COMPUTAÇÃO, ICMC E EESC, USP SÃO CARLOS 11 circuitos integrados, engenheiro de controle industrial, engenheiro projetista VHDL, engenheiro de sistemas, gerente de engenharia. 3. MATRIZ CURRICULAR As diretrizes e a matriz curricular são descritas nesta seção. 3.1 DIRETRIZES PARA A CONSTRUÇÃO DA MATRIZ CURRICULAR A matriz curricular foi construída a partir das seguintes premissas: 1. A atuação do profissional formado no curso deve estar situada na interface científica e tecnológica entre a engenharia elétrica/eletrônica e a ciência da computação; 2. O perfil do egresso deve atender às “diretrizes curriculares para os cursos de engenharia” e “diretrizes curriculares de cursos da área de computação e informática”, propostas pelo Conselho Nacional de Educação, vinculado ao Ministério da Educação; 3. A vocação científica e tecnológica e a organização das matrizes curriculares dos departamentos foram aproveitadas e ampliadas; 4. As disciplinas que apresentam o mesmo conteúdo programático foram divididas entre os departamentos, ficando o enfoque e o conteúdo sob a responsabilidade dos docentes das áreas correlatas de cada departamento; 5. As disciplinas comuns poderão ser oferecidas pelos departamentos em sistema de alternância ou em semestres consecutivos; 6. Uma porcentagem do número total de créditos ficou reservada para disciplinas optativas eletivas, podendo compor um perfil. O número de perfis profissionais não é restrito e eles poderão ser propostos em qualquer momento. Os perfis sugeridos devem observar as áreas de interface entre engenharia elétrica/eletrônica e ciências da computação; 7. Uma porcentagem do número total de créditos ficou reservado, na forma de créditos trabalhos em atividades acadêmicas complementares (AACs), com o objetivo de flexibilizar a formação profissional, científica, social e cultural do estudante; 8. Somente disciplinas consideradas básicas das duas áreas de interface foram alocadas na matriz curricular; 9. As disciplinas básicas e comuns da matriz curricular dos cursos de engenharia, que atualmente são de responsabilidade dos Departamentos de Sistemas e de Ciências de Computação, foram computadas separadamente e consideradas pertencentes ao núcleo básico e comum; 10. A carga horária de aulas formais deve ser a menor possível, resguardadas as especificidades de cada disciplina. 3.2 DISCIPLINAS Na Figura 1 é ilustrado o organograma das disciplinas. O curso é formado por quatro blocos principais: um bloco básico para toda a carreira, um bloco de disciplinas de engenharia, outro de disciplinas de computação e o de disciplinas optativas\\n\\nPROJETO PEDAGÓGICO DO CURSO DE ENGENHARIA DE COMPUTAÇÃO, ICMC E EESC, USP SÃO CARLOS 12 eletivas (incluindo perfis de ênfase). A distribuição das ementas considera as diretrizes para os cursos de engenharia e ciências da computação sugeridas pelo CNE. Figura 1. Organograma dos núcleos de disciplinas do curso. As disciplinas do núcleo básico comum são constituídas a partir do conteúdo das disciplinas profissionalizantes, evitando repetições de conteúdo e excesso de carga horária. A constituição das disciplinas dos núcleos básico e profissionalizante segue as seguintes diretrizes: 1. O núcleo básico é constituído por um grupo de disciplinas que reúne o conteúdo essencial para satisfazer ao perfil profissional projetado, entendendo se como a formação sólida em áreas como física e matemática; 2. O núcleo profissionalizante deve proporcionar um perfil fortemente baseado em engenharia eletrônica, computação e áreas de interface; 3. As disciplinas do núcleo profissionalizante têm como finalidade englobar o conteúdo das áreas de: 3.1. Processamento digital de sinais para aplicações em todas as áreas de engenharia elétrica e computação; 3.2. Microeletrônica: projetos de circuitos integrados analógicos e digitais; 3.3. Sistemas digitais; 3.4. Robótica e automação; 3.5. Telecomunicações; 3.6. Engenharia de Software; 3.7. Sistemas Computacionais Distribuídos; 3.8. Computação Gráfica; 3.9. Banco de Dados; 3.10. Hipermídia e Multimídia; 3.11. Programação Matemática. As disciplinas que não constam do elenco atual dos cursos de engenharia elétrica e ciências da computação poderão ser criadas de acordo com as Organograma das disciplinas Física Matemática Química Humanidades Administração e economia Núcleo básico comum Núcleo básico Profissionalizantes Engenharia elétrica/eletrônica Núcleo básico Profissionalizantes Computação Optativas/CEEs Engenharia de computação', 'length': 4533, 'num_tokens': 644} \n",
      "Question: Quais são os núcleos de disciplinas do curso de Engenharia de Computação?\n",
      "Answer: Os núcleos são: núcleo básico comum, núcleo básico, profissionalizantes de engenharia elétrica/eletrônica, profissionalizantes de computação e optativas.\n",
      "\n",
      "[2]\n",
      "Text: {'doc_name': 'ppp_engcomp', 'chunk_id': 12, 'start_page': 12, 'end_page': 13, 'pages': '12,13', 'text': 'PROJETO PEDAGÓGICO DO CURSO DE ENGENHARIA DE COMPUTAÇÃO, ICMC E EESC, USP SÃO CARLOS 12 eletivas (incluindo perfis de ênfase). A distribuição das ementas considera as diretrizes para os cursos de engenharia e ciências da computação sugeridas pelo CNE. Figura 1. Organograma dos núcleos de disciplinas do curso. As disciplinas do núcleo básico comum são constituídas a partir do conteúdo das disciplinas profissionalizantes, evitando repetições de conteúdo e excesso de carga horária. A constituição das disciplinas dos núcleos básico e profissionalizante segue as seguintes diretrizes: 1. O núcleo básico é constituído por um grupo de disciplinas que reúne o conteúdo essencial para satisfazer ao perfil profissional projetado, entendendo se como a formação sólida em áreas como física e matemática; 2. O núcleo profissionalizante deve proporcionar um perfil fortemente baseado em engenharia eletrônica, computação e áreas de interface; 3. As disciplinas do núcleo profissionalizante têm como finalidade englobar o conteúdo das áreas de: 3.1. Processamento digital de sinais para aplicações em todas as áreas de engenharia elétrica e computação; 3.2. Microeletrônica: projetos de circuitos integrados analógicos e digitais; 3.3. Sistemas digitais; 3.4. Robótica e automação; 3.5. Telecomunicações; 3.6. Engenharia de Software; 3.7. Sistemas Computacionais Distribuídos; 3.8. Computação Gráfica; 3.9. Banco de Dados; 3.10. Hipermídia e Multimídia; 3.11. Programação Matemática. As disciplinas que não constam do elenco atual dos cursos de engenharia elétrica e ciências da computação poderão ser criadas de acordo com as Organograma das disciplinas Física Matemática Química Humanidades Administração e economia Núcleo básico comum Núcleo básico Profissionalizantes Engenharia elétrica/eletrônica Núcleo básico Profissionalizantes Computação Optativas/CEEs Engenharia de computação\\n\\nPROJETO PEDAGÓGICO DO CURSO DE ENGENHARIA DE COMPUTAÇÃO, ICMC E EESC, USP SÃO CARLOS 13 necessidades de atualização, com isso, as disciplinas que formam o corpo básico de ambos os cursos deverão ser agrupadas ou condensadas para acomodar as novas disciplinas, mantendo a carga horária em padrão adequado. 3.3 DESCRIÇÃO DA MATRIZ CURRICULAR A matriz curricular é mostrada e discutida nesta seção. A Tabela 1 mostra a duração do curso, a Tabela 2. Resumo da quantidade de horas do curso de engenharia de computação. Tabela 3. Resumo do número de horas por semestre. Na Grade curricular a matriz curricular do curso de Engenharia de Computação. Os dados completos das disciplinas, incluindo ementas e pré requisitos, podem ser consultados no sistema Júpiter2 da USP, que gerencia os cursos de graduação. A um crédito aula atribui se uma hora aula e a um crédito trabalho, duas horas aula. Tabela 1. Duração do curso de engenharia de computação. Duração Ideal 10 semestres Mínima 08 semestres Máxima 15 semestres Tabela 2. Resumo da quantidade de horas do curso de engenharia de computação. Carga Horária Aula Trabalho Subtotal Obrigatória 2895 1110 4005 Optativa Eletiva 315 0 315 Optativa Livre 180 0 180 Total 3390 1110 4500 (Estágio: 180) (AAC: 120) Tabela 3. Quadro resumo da distribuição por semestre das disciplinas obrigatórias e optativas eletivas. Período Crédito aula Crédito trabalho Carga Horária Primeiro 27 2 465 Segundo 27 2 465 Terceiro 28 2 480 Quarto 28 4 540 Quinto 26 2 450 Sexto 24 7 570 Sétimo 25 6 555 Oitavo 08 0 120 Nono 0 12 3601) Décimo 0 0 0 Sub total 193 37 4005 Optativas eletivas 21 0 315 Optativas livres 12 0 180 Total 226 37 4500 (1) Inclui estágio supervisionado e projeto de formatura. A carga horária de crédito trabalho é contada em dobro. 2 O endereço do sistema Júpiter é http://sistemas2.usp.br/jupiterweb.', 'length': 3726, 'num_tokens': 569} \n",
      "Question: Quais são os núcleos de disciplinas do curso de Engenharia de Computação?\n",
      "Answer: Os núcleos de disciplinas são: Núcleo Básico Comum, Núcleo Básico, Profissionalizantes (Engenharia Elétrica/eletrônica e Computação) e Optativas/CEEs.\n",
      "\n",
      "[3]\n",
      "Text: {'doc_name': 'ppp_engcomp', 'chunk_id': 10, 'start_page': 10, 'end_page': 11, 'pages': '10,11', 'text': 'PROJETO PEDAGÓGICO DO CURSO DE ENGENHARIA DE COMPUTAÇÃO, ICMC E EESC, USP SÃO CARLOS 10 identificação e resolução de problemas, considerando seus aspectos políticos, econômicos, sociais, ambientais e culturais, com visão ética e humanística em atendimento às demandas da sociedade. Faz parte do perfil do egresso a postura de permanente busca da atualização profissional. O egresso do curso de Engenharia de Computação deve apresentar as seguintes habilidades como profissional: 1. Atuar em área da engenharia eletrônica, computação, telecomunicações, microeletrônica, automação e sistemas, tecnologia da informação, processamento de sinais e multimídia, inteligência artificial, robótica, engenharia de software, redes de computadores, simulação, banco de dados; 2. Atuar em aplicação de conhecimentos na análise, projeto e desenvolvimento de sistemas de informática, englobando o desenvolvimento de produtos e programas de uso específico. Atuação específica inclui projetos de sistemas que utilizem tecnologia digital e de informática, criação e teste de programas de aplicação específica, teste e padronização de componentes, sistemas e programas, suporte técnico para vendas e divulgação de produtos de informática; 3. Projetar e desenvolver dispositivos e sistemas para desenvolvimento de sistemas para processamento da informação, comunicação e para sistemas de controle; 4. Projetar e desenvolver sistemas e tecnologias para aquisição da informação, armazenamento e comunicação, tornando sua atuação relevante na atual era da informação; 5. Demonstrar capacidade de liderança e para trabalho em grupo; 6. Possuir criatividade e espírito empreendedor; 7. Ter facilidade para assimilar novas tecnologias; 8. Conhecer relações de mercado, organização empresarial, desenvolvimento de produtos, atendimento ao cliente; 9. Atuar em pesquisa e desenvolvimento; 10. Agir com responsabilidade social e ambiental ao aplicar conhecimentos e tecnologias. 2.3 ÁREAS DE ATUAÇÃO Os engenheiros de computação poderão atuar em áreas ligadas ao uso e desenvolvimento de computadores pessoais e de grande porte, redes locais, metropolitanas e de longa distância de computadores, comunicação entre e por computadores, visão computacional, inteligência artificial, programação, modelagem de bancos de dados, gerência de sistemas, comunicação via satélites, telefonia fixa e celular, sistemas de comunicações ópticas, robótica e sistemas de controle, processamento de voz, som e imagem para usos médico, industrial e entretenimento, projetos de circuitos integrados, desenvolvimento de ferramentas auxiliadas por computador. São posições típicas de trabalho ocupadas por engenheiros de computação as de engenheiro de projeto digital, administrador de rede, arquiteto de computadores, administrador de sistemas computacionais, engenheiro de sistemas embarcados, engenheiro de rede, engenheiro de software, programador técnico, projetista de\\n\\nPROJETO PEDAGÓGICO DO CURSO DE ENGENHARIA DE COMPUTAÇÃO, ICMC E EESC, USP SÃO CARLOS 11 circuitos integrados, engenheiro de controle industrial, engenheiro projetista VHDL, engenheiro de sistemas, gerente de engenharia. 3. MATRIZ CURRICULAR As diretrizes e a matriz curricular são descritas nesta seção. 3.1 DIRETRIZES PARA A CONSTRUÇÃO DA MATRIZ CURRICULAR A matriz curricular foi construída a partir das seguintes premissas: 1. A atuação do profissional formado no curso deve estar situada na interface científica e tecnológica entre a engenharia elétrica/eletrônica e a ciência da computação; 2. O perfil do egresso deve atender às “diretrizes curriculares para os cursos de engenharia” e “diretrizes curriculares de cursos da área de computação e informática”, propostas pelo Conselho Nacional de Educação, vinculado ao Ministério da Educação; 3. A vocação científica e tecnológica e a organização das matrizes curriculares dos departamentos foram aproveitadas e ampliadas; 4. As disciplinas que apresentam o mesmo conteúdo programático foram divididas entre os departamentos, ficando o enfoque e o conteúdo sob a responsabilidade dos docentes das áreas correlatas de cada departamento; 5. As disciplinas comuns poderão ser oferecidas pelos departamentos em sistema de alternância ou em semestres consecutivos; 6. Uma porcentagem do número total de créditos ficou reservada para disciplinas optativas eletivas, podendo compor um perfil. O número de perfis profissionais não é restrito e eles poderão ser propostos em qualquer momento. Os perfis sugeridos devem observar as áreas de interface entre engenharia elétrica/eletrônica e ciências da computação; 7. Uma porcentagem do número total de créditos ficou reservado, na forma de créditos trabalhos em atividades acadêmicas complementares (AACs), com o objetivo de flexibilizar a formação profissional, científica, social e cultural do estudante; 8. Somente disciplinas consideradas básicas das duas áreas de interface foram alocadas na matriz curricular; 9. As disciplinas básicas e comuns da matriz curricular dos cursos de engenharia, que atualmente são de responsabilidade dos Departamentos de Sistemas e de Ciências de Computação, foram computadas separadamente e consideradas pertencentes ao núcleo básico e comum; 10. A carga horária de aulas formais deve ser a menor possível, resguardadas as especificidades de cada disciplina. 3.2 DISCIPLINAS Na Figura 1 é ilustrado o organograma das disciplinas. O curso é formado por quatro blocos principais: um bloco básico para toda a carreira, um bloco de disciplinas de engenharia, outro de disciplinas de computação e o de disciplinas optativas', 'length': 5577, 'num_tokens': 780} \n",
      "Question: Como está estruturado o curso de Engenharia de Computação?\n",
      "Answer: O curso é formado por quatro blocos principais: um bloco básico para toda a carreira, um bloco de disciplinas de engenharia, outro de disciplinas de computação e o de disciplinas optativas.\n",
      "\n",
      "[4]\n",
      "Text: {'doc_name': 'ppp_engcomp', 'chunk_id': 8, 'start_page': 8, 'end_page': 9, 'pages': '8,9', 'text': 'PROJETO PEDAGÓGICO DO CURSO DE ENGENHARIA DE COMPUTAÇÃO, ICMC E EESC, USP SÃO CARLOS 8 vínculo importante de conhecimentos acumulados em duas áreas de conhecimento científico e tecnológico. 1.7 INFRAESTRUTURA E RECURSOS HUMANOS EXISTENTES A infraestrutura física disponível no atual Campus da USP em São Carlos e as novas edificações necessárias para a instalação de laboratórios e salas de aulas foram e continuam sendo aperfeiçoados na Área 2 do Campus. As instalações dos departamentos, SEL EESC, SSC ICMC e SCC ICMC, na Área 1 do Campus também são utilizadas para laboratórios básicos. Somadas, a infraestrutura instalada é responsável pela consecução dos objetivos do curso. A dimensão do corpo docente e de funcionários dos departamentos foi ampliada para manter a qualidade e excelência dos serviços prestados, marca inegável do Campus da USP em São Carlos. A infraestrutura de equipamentos, assim como a física, continua sendo ampliada para também proporcionar a realização das etapas responsáveis pela consolidação dos objetivos do curso. 2. DIRETRIZES PARA O PROJETO PEDAGÓGICO DO CURSO A seguir são apresentadas as diretrizes que nortearam a elaboração do projeto pedagógico e da matriz curricular. Desse modo, são apresentadas as ementas resumidas das disciplinas que compõem os núcleos básico, profissionalizante e de formação específica, bem como aquele das optativas eletivas, optativas livres e de atividades acadêmicas complementares. 2.1 ESTRUTURA PEDAGÓGICA E CURRICULAR Os objetivos pedagógicos do curso de Engenharia de Computação serão alcançados a partir de estrutura curricular centrada na possibilidade de incorporação imediata de avanços científicos e tecnológicos. As seguintes diretrizes pedagógicas são tomadas como base para o projeto pedagógico do curso: 1. Permitir visão clara das tendências e relevância tecnológica do ponto de vista socioeconômico; 2. Proporcionar imersão do estudante em ambiente essencialmente científico e tecnológico, livre e criativo; 3. Atentar para que os conteúdos curriculares atendam adequadamente às “diretrizes curriculares para os cursos de engenharia”, elaboradas pelo\\n\\nPROJETO PEDAGÓGICO DO CURSO DE ENGENHARIA DE COMPUTAÇÃO, ICMC E EESC, USP SÃO CARLOS 9 Conselho Federal de Educação, de acordo com a CNE/CES resolução no. 2 de 24 de abril de 20191. 4. Proporcionar equilíbrio entre disciplinas do núcleo básico e de formação específica para manter o projeto pedagógico sempre ajustado às mudanças tecnológicas; 5. Permitir que as disciplinas do núcleo de formação específica exibam conteúdo variável, sempre ajustado às alterações científicas e tecnológicas; 6. Alocar uma parte adequada das disciplinas para que tenham caráter de livre escolha: a composição e recomposição do conhecimento, em qualquer etapa, devem ficar a cargo do estudante. Para orientá lo durante o curso, assessoria pedagógica deve ser um serviço oferecido. 7. Criar uma gama de perfis profissionais com base em disciplinas de livre escolha para que o estudante possa optar por aquele(s) que mais se adapte(m) às suas habilidades; 8. Criar um sistema de acompanhamento pedagógico que evite a desadaptação temporária do estudante do perfil inicialmente escolhido; 9. Incentivar o engajamento, após a adaptação ao esquema de estudos, que pode durar no máximo o primeiro semestre, em algum tema de estudo oriundo do ambiente escolar ou empresarial. Para tanto, o engajamento em projetos de iniciação científica, formatura, monitoria e estágio será estimulado; 10. Estimular o trabalho em equipe, uso de redes de computadores e, quando necessário, ensino a distância; 11. Proporcionar, sempre que couber, simulação de ambiente empresarial para estimular o trabalho em grupo e a responsabilidade; 12. Permitir o desenvolvimento de perfil profissional eclético, com conhecimento de atuação em mercados, economia e atendimento a clientes; 13. Estimular a atuação social com prestação de assessoria a escolas, entidades públicas e assistenciais; 14. Estimular a preocupação com questões sociais, ambientais e de sustentabilidade no desenvolvimento de projetos e na atuação profissional; 15. Reforçar os princípios da investigação científica rigorosa, incentivar a realização de projetos criativos, a comunicação clara e eficiente; 16. Congressos realizados de forma regular (anuais) do curso, onde são formados grupos de trabalhos (entre professores e alunos) a partir da seleção de assuntos eleitos como relevantes, como por exemplo, discussão específica sobre retenção, entre outros; 17. As semanas da Computação e da Engenharia Elétrica são propostas como atividades acadêmicas, integrantes do calendário anual do curso. 2.2 PERFIL PROFISSIONAL O perfil do egresso de um curso de Engenharia de Computação compreenderá uma sólida formação técnico científica e profissional geral, que o capacite a absorver e desenvolver novas tecnologias, estimulando a sua atuação crítica e criativa na 1 A resolução CNE/CES resolução Nº2/2019 foi publicada no Diário Oficial da União em 26 de abril de 2019, Edição 80 Seção 1, p.46.', 'length': 5052, 'num_tokens': 746} \n",
      "Question: Quais são as diretrizes pedagógicas para o curso de Engenharia de Computação?\n",
      "Answer: As diretrizes pedagógicas incluem: permitir visão clara das tendências e relevância tecnológica; proporcionar imersão em ambiente científico e tecnológico; atender às diretrizes curriculares para os cursos de engenharia; proporcionar equilíbrio entre disciplinas do núcleo básico e de formação específica; permitir conteúdo variável nas disciplinas de formação específica; alocar disciplinas de livre escolha; criar perfis profissionais com base em disciplinas de livre escolha; criar um sistema de acompanhamento pedagógico; incentivar o engajamento em projetos; estimular trabalho em equipe e uso de redes de computadores; proporcionar simulação de ambiente empresarial; permitir desenvolvimento de perfil profissional eclético; estimular atuação social e preocupação com questões sociais, ambientais e de sustentabilidade.\n",
      "\n",
      "[5]\n",
      "Text: {'doc_name': 'ppp_engcomp', 'chunk_id': 2, 'start_page': 2, 'end_page': 3, 'pages': '2,3', 'text': 'PROJETO PEDAGÓGICO DO CURSO DE ENGENHARIA DE COMPUTAÇÃO, ICMC E EESC, USP SÃO CARLOS 2 RESUMO O projeto pedagógico do curso (PPC) do Curso de Graduação em Engenharia de Computação é descrito neste documento. A elaboração do projeto, oferecimento e execução do curso são iniciativas da Escola de Engenharia de São Carlos (EESC) e do Instituto de Ciências Matemáticas e de Computação (ICMC), sediados no Campus da USP em São Carlos. O objetivo principal do curso é a formação de recursos humanos plenamente capacitados para exercer atividades profissionais relacionadas com áreas que constituem interface entre engenharia elétrica e ciências da computação. A análise dos panoramas científico, tecnológico e do mercado de trabalho aponta para uma demanda de profissionais com o perfil esboçado neste documento. A partir da criação do curso, uma ampla faixa de perfis, adaptados às rápidas mudanças tecnológicas, será colocada à disposição dos alunos por intermédio de grupo de disciplinas complementares. A proposta contempla um perfil diferenciado em relação a diversos cursos de engenharia de computação já implantados no país e faz uso das amplas experiências pedagógica, científica e de prestação de serviços à comunidade da Escola de Engenharia de São Carlos e do Instituto de Ciências Matemáticas e de Computação. A matriz curricular proposta atende, em conteúdo, às recomendações do perfil profissional para cursos de engenharia, sugeridas pelo Conselho Nacional de Educação (CNE). Neste documento é apresentado o perfil profissional projetado para os egressos, as habilidades que serão adquiridas, a matriz curricular proposta, a comparação com as diretrizes propostas pelo CNE e as etapas que serão elaboradas a partir da implantação do curso. O curso faz uso da capacidade instalada nos dois campi da USP em São Carlos, atendendo aos requisitos da política adotada pela Universidade de São Paulo de ampliar a gama de serviços de qualidade oferecidos à sociedade brasileira.\\n\\nPROJETO PEDAGÓGICO DO CURSO DE ENGENHARIA DE COMPUTAÇÃO, ICMC E EESC, USP SÃO CARLOS 3 Sumário RESUMO ...........................................................................................................................................................................2 SUMÁRIO ..........................................................................................................................................................................3 FIGURAS ...........................................................................................................................................................................3 TABELAS ..........................................................................................................................................................................3 1. INTRODUÇÃO .............................................................................................................................................................4 1.1 CRIAÇÃO E RECONHECIMENTOS DO CURSO ........................................................................................4 1.2 CENÁRIO TECNOLÓGICO ...............................................................................................................................4 1.3 CENÁRIO DE CAPACITAÇÃO PROFISSIONAL ........................................................................................5 1.4 CENÁRIO EMPRESARIAL E DE NEGÓCIOS ..............................................................................................6 1.5 CENÁRIO UNIVERSITÁRIO BRASILEIRO E CURSOS SIMILARES ....................................................7 1.6 CENÁRIO UNIVERSITÁRIO NA USP SÃO CARLOS ................................................................................7 1.7 INFRAESTRUTURA E RECURSOS HUMANOS EXISTENTES ..............................................................8 2. DIRETRIZES PARA O PROJETO PEDAGÓGICO DO CURSO ...................................................................8 2.1 ESTRUTURA PEDAGÓGICA E CURRICULAR ..........................................................................................8 2.2 PERFIL PROFISSIONAL ...................................................................................................................................9 2.3 ÁREAS DE ATUAÇÃO .................................................................................................................................... 10 3. MATRIZ CURRICULAR ......................................................................................................................................... 11 3.1 DIRETRIZES PARA A CONSTRUÇÃO DA MATRIZ CURRICULAR .................................................. 11 3.2 DISCIPLINAS ..................................................................................................................................................... 11 3.3 DESCRIÇÃO DA MATRIZ CURRICULAR .................................................................................................. 13 3.4 CARGA DIDÁTICA TOTAL DO CURSO ..................................................................................................... 14 3.5 SOBRE OS CERTIFICADOS DE ESTUDOS ESPECIAIS ...................................................................... 16 3.6 SOBRE O ESTÁGIO CURRICULAR SUPERVISIONADO ..................................................................... 19 3.7 SOBRE AS ATIVIDADES COMPLEMENTARES ..................................................................................... 19 4. INFRAESTRUTURA E GERÊNCIA .................................................................................................................... 23 4.1 PARCERIA ENTRE UNIDADES .................................................................................................................... 23 4.2 NÚMERO DE ALUNOS .................................................................................................................................... 23 4.3 GERÊNCIA DO CURSO .................................................................................................................................. 24 4.4 LOCAL DE ATIVIDADES DO CURSO ......................................................................................................... 24 4.5 ACOLHIMENTO ................................................................................................................................................ 25 4.6 ADEQUAÇÃO ÀS NOVAS DIRETRIZES CURRICULARES NACIONAIS (DCNS).......................... 26 5. ETAPAS FUTURAS ................................................................................................................................................ 26 6. CONCLUSÕES ........................................................................................................................................................ 27 Figuras Figura 1. Organograma dos núcleos de disciplinas do curso. ..................................................................... 12 Tabelas Tabela 1. Duração do curso de engenharia de computação. ...................................................................... 13 Tabela 2. Resumo da quantidade de horas do curso de engenharia de computação. .............................. 13 Tabela 3. Quadro resumo da distribuição por semestre das disciplinas obrigatórias e optativas eletivas. ......................................................................................................................................................................... 13 Tabela 4. Distribuição da carga total entre os núcleos didáticos básico e profissionalizante. O ciclo básico é subdividido para visualização mais adequada. .............................................................................. 14 Tabela 5. Lista de disciplinas e classificação de acordo com o núcleo didático. ........................................ 15 Tabela 6. Relação de Atividades Acadêmicas Complementares, critérios de avaliação e quantidade de créditos ............................................................................................................................................................ 20', 'length': 8151, 'num_tokens': 625} \n",
      "Question: Como o curso de Engenharia de Computação da USP São Carlos se diferencia de outros cursos similares?\n",
      "Answer: A proposta contempla um perfil diferenciado em relação a diversos cursos de engenharia de computação já implantados no país, fazendo uso das amplas experiências pedagógica, científica e de prestação de serviços à comunidade da Escola de Engenharia de São Carlos e do Instituto de Ciências Matemáticas e de Computação.\n",
      "\n",
      "\n",
      "\n",
      "📘 Answer:\n",
      "O curso de Engenharia de Computação e Ciência da Computação são dois campos de estudo distintos, embora relacionados. A Engenharia de Computação se concentra na aplicação prática de conhecimentos de computação e engenharia para projetar, desenvolver e manter sistemas computacionais e soluções tecnológicas. Já a Ciência da Computação se concentra mais na teoria e no desenvolvimento de algoritmos, modelos computacionais e sistemas de software.\n",
      "\n",
      "Segundo o documento fornecido, o curso de Engenharia de Computação da USP São Carlos tem como objetivo formar profissionais capacitados para exercer atividades profissionais relacionadas à interface entre engenharia elétrica e ciências da computação. O curso é projetado para fornecer uma formação sólida em áreas como física, matemática e computação, além de habilidades práticas para projetar, desenvolver e manter sistemas computacionais.\n",
      "\n",
      "Não há informações detalhadas sobre o curso de Ciência da Computação no documento fornecido. No entanto, em geral, os cursos de Ciência da Computação se concentram em tópicos como algoritmos, estruturas de dados, programação, teoria da computação, inteligência artificial, banco de dados, entre outros.\n",
      "\n",
      "Portanto, a principal diferença entre os dois cursos é que a Engenharia de Computação tem um foco mais aplicado e prático, enquanto a Ciência da Computação tem um foco mais teórico e científico. \n",
      "\n",
      "Evidência de apoio: \n",
      "- O documento menciona que \"A atuação do profissional formado no curso deve estar situada na interface científica e tecnológica entre a engenharia elétrica/eletrônica e a ciência da computação\".\n",
      "- O perfil profissional do egresso do curso de Engenharia de Computação inclui habilidades como projetar e desenvolver sistemas e tecnologias para aquisição da informação, armazenamento e comunicação.\n"
     ]
    }
   ],
   "source": [
    "# Consulta via CLI (base unificada)\n",
    "!python -m rag_faq.main --mode query --project {project_name}/{doc_stem}/unificado --config {tmp_config_path}"
   ]
  }
 ],
 "metadata": {
  "colab": {
   "provenance": []
  },
  "kernelspec": {
   "display_name": "Python 3",
   "name": "python3"
  },
  "language_info": {
   "name": "python"
  }
 },
 "nbformat": 4,
 "nbformat_minor": 0
}
