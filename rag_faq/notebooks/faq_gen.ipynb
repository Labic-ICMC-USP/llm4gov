{
 "cells": [
  {
   "cell_type": "markdown",
   "id": "ac7019a6",
   "metadata": {},
   "source": [
    "# Generate FAQ and embeddings\n",
    "\n",
    "This notebook provides a manual workflow for generating FAQs (Frequently Asked Questions) and their corresponding vector embeddings from course content.\n",
    "\n",
    "**What this notebook does:**\n",
    "- Loads course content from CSV files\n",
    "- Generates persona-specific FAQs using AI\n",
    "- Creates vector embeddings for semantic search\n",
    "- Organizes outputs in structured directories\n",
    "\n",
    "**Use this when:** You need to manually generate FAQs and embeddings for specific courses or when you want to control the generation process step by step.\n"
   ]
  },
  {
   "cell_type": "code",
   "execution_count": 1,
   "id": "a10d9479",
   "metadata": {},
   "outputs": [],
   "source": [
    "from pathlib import Path\n",
    "import os\n",
    "import pandas as pd\n",
    "from rag_faq.config import load_config\n",
    "from rag_faq.indexer import generate_faqs\n",
    "from rag_faq.embedder import embed_faqs"
   ]
  },
  {
   "cell_type": "markdown",
   "id": "84d33527",
   "metadata": {},
   "source": [
    "## ⚙️ Configuration and Data Loading\n",
    "\n",
    "This cell sets up the core parameters for FAQ generation:\n",
    "\n",
    "**Manual Configuration** (edit these values as needed):\n",
    "- `csv_path`: Path to the course chunks CSV file\n",
    "- `course_name`: Display name for the course\n",
    "- `project_name`: Display name for the project directory\n",
    "\n",
    "\n",
    "**Automatic Setup**:\n",
    "- Loads the CSV data and converts to text format\n",
    "- Loads configuration from `config.yaml`\n",
    "- Creates project directory structure"
   ]
  },
  {
   "cell_type": "code",
   "execution_count": null,
   "id": "20c8b976",
   "metadata": {},
   "outputs": [],
   "source": [
    "# =============== EDIT THIS MANUALLY ===============\n",
    "csv_path = Path(\"data/ppp_best/ppp_best_chunks.csv\")\n",
    "course_name = \"Bacharelado em Estatística\"\n",
    "project_name = \"myproj\"\n",
    "# ==================================================\n",
    "\n",
    "if not csv_path.exists():\n",
    "    raise FileNotFoundError(f\"Pages CSV not found: {csv_path}\")\n",
    "\n",
    "df = pd.read_csv(csv_path)\n",
    "texts = [str(row.to_dict()) for _, row in df.iterrows()]\n",
    "\n",
    "config = load_config(\"config.yaml\")\n",
    "\n",
    "doc_stem = csv_path.parent.name\n",
    "project_dir = Path(config[\"paths\"][\"projects_dir\"]) / project_name / doc_stem\n",
    "project_dir.mkdir(parents=True, exist_ok=True)"
   ]
  },
  {
   "cell_type": "markdown",
   "id": "53544564",
   "metadata": {},
   "source": [
    "## 🎯 Individual FAQ Generation\n",
    "\n",
    "This cell generates FAQs for a single persona (typically \"aluno\" - student).\n",
    "\n",
    "**Purpose**: \n",
    "- Creates a focused FAQ set for one specific user type\n",
    "- Saves to the `individual` subdirectory\n",
    "\n",
    "**Output**: `individual/faq.csv` with student-focused questions and answers\n"
   ]
  },
  {
   "cell_type": "code",
   "execution_count": 3,
   "id": "db2fd64e",
   "metadata": {},
   "outputs": [
    {
     "name": "stderr",
     "output_type": "stream",
     "text": [
      "Generating FAQs: 100%|██████████| 12/12 [02:34<00:00, 12.85s/it]"
     ]
    },
    {
     "name": "stdout",
     "output_type": "stream",
     "text": [
      "✅ FAQ saved to: projects\\myproj1\\ppp_best\\individual\\faq.csv\n"
     ]
    },
    {
     "name": "stderr",
     "output_type": "stream",
     "text": [
      "\n"
     ]
    }
   ],
   "source": [
    "# Create individual directory for single-persona FAQs\n",
    "individual_dir = project_dir / \"individual\"\n",
    "individual_dir.mkdir(parents=True, exist_ok=True)\n",
    "\n",
    "persona = \"aluno\"\n",
    "generate_faqs(config, individual_dir, texts, course_name, persona)"
   ]
  },
  {
   "cell_type": "markdown",
   "id": "a3c255b2",
   "metadata": {},
   "source": [
    "## 👥 Multi-Persona FAQ Generation\n",
    "\n",
    "This cell generates FAQs for different user personas (students, professors, researchers). \n",
    "\n",
    "**What it does**:\n",
    "- Creates persona-specific FAQs using different prompts\n",
    "- Generates separate CSV files for each persona type in the `unificado` folder\n",
    "\n",
    "**Output**: Three separate FAQ files in `unificado/` folder:\n",
    "- `faq_aluno.csv` - Student-focused FAQs\n",
    "- `faq_professor.csv` - Professor-focused FAQs  \n",
    "- `faq_pesquisador.csv` - Researcher-focused FAQs\n"
   ]
  },
  {
   "cell_type": "code",
   "execution_count": 4,
   "id": "c3f47750",
   "metadata": {},
   "outputs": [
    {
     "name": "stderr",
     "output_type": "stream",
     "text": [
      "Generating FAQs: 100%|██████████| 12/12 [03:07<00:00, 15.64s/it]\n"
     ]
    },
    {
     "name": "stdout",
     "output_type": "stream",
     "text": [
      "✅ FAQ saved to: projects\\myproj1\\ppp_best\\unificado\\faq_aluno.csv\n"
     ]
    },
    {
     "name": "stderr",
     "output_type": "stream",
     "text": [
      "Generating FAQs: 100%|██████████| 12/12 [01:47<00:00,  9.00s/it]\n"
     ]
    },
    {
     "name": "stdout",
     "output_type": "stream",
     "text": [
      "✅ FAQ saved to: projects\\myproj1\\ppp_best\\unificado\\faq_professor.csv\n"
     ]
    },
    {
     "name": "stderr",
     "output_type": "stream",
     "text": [
      "Generating FAQs: 100%|██████████| 12/12 [02:12<00:00, 11.02s/it]"
     ]
    },
    {
     "name": "stdout",
     "output_type": "stream",
     "text": [
      "✅ FAQ saved to: projects\\myproj1\\ppp_best\\unificado\\faq_pesquisador.csv\n"
     ]
    },
    {
     "name": "stderr",
     "output_type": "stream",
     "text": [
      "\n"
     ]
    }
   ],
   "source": [
    "# Create unificado directory for multi-persona FAQs\n",
    "unificado_dir = project_dir / \"unificado\"\n",
    "unificado_dir.mkdir(parents=True, exist_ok=True)\n",
    "\n",
    "persona_type = [\"aluno\", \"professor\", \"pesquisador\"]\n",
    "\n",
    "for persona in persona_type:\n",
    "   generate_faqs(config, unificado_dir, texts, course_name, persona, multi_persona=True)"
   ]
  },
  {
   "cell_type": "markdown",
   "id": "a34f4533",
   "metadata": {},
   "source": [
    "## 🔄 Multi-Persona FAQ Merging\n",
    "\n",
    "This cell combines all persona-specific FAQ files into a single unified csv file.\n",
    "\n",
    "**What it does**:\n",
    "- Loads FAQs from all three persona files (aluno, professor, pesquisador)\n",
    "- Merges them into one comprehensive FAQ dataset\n",
    "\n",
    "**Output**: `unificado/faq.csv` with all personas combined\n"
   ]
  },
  {
   "cell_type": "code",
   "execution_count": 8,
   "id": "93878098",
   "metadata": {},
   "outputs": [
    {
     "name": "stdout",
     "output_type": "stream",
     "text": [
      "✅ Loaded 120 FAQs from faq_aluno.csv\n",
      "✅ Loaded 120 FAQs from faq_professor.csv\n",
      "✅ Loaded 120 FAQs from faq_pesquisador.csv\n",
      "\n",
      "📊 Merge Summary:\n",
      "📈 Total FAQs: 360\n",
      "👥 FAQs by persona:\n",
      "   - aluno: 120\n",
      "   - professor: 120\n",
      "   - pesquisador: 120\n",
      "🎓 FAQs by course:\n",
      "   - Bacharelado em Estatística: 360\n",
      "\n",
      "✅ Combined CSV saved to: projects\\myproj1\\ppp_best\\unificado\\faq.csv\n"
     ]
    }
   ],
   "source": [
    "# Merge all persona-specific FAQs into a single file\n",
    "\n",
    "# List of persona files to merge\n",
    "persona_files = [\"faq_aluno.csv\", \"faq_professor.csv\", \"faq_pesquisador.csv\"]\n",
    "all_faqs = []\n",
    "\n",
    "for file_name in persona_files:\n",
    "    file_path = unificado_dir / file_name\n",
    "    if file_path.exists():\n",
    "        df = pd.read_csv(file_path)\n",
    "        all_faqs.append(df)\n",
    "        print(f\"✅ Loaded {len(df)} FAQs from {file_name}\")\n",
    "    else:\n",
    "        print(f\"⚠️  File not found: {file_name}\")\n",
    "\n",
    "if all_faqs:\n",
    "    # Combine all DataFrames\n",
    "    merged_df = pd.concat(all_faqs, ignore_index=True)\n",
    "    \n",
    "    # Save merged file\n",
    "    merged_path = unificado_dir / \"faq.csv\"\n",
    "    merged_df.to_csv(merged_path, index=False, encoding=\"utf-8\")\n",
    "    \n",
    "    print(f\"\\n📊 Merge Summary:\")\n",
    "    print(f\"📈 Total FAQs: {len(merged_df)}\")\n",
    "    \n",
    "    # Show breakdown by persona\n",
    "    persona_counts = merged_df['persona'].value_counts()\n",
    "    print(f\"👥 FAQs by persona:\")\n",
    "    for persona, count in persona_counts.items():\n",
    "        print(f\"   - {persona}: {count}\")\n",
    "    \n",
    "    print(f\"🎓 FAQs by course:\")\n",
    "    course_counts = merged_df['course'].value_counts()\n",
    "    for course, count in course_counts.items():\n",
    "        print(f\"   - {course}: {count}\")\n",
    "        \n",
    "    print(f\"\\n✅ Combined CSV saved to: {merged_path}\")\n",
    "else:\n",
    "    print(\"❌ No FAQ files found to merge!\")\n"
   ]
  },
  {
   "cell_type": "markdown",
   "id": "63951bdd",
   "metadata": {},
   "source": [
    "## 🧠 Embedding Generation\n",
    "\n",
    "This cell creates vector embeddings for all FAQs to enable semantic search.\n",
    "\n",
    "**What it does**:\n",
    "- Converts FAQ text into numerical vector representations\n",
    "- Uses AI embedding models to capture semantic meaning\n",
    "- Enables similarity-based retrieval for RAG (Retrieval-Augmented Generation)\n",
    "- Saves embeddings for use in the search system\n",
    "\n",
    "**Output**: `embeddings.npy` file containing vector representations of all FAQs\n"
   ]
  },
  {
   "cell_type": "code",
   "execution_count": 6,
   "id": "50117236",
   "metadata": {},
   "outputs": [
    {
     "name": "stderr",
     "output_type": "stream",
     "text": [
      "Generating embeddings: 100%|██████████| 360/360 [00:13<00:00, 27.29it/s]\n"
     ]
    },
    {
     "name": "stdout",
     "output_type": "stream",
     "text": [
      "✅ Embeddings saved to: projects\\myproj1\\ppp_best\\unificado\n"
     ]
    },
    {
     "name": "stderr",
     "output_type": "stream",
     "text": [
      "Generating embeddings: 100%|██████████| 120/120 [00:03<00:00, 31.28it/s]"
     ]
    },
    {
     "name": "stdout",
     "output_type": "stream",
     "text": [
      "✅ Embeddings saved to: projects\\myproj1\\ppp_best\\individual\n"
     ]
    },
    {
     "name": "stderr",
     "output_type": "stream",
     "text": [
      "\n"
     ]
    }
   ],
   "source": [
    "# Generate embeddings only if the respective FAQ generation steps were executed\n",
    "if unificado_dir:\n",
    "    embed_faqs(config, unificado_dir)\n",
    "\n",
    "if individual_dir:\n",
    "    embed_faqs(config, individual_dir)"
   ]
  }
 ],
 "metadata": {
  "kernelspec": {
   "display_name": "Python 3",
   "language": "python",
   "name": "python3"
  },
  "language_info": {
   "codemirror_mode": {
    "name": "ipython",
    "version": 3
   },
   "file_extension": ".py",
   "mimetype": "text/x-python",
   "name": "python",
   "nbconvert_exporter": "python",
   "pygments_lexer": "ipython3",
   "version": "3.12.10"
  }
 },
 "nbformat": 4,
 "nbformat_minor": 5
}
