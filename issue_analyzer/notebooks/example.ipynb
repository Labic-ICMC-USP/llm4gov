{
  "cells": [
    {
      "cell_type": "markdown",
      "id": "8e06688a",
      "metadata": {
        "id": "8e06688a"
      },
      "source": [
        "# Issue Analyzer Tutorial\n",
        "This notebook shows how to install and use the `issue_analyzer` package."
      ]
    },
    {
      "cell_type": "markdown",
      "id": "73df654a",
      "metadata": {
        "id": "73df654a"
      },
      "source": [
        "## Installation\n",
        "To install the package locally, clone the repository and use:"
      ]
    },
    {
      "cell_type": "code",
      "execution_count": 1,
      "id": "ba45aa86",
      "metadata": {
        "colab": {
          "base_uri": "https://localhost:8080/"
        },
        "id": "ba45aa86",
        "outputId": "3fbd53af-8f67-484b-a4fe-6be1a6d2a38f"
      },
      "outputs": [
        {
          "output_type": "stream",
          "name": "stdout",
          "text": [
            "Found existing installation: issue_analyzer 0.1.0\n",
            "Uninstalling issue_analyzer-0.1.0:\n",
            "  Successfully uninstalled issue_analyzer-0.1.0\n"
          ]
        }
      ],
      "source": [
        "!git clone https://github.com/LABIC-ICMC-USP/llm4gov\n",
        "!cd llm4gov/issue_analyzer; pip install -e ."
      ]
    },
    {
      "cell_type": "markdown",
      "id": "19ff14e2",
      "metadata": {
        "id": "19ff14e2"
      },
      "source": [
        "## Configuration\n",
        "Make sure the file `config/llm_config.yaml` is correctly set up with your model, API key, and system prompt path."
      ]
    },
    {
      "cell_type": "markdown",
      "id": "581ad9f4",
      "metadata": {
        "id": "581ad9f4"
      },
      "source": [
        "## Using the Python API"
      ]
    },
    {
      "cell_type": "code",
      "source": [
        "import issue_analyzer"
      ],
      "metadata": {
        "id": "TBOgiRXRyDwq"
      },
      "id": "TBOgiRXRyDwq",
      "execution_count": 3,
      "outputs": []
    },
    {
      "cell_type": "code",
      "execution_count": 4,
      "id": "4a2768bb",
      "metadata": {
        "colab": {
          "base_uri": "https://localhost:8080/"
        },
        "id": "4a2768bb",
        "outputId": "c405302e-6f84-420c-958b-8f36475adb1b"
      },
      "outputs": [
        {
          "output_type": "stream",
          "name": "stdout",
          "text": [
            "id='issue_001' input_text='A fire broke out at the Petrobras refinery in Cubatão on July 2nd.' is_issue=True issue_analysis=IssueAnalysis(severity=Severity(level='high', justification='The incident involves a fire at a refinery, which poses significant risks to people, environment, and infrastructure.'), category=Category(label='Industrial Accident', confidence=0.9, keywords=['fire', 'refinery', 'accident']), type=IssueType(domain='Infrastructure', subcategory='Industrial Safety'), summary='A fire occurred at the Petrobras refinery in Cubatão.', impacted_entities=['Petrobras refinery', 'Cubatão'], likely_consequences=['Environmental damage', 'Risk to human life', 'Infrastructure damage']) named_entities=NamedEntities(persons=[], organizations=['Petrobras'], locations=['Cubatão'], dates=['July 2nd'], misc=[]) explanation=Explanation(steps=['Identified the incident as a fire at a refinery.', 'Determined the potential impact on people, environment, and infrastructure.', 'Classified the incident as an industrial accident.'], reasoning='The text describes a fire at a refinery, which is a clear indication of a negative issue with potential severe consequences.')\n"
          ]
        }
      ],
      "source": [
        "from issue_analyzer.analyzer import IssueAnalyzer\n",
        "import json\n",
        "\n",
        "analyzer = IssueAnalyzer()\n",
        "\n",
        "text = \"A fire broke out at the Petrobras refinery in Cubatão on July 2nd.\"\n",
        "result = analyzer.analyze(text)\n",
        "\n",
        "\n",
        "print(result)"
      ]
    },
    {
      "cell_type": "markdown",
      "id": "95aabf53",
      "metadata": {
        "id": "95aabf53"
      },
      "source": [
        "## Batch Processing with CLI\n",
        "You can also run the analyzer on a CSV file from the command line:"
      ]
    },
    {
      "cell_type": "code",
      "execution_count": 5,
      "id": "d4750628",
      "metadata": {
        "colab": {
          "base_uri": "https://localhost:8080/"
        },
        "id": "d4750628",
        "outputId": "92e076da-61e8-4911-e8c4-f22243ea8907"
      },
      "outputs": [
        {
          "output_type": "stream",
          "name": "stdout",
          "text": [
            "Analyzing ID: ex01...\n",
            "Analyzing ID: ex02...\n",
            "Analyzing ID: ex03...\n",
            "Analyzing ID: ex04...\n",
            "Analyzing ID: ex05...\n",
            "Analyzing ID: ex06...\n",
            "Analyzing ID: ex07...\n",
            "Analyzing ID: ex08...\n",
            "Analyzing ID: ex09...\n",
            "Analyzing ID: ex10...\n",
            "Analyzing ID: ex11...\n",
            "Analyzing ID: ex12...\n",
            "Analyzing ID: ex13...\n",
            "Analyzing ID: ex14...\n",
            "Analyzing ID: ex15...\n",
            "Analysis complete. Results saved to data/processed/results.json\n"
          ]
        }
      ],
      "source": [
        "!python cli.py data/raw/issues_examples.csv data/processed/results.json"
      ]
    },
    {
      "cell_type": "markdown",
      "id": "c3bb2e96",
      "metadata": {
        "id": "c3bb2e96"
      },
      "source": [
        "## Output Format\n",
        "The output is a JSON file containing a list of enriched issue analysis results. Each result includes classification, severity, named entities, reasoning, and metadata."
      ]
    }
  ],
  "metadata": {
    "colab": {
      "provenance": []
    },
    "language_info": {
      "name": "python"
    },
    "kernelspec": {
      "name": "python3",
      "display_name": "Python 3"
    }
  },
  "nbformat": 4,
  "nbformat_minor": 5
}